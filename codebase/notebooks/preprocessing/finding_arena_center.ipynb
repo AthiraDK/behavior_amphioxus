{
 "cells": [
  {
   "cell_type": "code",
   "execution_count": null,
   "id": "19cf7cc5",
   "metadata": {},
   "outputs": [],
   "source": [
    "import os\n",
    "import cv2\n",
    "import numpy as np"
   ]
  },
  {
   "cell_type": "code",
   "execution_count": null,
   "id": "8c70944b",
   "metadata": {},
   "outputs": [],
   "source": [
    "import pandas as pd"
   ]
  },
  {
   "cell_type": "code",
   "execution_count": null,
   "id": "d6c69df8",
   "metadata": {},
   "outputs": [],
   "source": [
    "def find_center(f):\n",
    "    cap = cv2.VideoCapture(f)\n",
    "    ret = True\n",
    "    \n",
    "    ret,frame = cap.read()\n",
    "    gray = cv2.cvtColor(frame, cv2.COLOR_RGB2GRAY)\n",
    "    #blur = cv2.GaussianBlur(gray, (5,5), 0)\n",
    "    blur = cv2.medianBlur(gray, 31)\n",
    "    circles = cv2.HoughCircles(blur, cv2.HOUGH_GRADIENT, 1, 1000, param1 = 5, param2 = 5, minRadius =200, maxRadius = 480)\n",
    "    circles = np.uint16(np.around(circles))\n",
    "    \n",
    "    avg = [circles[0,0,:]]\n",
    "    \n",
    "    n = 0\n",
    "    while ret == True and n <10:\n",
    "        ret,frame = cap.read()\n",
    "        gray = cv2.cvtColor(frame, cv2.COLOR_RGB2GRAY)\n",
    "    #    blur = cv2.GaussianBlur(gray, (5,5), 0)\n",
    "        blur = cv2.medianBlur(gray, 31)\n",
    "        circles = cv2.HoughCircles(blur, cv2.HOUGH_GRADIENT, 1, 1000, param1 = 1, param2 = 1, minRadius =300, maxRadius = 600)\n",
    "        circles = np.uint16(np.around(circles))\n",
    "        \n",
    "        avg.append(circles[0,0,:])\n",
    "        if len(avg) > 10:\n",
    "            avg = avg[-10:]\n",
    "        a = sum(avg)//len(avg)\n",
    "    \n",
    "\n",
    "        #cv2.imshow(\"Blurred\", blur)\n",
    "        n += 1\n",
    "        if cv2.waitKey(1) & 0xFF == ord('q'):\n",
    "            break\n",
    "    cap.release()\n",
    "    cv2.destroyAllWindows()\n",
    "    return a"
   ]
  },
  {
   "cell_type": "code",
   "execution_count": null,
   "id": "30df6d38",
   "metadata": {},
   "outputs": [],
   "source": [
    "df_meta = pd.read_pickle('../../../data/amphioxus_metadata_final500.pickle')"
   ]
  },
  {
   "cell_type": "code",
   "execution_count": null,
   "id": "6816cc71",
   "metadata": {},
   "outputs": [],
   "source": [
    "df_meta.columns"
   ]
  },
  {
   "cell_type": "code",
   "execution_count": null,
   "id": "2da6bd9d",
   "metadata": {},
   "outputs": [],
   "source": [
    "df_meta[['arena_x', 'arena_y', 'arena_r']] = df_meta['path_to_video'].apply(lambda x: find_center(x)).to_list()"
   ]
  },
  {
   "cell_type": "code",
   "execution_count": null,
   "id": "2510fdb1",
   "metadata": {},
   "outputs": [],
   "source": [
    "df_meta[['arena_x', 'arena_y', 'arena_r']]"
   ]
  },
  {
   "cell_type": "code",
   "execution_count": null,
   "id": "5cf77756",
   "metadata": {},
   "outputs": [],
   "source": [
    "df_meta.to_pickle('../../../data/amphioxus_metadata_arena.pickle')"
   ]
  },
  {
   "cell_type": "code",
   "execution_count": null,
   "id": "c504b19f",
   "metadata": {},
   "outputs": [],
   "source": [
    "find_center(df_meta ['path_to_video'][0])"
   ]
  },
  {
   "cell_type": "code",
   "execution_count": null,
   "id": "d4db2ecc",
   "metadata": {},
   "outputs": [],
   "source": [
    "find_center(df_meta ['path_to_video'][1])"
   ]
  },
  {
   "cell_type": "code",
   "execution_count": null,
   "id": "57c10e0e",
   "metadata": {},
   "outputs": [],
   "source": []
  }
 ],
 "metadata": {
  "kernelspec": {
   "display_name": "Python 3 (ipykernel)",
   "language": "python",
   "name": "python3"
  },
  "language_info": {
   "codemirror_mode": {
    "name": "ipython",
    "version": 3
   },
   "file_extension": ".py",
   "mimetype": "text/x-python",
   "name": "python",
   "nbconvert_exporter": "python",
   "pygments_lexer": "ipython3",
   "version": "3.8.10"
  },
  "toc": {
   "base_numbering": 1,
   "nav_menu": {},
   "number_sections": true,
   "sideBar": true,
   "skip_h1_title": false,
   "title_cell": "Table of Contents",
   "title_sidebar": "Contents",
   "toc_cell": false,
   "toc_position": {},
   "toc_section_display": true,
   "toc_window_display": false
  }
 },
 "nbformat": 4,
 "nbformat_minor": 5
}
