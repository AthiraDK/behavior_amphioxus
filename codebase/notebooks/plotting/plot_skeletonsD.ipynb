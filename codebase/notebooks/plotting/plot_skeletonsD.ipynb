{
 "cells": [
  {
   "cell_type": "code",
   "execution_count": null,
   "id": "a246708a",
   "metadata": {},
   "outputs": [],
   "source": [
    "import os\n",
    "import sys\n",
    "import random"
   ]
  },
  {
   "cell_type": "code",
   "execution_count": null,
   "id": "5f05e54b",
   "metadata": {},
   "outputs": [],
   "source": [
    "import numpy as np\n",
    "import pandas as pd"
   ]
  },
  {
   "cell_type": "code",
   "execution_count": null,
   "id": "80212d2b",
   "metadata": {},
   "outputs": [],
   "source": [
    "import matplotlib.pyplot as plt\n",
    "import seaborn as sns\n",
    "from matplotlib.collections import LineCollection"
   ]
  },
  {
   "cell_type": "code",
   "execution_count": null,
   "id": "17152dd5",
   "metadata": {},
   "outputs": [],
   "source": [
    "sys.path.append('../../utils/')"
   ]
  },
  {
   "cell_type": "code",
   "execution_count": null,
   "id": "61077099",
   "metadata": {},
   "outputs": [],
   "source": [
    "from dlc_helper import DLC_tracking\n",
    "from features import *\n",
    "from features_speed import *\n",
    "from preprocess_dlc import *"
   ]
  },
  {
   "cell_type": "code",
   "execution_count": null,
   "id": "9bfab7cc",
   "metadata": {},
   "outputs": [],
   "source": [
    "import ipywidgets.widgets as widgets\n",
    "from ipywidgets import interact, interact_manual"
   ]
  },
  {
   "cell_type": "code",
   "execution_count": null,
   "id": "59a5d2b9",
   "metadata": {},
   "outputs": [],
   "source": [
    "from scipy.signal import *"
   ]
  },
  {
   "cell_type": "markdown",
   "id": "c2353702",
   "metadata": {},
   "source": [
    "# Import results"
   ]
  },
  {
   "cell_type": "code",
   "execution_count": null,
   "id": "03e4b153",
   "metadata": {},
   "outputs": [],
   "source": [
    "df_results_control = pd.read_hdf('../../../results/UMAP_HDBSCANclustering_withWV_31072023_1135.h5')"
   ]
  },
  {
   "cell_type": "markdown",
   "id": "54ac5176",
   "metadata": {},
   "source": [
    "# Test: plot skeletons"
   ]
  },
  {
   "cell_type": "code",
   "execution_count": null,
   "id": "6d14ff4e",
   "metadata": {},
   "outputs": [],
   "source": [
    "df_meta = pd.read_pickle('../../../data/amphioxus_metadata_final500.pickle')"
   ]
  },
  {
   "cell_type": "code",
   "execution_count": null,
   "id": "a05fa59c",
   "metadata": {},
   "outputs": [],
   "source": [
    "filepaths = df_meta['dlc_result_file']\n",
    "len(filepaths)"
   ]
  },
  {
   "cell_type": "code",
   "execution_count": null,
   "id": "ac5c31b7",
   "metadata": {},
   "outputs": [],
   "source": [
    "@interact_manual\n",
    "def plot_skeleton_trajectory(fn=filepaths):\n",
    "    \n",
    "    # Read DLC data\n",
    "    dlc_folder, dlc_filename = os.path.split(fn)\n",
    "    dlc_obj = DLC_tracking(dlc_filename, dlc_folder)\n",
    "    \n",
    "    df_dorsal = dlc_obj.df_data.filter(regex='^(DT).*(x|y)$')\n",
    "    df_dorsal_filt = df_dorsal[df_dorsal.isna().sum(axis=1) < 5]\n",
    "    df_dorsal_x = df_dorsal_filt.filter(like='_x')\n",
    "    df_dorsal_y = df_dorsal_filt.filter(like='_y')\n",
    "    df_dorsal_interp_x = interpol_spatial(df_dorsal_x)\n",
    "    df_dorsal_interp_y = interpol_spatial(df_dorsal_y)\n",
    "    df_dorsal_x_fin = interpol_temporal(df_dorsal_interp_x)\n",
    "    df_dorsal_y_fin = interpol_temporal(df_dorsal_interp_y)\n",
    "    df_dorsal_fin = df_dorsal_x_fin.join(df_dorsal_y_fin)[df_dorsal.columns]\n",
    "    dorsal_xy_vals = df_dorsal_fin.values.reshape((-1,10,2))\n",
    "\n",
    "#     segments = np.hstack([dorsal_xy_vals[1:5:2000, :, :], dorsal_xy_vals[1:5:2001, :, :]])\n",
    "    \n",
    "    fig, axes = plt.subplots(1,2,figsize=(20,10))\n",
    "    for i in np.arange(0,5000, 50):\n",
    "        x_vals = dorsal_xy_vals[i, :,0]\n",
    "        y_vals = dorsal_xy_vals[i, :,1]\n",
    "        x_smooth = savgol_filter(x_vals, polyorder=3, window_length=7)\n",
    "        y_smooth = savgol_filter(y_vals, polyorder=3, window_length=7)\n",
    "        axes[0].plot(x_vals, y_vals, c='b')\n",
    "        axes[1].plot(x_smooth, y_smooth, c='b')\n",
    "    for ax in axes:\n",
    "        ax.set_aspect('equal')\n",
    "        "
   ]
  },
  {
   "cell_type": "markdown",
   "id": "89cb22c4",
   "metadata": {},
   "source": [
    "# "
   ]
  },
  {
   "cell_type": "code",
   "execution_count": null,
   "id": "0dbd9254",
   "metadata": {},
   "outputs": [],
   "source": [
    "c_pal = sns.color_palette('tab10', 10)\n",
    "c_dict = {i: c_pal[i+1] for i in [-1,0,1,2,3,4,5,6]}"
   ]
  },
  {
   "cell_type": "code",
   "execution_count": null,
   "id": "bd0cecfe",
   "metadata": {},
   "outputs": [],
   "source": [
    "@interact_manual\n",
    "def plot_skeletons_cluster(fn=filepaths):\n",
    "    print(fn)\n",
    "    \n",
    "    # Read DLC data\n",
    "    dlc_folder, dlc_filename = os.path.split(fn)\n",
    "    dlc_obj = DLC_tracking(dlc_filename, dlc_folder)\n",
    "    \n",
    "    df_dorsal = dlc_obj.df_data.filter(regex='^(D).*(x|y)$')\n",
    "    df_dorsal_filt = df_dorsal[df_dorsal.isna().sum(axis=1) < 5]\n",
    "    df_dorsal_x = df_dorsal_filt.filter(like='_x')\n",
    "    df_dorsal_y = df_dorsal_filt.filter(like='_y')\n",
    "    df_dorsal_interp_x = interpol_spatial(df_dorsal_x)\n",
    "    df_dorsal_interp_y = interpol_spatial(df_dorsal_y)\n",
    "    df_dorsal_x_fin = interpol_temporal(df_dorsal_interp_x)\n",
    "    df_dorsal_y_fin = interpol_temporal(df_dorsal_interp_y)\n",
    "    df_dorsal_fin = df_dorsal_x_fin.join(df_dorsal_y_fin)[df_dorsal.columns]\n",
    "    df_dorsal_fin = df_dorsal_fin.reindex_like(df_dorsal_filt)\n",
    "    df_dorsal_fin['frame'] = dlc_obj.df_data.loc[df_dorsal_filt.index, 'frame']\n",
    " \n",
    "    # Read clustering results\n",
    "    df_result_fn = df_results_control[df_results_control['dlc_result_file'] == fn]\n",
    "    \n",
    "    # data from clustering\n",
    "    df_cluster = df_dorsal_fin.merge(df_result_fn, on='frame', how='left')\n",
    "    df_cluster = df_cluster.loc[df_cluster['hdbscan_wv_scaled'].notna()]\n",
    "    clusters_ = [clus for clus in df_cluster['hdbscan_wv_scaled'].unique()]\n",
    "    df_cluster['hue'] = [c_dict[clus] for clus in df_cluster['hdbscan_wv_scaled']]\n",
    "\n",
    "    \n",
    "    fig, axes = plt.subplots(4,2,figsize=(10,20), sharex=True, sharey=True)\n",
    "    axes = axes.ravel()\n",
    "    \n",
    "    for i, (name, group) in enumerate(df_cluster.groupby('hdbscan_wv_scaled')):\n",
    "\n",
    "        clus_ind = int(name)\n",
    "        try:\n",
    "            sample_skels = group.sample(n=1000)\n",
    "            \n",
    "        except ValueError as ve:\n",
    "            total_samples = len(group.index)\n",
    "            sample_skels = group.sample(n=total_samples)\n",
    "            \n",
    "        n_samples = 0\n",
    "        for ind, row in sample_skels.iterrows():\n",
    "            \n",
    "            x_vals = row.filter(regex='^(D).*(x)$').values\n",
    "            y_vals = row.filter(regex='^(D).*(y)$').values\n",
    "            x_smooth = savgol_filter(x_vals, polyorder=3, window_length=13)\n",
    "            y_smooth = savgol_filter(y_vals, polyorder=3, window_length=13)\n",
    "            x_smooth_trans = x_smooth - x_smooth[0]\n",
    "            y_smooth_trans = y_smooth - y_smooth[0]\n",
    "            n_samples += 1\n",
    "            axes[clus_ind].plot(x_smooth_trans, y_smooth_trans, c=row['hue'])\n",
    "        \n",
    "        axes[clus_ind].set_aspect('equal')\n",
    "        axes[clus_ind].set_title(f'cluster_{name}_samples_{n_samples}')\n",
    "        "
   ]
  },
  {
   "cell_type": "code",
   "execution_count": null,
   "id": "681a2903",
   "metadata": {},
   "outputs": [],
   "source": [
    "from features import *"
   ]
  },
  {
   "cell_type": "code",
   "execution_count": null,
   "id": "06a640e6",
   "metadata": {},
   "outputs": [],
   "source": [
    "@interact_manual\n",
    "def plot_skeletons_cluster(fn=filepaths):\n",
    "    \n",
    "    # Read DLC data\n",
    "    dlc_folder, dlc_filename = os.path.split(fn)\n",
    "    dlc_obj = DLC_tracking(dlc_filename, dlc_folder)\n",
    "    \n",
    "    # Interpolate missing datapoints (ventral) if less than 2 ventral points are missing!\n",
    "    df_ventral = dlc_obj.df_data.filter(regex='^V.*(x|y)$')\n",
    "    df_ventral_filt = df_ventral[df_ventral.isna().sum(axis=1) == 0]\n",
    "    df_ventral_x = df_ventral_filt.filter(like='_x')\n",
    "    df_ventral_y = df_ventral_filt.filter(like='_y')\n",
    "    df_ventral_interp_x = interpol_spatial(df_ventral_x)\n",
    "    df_ventral_interp_y = interpol_spatial(df_ventral_y)\n",
    "    df_ventral_x_fin = interpol_temporal(df_ventral_interp_x)\n",
    "    df_ventral_y_fin = interpol_temporal(df_ventral_interp_y)\n",
    "    df_ventral_fin = df_ventral_x_fin.join(df_ventral_y_fin)[df_ventral.columns]\n",
    "    df_ventral_fin = df_ventral_fin.reindex_like(df_ventral_filt)\n",
    "    df_ventral_fin['frame'] = dlc_obj.df_data.loc[df_ventral_filt.index, 'frame']\n",
    " \n",
    "    # Read clustering results\n",
    "    df_result_fn = df_results_control[df_results_control['dlc_result_file'] == fn]\n",
    "    \n",
    "    # data from clustering\n",
    "    df_cluster = df_ventral_fin.merge(df_result_fn, on='frame', how='left')\n",
    "    df_cluster = df_cluster.loc[df_cluster['hdbscan_wv_scaled'].notna()]\n",
    "    clusters_ = [clus for clus in df_cluster['hdbscan_wv_scaled'].unique()]\n",
    "    df_cluster['hue'] = [c_dict[clus] for clus in df_cluster['hdbscan_wv_scaled']]\n",
    "\n",
    "    \n",
    "    fig, axes = plt.subplots(4,2,figsize=(10,20), sharex=True, sharey=True)\n",
    "    axes = axes.ravel()\n",
    "    \n",
    "    for i, (name, group) in enumerate(df_cluster.groupby('hdbscan_wv_scaled')):\n",
    "\n",
    "        clus_ind = int(name)\n",
    "        try:\n",
    "            sample_skels = group.sample(n=1000)\n",
    "            \n",
    "        except ValueError as ve:\n",
    "            total_samples = len(group.index)\n",
    "            sample_skels = group.sample(n=total_samples)\n",
    "            \n",
    "        n_samples = 0\n",
    "        \n",
    "        for ind, row in sample_skels.iterrows():\n",
    "            \n",
    "            x_vals = row.filter(regex='^(V).*(x)$').values\n",
    "            y_vals = row.filter(regex='^(V).*(y)$').values\n",
    "            x_smooth = savgol_filter(x_vals, polyorder=3, window_length=9)\n",
    "            y_smooth = savgol_filter(y_vals, polyorder=3, window_length=9)\n",
    "            x_smooth_trans = x_smooth - x_smooth[1]\n",
    "            y_smooth_trans = y_smooth - y_smooth[1]\n",
    "            xy_vals = np.zeros((1,x_vals.shape[0],2))\n",
    "            xy_vals[:,:,0] = x_smooth_trans\n",
    "            xy_vals[:,:,1] = y_smooth_trans\n",
    "            v_len = get_length(xy_vals, len_type='sum_point_to_point')\n",
    "            if v_len < 100:\n",
    "                n_samples += 1\n",
    "                axes[clus_ind].plot(x_smooth_trans, y_smooth_trans, c=row['hue'])\n",
    "        \n",
    "        axes[clus_ind].set_aspect('equal')\n",
    "        axes[clus_ind].set_title(f'cluster_{name}_samples_{n_samples}')\n",
    "        "
   ]
  },
  {
   "cell_type": "code",
   "execution_count": null,
   "id": "2fede626",
   "metadata": {},
   "outputs": [],
   "source": []
  }
 ],
 "metadata": {
  "kernelspec": {
   "display_name": "Python 3 (ipykernel)",
   "language": "python",
   "name": "python3"
  },
  "language_info": {
   "codemirror_mode": {
    "name": "ipython",
    "version": 3
   },
   "file_extension": ".py",
   "mimetype": "text/x-python",
   "name": "python",
   "nbconvert_exporter": "python",
   "pygments_lexer": "ipython3",
   "version": "3.8.10"
  },
  "toc": {
   "base_numbering": 1,
   "nav_menu": {},
   "number_sections": true,
   "sideBar": true,
   "skip_h1_title": false,
   "title_cell": "Table of Contents",
   "title_sidebar": "Contents",
   "toc_cell": false,
   "toc_position": {},
   "toc_section_display": true,
   "toc_window_display": false
  }
 },
 "nbformat": 4,
 "nbformat_minor": 5
}
