{
 "cells": [
  {
   "cell_type": "markdown",
   "id": "7f275bbd",
   "metadata": {},
   "source": [
    "This notebook contains the code for:\n",
    "- feature engineering \n",
    "- dimensionality reduction using UMAP\n",
    "- clustering using HDBSCAN"
   ]
  },
  {
   "cell_type": "code",
   "execution_count": 1,
   "id": "082ea4c0",
   "metadata": {},
   "outputs": [],
   "source": [
    "import numpy as np     \n",
    "import pandas as pd"
   ]
  },
  {
   "cell_type": "code",
   "execution_count": 2,
   "id": "1f1a5ea4",
   "metadata": {},
   "outputs": [],
   "source": [
    "import matplotlib.pyplot as plt\n",
    "import seaborn as sns"
   ]
  },
  {
   "cell_type": "code",
   "execution_count": 3,
   "id": "6a424a90",
   "metadata": {},
   "outputs": [],
   "source": [
    "import random"
   ]
  },
  {
   "cell_type": "code",
   "execution_count": 4,
   "id": "1af64f00",
   "metadata": {},
   "outputs": [],
   "source": [
    "import umap\n",
    "import hdbscan"
   ]
  },
  {
   "cell_type": "code",
   "execution_count": 5,
   "id": "b00f22aa",
   "metadata": {},
   "outputs": [],
   "source": [
    "import joblib \n",
    "from joblib import Parallel, delayed"
   ]
  },
  {
   "cell_type": "code",
   "execution_count": 6,
   "id": "bd544fb0",
   "metadata": {},
   "outputs": [],
   "source": [
    "from sklearn.decomposition import PCA"
   ]
  },
  {
   "cell_type": "code",
   "execution_count": 7,
   "id": "3f4ea291",
   "metadata": {},
   "outputs": [],
   "source": [
    "import sys\n",
    "sys.path.append('../utils/')"
   ]
  },
  {
   "cell_type": "code",
   "execution_count": 8,
   "id": "08302a5f",
   "metadata": {},
   "outputs": [],
   "source": [
    "from wavelets import get_wv_parameters, wv_transform"
   ]
  },
  {
   "cell_type": "markdown",
   "id": "6433a32b",
   "metadata": {},
   "source": [
    "# Load metadata"
   ]
  },
  {
   "cell_type": "code",
   "execution_count": 9,
   "id": "4e8d3691",
   "metadata": {},
   "outputs": [],
   "source": [
    "df_meta = pd.read_pickle('../../data/amphioxus_metadata_final500.pickle')"
   ]
  },
  {
   "cell_type": "code",
   "execution_count": 10,
   "id": "15855f84",
   "metadata": {},
   "outputs": [],
   "source": [
    "# create a filename column to match with the filename column in the dataset\n",
    "df_meta['filename'] = df_meta['filename_video'].apply(lambda x: x.split('.avi')[0])"
   ]
  },
  {
   "cell_type": "code",
   "execution_count": 11,
   "id": "4cd95b5d",
   "metadata": {},
   "outputs": [
    {
     "data": {
      "text/plain": [
       "500"
      ]
     },
     "execution_count": 11,
     "metadata": {},
     "output_type": "execute_result"
    }
   ],
   "source": [
    "len(df_meta.filename.unique())"
   ]
  },
  {
   "cell_type": "markdown",
   "id": "3765df0f",
   "metadata": {},
   "source": [
    "# Load the data (postural and kineamtic features computed from DLC tracking)"
   ]
  },
  {
   "cell_type": "code",
   "execution_count": 12,
   "id": "b75f5e03",
   "metadata": {},
   "outputs": [],
   "source": [
    "df = pd.read_hdf('../../results/featureset_v5_08082023.h5', key='features')"
   ]
  },
  {
   "cell_type": "markdown",
   "id": "a3319cf0",
   "metadata": {},
   "source": [
    "###  Thresholding ```speed_MOUTH```"
   ]
  },
  {
   "cell_type": "markdown",
   "id": "db455b60",
   "metadata": {},
   "source": [
    "This code should be moved under creation of the feature-dataset (under outlier removal)\n",
    "- This is should ideally be done while creating the feature dataset. \n",
    "Since the ```speed_MOUTH``` feature has not been previously processed for outlier detection, I am doing it here using simple thresholding\n"
   ]
  },
  {
   "cell_type": "code",
   "execution_count": 13,
   "id": "9728384c",
   "metadata": {},
   "outputs": [],
   "source": [
    "# df[df['speed_MOUTH'] < 50]['speed_MOUTH'].hist(bins=100)"
   ]
  },
  {
   "cell_type": "code",
   "execution_count": 14,
   "id": "92e9b6a5",
   "metadata": {},
   "outputs": [],
   "source": [
    "# df = df[(df['speed_MOUTH'].isna())|(df['speed_MOUTH'] < 20)]"
   ]
  },
  {
   "cell_type": "markdown",
   "id": "f352f36f",
   "metadata": {},
   "source": [
    "# Selecting features to be used for analysis"
   ]
  },
  {
   "cell_type": "markdown",
   "id": "47ed8aa2",
   "metadata": {},
   "source": [
    "## Speeds"
   ]
  },
  {
   "cell_type": "code",
   "execution_count": 15,
   "id": "6629f3a3",
   "metadata": {},
   "outputs": [
    {
     "data": {
      "text/plain": [
       "(3948425, 27)"
      ]
     },
     "execution_count": 15,
     "metadata": {},
     "output_type": "execute_result"
    }
   ],
   "source": [
    "df_speeds = df.filter(like='speed')\n",
    "df_speeds.shape"
   ]
  },
  {
   "cell_type": "code",
   "execution_count": 16,
   "id": "7b94e7c9",
   "metadata": {},
   "outputs": [
    {
     "name": "stderr",
     "output_type": "stream",
     "text": [
      "/tmp/ipykernel_2387495/3663971568.py:1: SettingWithCopyWarning: \n",
      "A value is trying to be set on a copy of a slice from a DataFrame.\n",
      "Try using .loc[row_indexer,col_indexer] = value instead\n",
      "\n",
      "See the caveats in the documentation: https://pandas.pydata.org/pandas-docs/stable/user_guide/indexing.html#returning-a-view-versus-a-copy\n",
      "  df_speeds[df_speeds['speed_MOUTH'].isna()] = -1\n",
      "/tmp/ipykernel_2387495/3663971568.py:1: SettingWithCopyWarning: \n",
      "A value is trying to be set on a copy of a slice from a DataFrame\n",
      "\n",
      "See the caveats in the documentation: https://pandas.pydata.org/pandas-docs/stable/user_guide/indexing.html#returning-a-view-versus-a-copy\n",
      "  df_speeds[df_speeds['speed_MOUTH'].isna()] = -1\n"
     ]
    }
   ],
   "source": [
    "df_speeds[df_speeds['speed_MOUTH'].isna()] = -1"
   ]
  },
  {
   "cell_type": "code",
   "execution_count": 17,
   "id": "3c1f61c4",
   "metadata": {},
   "outputs": [],
   "source": [
    "df_speeds = df_speeds.fillna(value=-5) # Nan masking"
   ]
  },
  {
   "cell_type": "markdown",
   "id": "2ebdde5a",
   "metadata": {},
   "source": [
    "## Using curvatures (curvatures have been computed for dorsal points only)"
   ]
  },
  {
   "cell_type": "code",
   "execution_count": 18,
   "id": "bc967f98",
   "metadata": {},
   "outputs": [
    {
     "data": {
      "text/plain": [
       "(3948425, 15)"
      ]
     },
     "execution_count": 18,
     "metadata": {},
     "output_type": "execute_result"
    }
   ],
   "source": [
    "df_curv = df.filter(like='curv')\n",
    "df_curv.shape"
   ]
  },
  {
   "cell_type": "markdown",
   "id": "1ad39a35",
   "metadata": {},
   "source": [
    "How to use curvatures in the analysis? \n",
    "- We would like to encode the temporal dynamics (how does the curvatures change along time?)\n",
    "- One obvious way to do it is to use wavelets which can encode multiresolution - spatial and temporal features\n",
    "- Then the question becomes, how do we use the curvatures? \n",
    "    1. Option 1: Compute wavelets for all 15 curvature points.\n",
    "    2. Option 2: First use PCA to capture much of the variance in curvatures. Will that suffice? "
   ]
  },
  {
   "cell_type": "markdown",
   "id": "17f55b07",
   "metadata": {},
   "source": [
    "### Try PCA ~ akin to eigen cionas, eigen worms etc"
   ]
  },
  {
   "cell_type": "code",
   "execution_count": 19,
   "id": "fddbfc56",
   "metadata": {},
   "outputs": [
    {
     "data": {
      "text/plain": [
       "(3948425, 15)"
      ]
     },
     "execution_count": 19,
     "metadata": {},
     "output_type": "execute_result"
    }
   ],
   "source": [
    "pca = PCA()\n",
    "pca_curv = pca.fit_transform(df_curv)\n",
    "pca_curv.shape"
   ]
  },
  {
   "cell_type": "code",
   "execution_count": 20,
   "id": "3ec3a71c",
   "metadata": {},
   "outputs": [
    {
     "data": {
      "text/plain": [
       "Text(0, 0.5, 'variance explained')"
      ]
     },
     "execution_count": 20,
     "metadata": {},
     "output_type": "execute_result"
    },
    {
     "data": {
      "image/png": "[encoded data removed]",
      "text/plain": [
       "<Figure size 432x288 with 1 Axes>"
      ]
     },
     "metadata": {
      "needs_background": "light"
     },
     "output_type": "display_data"
    }
   ],
   "source": [
    "plt.plot(np.cumsum(pca.explained_variance_ratio_))\n",
    "plt.xlabel('pca component')\n",
    "plt.ylabel('variance explained')"
   ]
  },
  {
   "cell_type": "code",
   "execution_count": 21,
   "id": "4f5d7472",
   "metadata": {},
   "outputs": [
    {
     "data": {
      "text/plain": [
       "array([0.47068966, 0.66389723, 0.79995104, 0.89763586, 0.95116686,\n",
       "       0.97087868, 0.98077276, 0.98620937, 0.99082476, 0.99399934,\n",
       "       0.99662775, 0.99839621, 0.99948425, 0.99983495, 1.        ])"
      ]
     },
     "execution_count": 21,
     "metadata": {},
     "output_type": "execute_result"
    }
   ],
   "source": [
    "np.cumsum(pca.explained_variance_ratio_)"
   ]
  },
  {
   "cell_type": "code",
   "execution_count": 22,
   "id": "acfee03c",
   "metadata": {},
   "outputs": [
    {
     "data": {
      "text/plain": [
       "(array([0, 1, 2, 3, 4, 5]),)"
      ]
     },
     "execution_count": 22,
     "metadata": {},
     "output_type": "execute_result"
    }
   ],
   "source": [
    "np.where(np.cumsum(pca.explained_variance_ratio_)<0.98)"
   ]
  },
  {
   "cell_type": "markdown",
   "id": "1c24863a",
   "metadata": {},
   "source": [
    "if we use the first 6 pca components, it can explain > 97% of the variance in the data"
   ]
  },
  {
   "cell_type": "code",
   "execution_count": null,
   "id": "9b0d905f",
   "metadata": {},
   "outputs": [],
   "source": [
    "for i in range(6):\n",
    "    df[f'pca_{i}'] = pca_curv[:,i]"
   ]
  },
  {
   "cell_type": "markdown",
   "id": "4c335df6",
   "metadata": {},
   "source": [
    "### Compute wavelet transforms"
   ]
  },
  {
   "cell_type": "code",
   "execution_count": null,
   "id": "08438f31",
   "metadata": {},
   "outputs": [],
   "source": [
    "# Wavelet features has to be computed for each file\n",
    "\n",
    "df_files = df.groupby(by = 'filename')\n",
    "\n",
    "df_pca_feats = []\n",
    "pca_feats = [f'pca_{i}' for i in range(6)]\n",
    "\n",
    "for fn, group in df_files:\n",
    "    df_pca_feats.append(group.filter(items = pca_feats + ['filename', 'frame']))"
   ]
  },
  {
   "cell_type": "code",
   "execution_count": null,
   "id": "8912d807",
   "metadata": {},
   "outputs": [],
   "source": [
    "omg0, widths = get_wv_parameters()"
   ]
  },
  {
   "cell_type": "code",
   "execution_count": null,
   "id": "f4a56b42",
   "metadata": {},
   "outputs": [],
   "source": [
    "df_wv_transforms = Parallel(n_jobs=40, verbose = 5)(delayed(wv_transform)(df, widths, omg0) \n",
    "                                                for df in df_pca_feats)"
   ]
  },
  {
   "cell_type": "code",
   "execution_count": null,
   "id": "0deb76ea",
   "metadata": {},
   "outputs": [],
   "source": [
    "df_wavelets = pd.concat(df_wv_transforms)"
   ]
  },
  {
   "cell_type": "code",
   "execution_count": null,
   "id": "754484e2",
   "metadata": {},
   "outputs": [],
   "source": [
    "df_wavelets.shape"
   ]
  },
  {
   "cell_type": "markdown",
   "id": "870f64d1",
   "metadata": {},
   "source": [
    "# UMAP"
   ]
  },
  {
   "cell_type": "markdown",
   "id": "82d7e4a9",
   "metadata": {},
   "source": [
    "## for speeds"
   ]
  },
  {
   "cell_type": "code",
   "execution_count": 23,
   "id": "61e83c80",
   "metadata": {},
   "outputs": [],
   "source": [
    "reducer_speeds = umap.UMAP(n_jobs=40) # assuming euclidean metrics will do fine"
   ]
  },
  {
   "cell_type": "code",
   "execution_count": null,
   "id": "e1d57563",
   "metadata": {},
   "outputs": [],
   "source": [
    "embedding_speeds = reducer_speeds.fit_transform(df_speeds.values)\n",
    "embedding_speeds.shape"
   ]
  },
  {
   "cell_type": "code",
   "execution_count": null,
   "id": "8ad10ac4",
   "metadata": {},
   "outputs": [],
   "source": [
    "fn_model_speeds = f'../../results/umap_model_speeds_10082023a_all.joblib'\n",
    "joblib.dump(reducer_speeds, fn_model_speeds)"
   ]
  },
  {
   "cell_type": "code",
   "execution_count": null,
   "id": "dd2c6d43",
   "metadata": {},
   "outputs": [],
   "source": [
    "fig, axes = plt.subplots(1,1, figsize=(15,7))\n",
    "axes.scatter(embedding_speeds[:, 0],embedding_speeds[:, 1], s=0.2)\n",
    "axes.set_aspect('equal')"
   ]
  },
  {
   "cell_type": "code",
   "execution_count": null,
   "id": "3b991a57",
   "metadata": {},
   "outputs": [],
   "source": [
    "fig, axes = plt.subplots(3,3, figsize=(15,15), sharex=True)\n",
    "axes= axes.ravel()\n",
    "axes[0].scatter(embedding_speeds[:, 0],embedding_speeds[:, 1], s=0.2)\n",
    "\n",
    "hue_feats = {'mouth': df['speed_MOUTH'],\n",
    "             'quirkiness': df['quirkiness'],\n",
    "             'mean_dorsal_speeds': df.filter(like='speed_D').mean(axis=1),\n",
    "             'mean_ventral_speeds': df.filter(like='speed_V').mean(axis=1),\n",
    "             'mean_speeds': df.filter(like='speed_').mean(axis=1),\n",
    "#              'length': df['len_sum_of_parts'],\n",
    "             'mean_curv': df.filter(like='curv').abs().mean(axis=1),\n",
    "             'speed_NT': df['speed_NT'],\n",
    "            }\n",
    "\n",
    "for i, key_hue in enumerate(hue_feats.keys()):\n",
    "    axes[i+1].scatter(embedding_speeds[:, 0],embedding_speeds[:, 1], c= hue_feats[key_hue], s=0.2)\n",
    "    axes[i+1].set_title(key_hue)\n",
    "for ax in axes:  \n",
    "    ax.set_aspect('equal', 'datalim')\n",
    "fig.savefig('../../results/umap_speeds_10082023a.png')"
   ]
  },
  {
   "cell_type": "markdown",
   "id": "9e95456b",
   "metadata": {},
   "source": [
    "## for wavelets (curvatures)"
   ]
  },
  {
   "cell_type": "code",
   "execution_count": null,
   "id": "5735c1a5",
   "metadata": {},
   "outputs": [],
   "source": [
    "reducer_wavelets = umap.UMAP(n_jobs=40)"
   ]
  },
  {
   "cell_type": "code",
   "execution_count": null,
   "id": "43a5e4a4",
   "metadata": {},
   "outputs": [],
   "source": [
    "embedding_wavelets = reducer_wavelets.fit_transform(df_wavelets.filter(like='wv').values)\n",
    "embedding_wavelets.shape"
   ]
  },
  {
   "cell_type": "code",
   "execution_count": null,
   "id": "09679478",
   "metadata": {},
   "outputs": [],
   "source": [
    "fn_model_wavelets = f'../../results/umap_model_wavelets_09082023_all.joblib'\n",
    "joblib.dump(reducer_wavelets, fn_model_wavelets)"
   ]
  },
  {
   "cell_type": "code",
   "execution_count": null,
   "id": "db533215",
   "metadata": {},
   "outputs": [],
   "source": [
    "fig, axes = plt.subplots(1,1, figsize=(15,7))\n",
    "axes.scatter(embedding_wavelets[:, 0],embedding_wavelets[:, 1], s=0.2)\n",
    "axes.set_aspect('equal')"
   ]
  },
  {
   "cell_type": "code",
   "execution_count": null,
   "id": "cab23165",
   "metadata": {},
   "outputs": [],
   "source": [
    "fig, axes = plt.subplots(3,3, figsize=(15,15), sharex=True)\n",
    "axes= axes.ravel()\n",
    "axes[0].scatter(embedding_wavelets[:, 0],embedding_wavelets[:, 1], s=0.2)\n",
    "\n",
    "hue_feats = {'mouth': df['speed_MOUTH'],\n",
    "             'quirkiness': df['quirkiness'],\n",
    "             'mean_dorsal_speeds': df.filter(like='speed_D').mean(axis=1),\n",
    "             'mean_ventral_speeds': df.filter(like='speed_V').mean(axis=1),\n",
    "             'mean_speeds': df.filter(like='speed_').mean(axis=1),\n",
    "#              'length': df['len_sum_of_parts'],\n",
    "             'mean_curv': df.filter(like='curv').abs().mean(axis=1),\n",
    "             'speed_NT': df['speed_NT'],\n",
    "            }\n",
    "\n",
    "for i, key_hue in enumerate(hue_feats.keys()):\n",
    "    axes[i+1].scatter(embedding_wavelets[:, 0],embedding_wavelets[:, 1], c= hue_feats[key_hue], s=0.2)\n",
    "    axes[i+1].set_title(key_hue)\n",
    "for ax in axes:  \n",
    "    ax.set_aspect('equal', 'datalim')\n",
    "fig.savefig('../../results/umap_wavelets_09082023.png')"
   ]
  },
  {
   "cell_type": "code",
   "execution_count": null,
   "id": "5a082509",
   "metadata": {},
   "outputs": [],
   "source": []
  }
 ],
 "metadata": {
  "kernelspec": {
   "display_name": "Python 3 (ipykernel)",
   "language": "python",
   "name": "python3"
  },
  "language_info": {
   "codemirror_mode": {
    "name": "ipython",
    "version": 3
   },
   "file_extension": ".py",
   "mimetype": "text/x-python",
   "name": "python",
   "nbconvert_exporter": "python",
   "pygments_lexer": "ipython3",
   "version": "3.8.10"
  },
  "toc": {
   "base_numbering": 1,
   "nav_menu": {},
   "number_sections": true,
   "sideBar": true,
   "skip_h1_title": false,
   "title_cell": "Table of Contents",
   "title_sidebar": "Contents",
   "toc_cell": false,
   "toc_position": {},
   "toc_section_display": true,
   "toc_window_display": false
  }
 },
 "nbformat": 4,
 "nbformat_minor": 5
}
