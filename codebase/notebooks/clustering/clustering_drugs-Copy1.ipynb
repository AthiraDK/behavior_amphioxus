{
 "cells": [
  {
   "cell_type": "code",
   "execution_count": 1,
   "id": "b03b93d6",
   "metadata": {},
   "outputs": [],
   "source": [
    "import os\n",
    "import sys"
   ]
  },
  {
   "cell_type": "code",
   "execution_count": 2,
   "id": "2fc28e6a",
   "metadata": {},
   "outputs": [],
   "source": [
    "import numpy as np\n",
    "import pandas as pd"
   ]
  },
  {
   "cell_type": "code",
   "execution_count": 3,
   "id": "f79050b1",
   "metadata": {},
   "outputs": [],
   "source": [
    "import matplotlib.pyplot as plt\n",
    "import seaborn as sns"
   ]
  },
  {
   "cell_type": "code",
   "execution_count": 4,
   "id": "aaafdb11",
   "metadata": {},
   "outputs": [],
   "source": [
    "import umap\n",
    "import hdbscan"
   ]
  },
  {
   "cell_type": "code",
   "execution_count": 5,
   "id": "3428ac81",
   "metadata": {},
   "outputs": [],
   "source": [
    "import tqdm"
   ]
  },
  {
   "cell_type": "code",
   "execution_count": 6,
   "id": "6b92ec0d",
   "metadata": {},
   "outputs": [],
   "source": [
    "from sklearn.preprocessing import MinMaxScaler, Normalizer"
   ]
  },
  {
   "cell_type": "code",
   "execution_count": 7,
   "id": "f1731fac",
   "metadata": {},
   "outputs": [],
   "source": [
    "import joblib\n",
    "from joblib import Parallel, delayed"
   ]
  },
  {
   "cell_type": "code",
   "execution_count": 8,
   "id": "86ccf483",
   "metadata": {},
   "outputs": [],
   "source": [
    "from sklearn.decomposition import PCA\n",
    "from sklearn.manifold import TSNE"
   ]
  },
  {
   "cell_type": "code",
   "execution_count": 9,
   "id": "b7880a56",
   "metadata": {},
   "outputs": [],
   "source": [
    "from scipy import signal"
   ]
  },
  {
   "cell_type": "markdown",
   "id": "baa10f88",
   "metadata": {},
   "source": [
    "# Load the umap models fit on control dataset"
   ]
  },
  {
   "cell_type": "code",
   "execution_count": 10,
   "id": "7d14b58b",
   "metadata": {},
   "outputs": [],
   "source": [
    "fn_umap_speeds = f'../../results/umap_model_29072023_v1.joblib'\n",
    "fn_umap_wavelets = f'../../results/umap_wavelets_model_31072023.joblib'"
   ]
  },
  {
   "cell_type": "code",
   "execution_count": 11,
   "id": "a3c34ede",
   "metadata": {},
   "outputs": [],
   "source": [
    "model_umap_speeds = joblib.load(fn_umap_speeds)\n",
    "model_umap_wavelets = joblib.load(fn_umap_wavelets)"
   ]
  },
  {
   "cell_type": "markdown",
   "id": "dd0e3e13",
   "metadata": {},
   "source": [
    "# Load the drugs data"
   ]
  },
  {
   "cell_type": "markdown",
   "id": "8108e47e",
   "metadata": {},
   "source": [
    "## Load metadata"
   ]
  },
  {
   "cell_type": "code",
   "execution_count": 15,
   "id": "026b2207",
   "metadata": {},
   "outputs": [],
   "source": [
    "df_meta = pd.read_pickle('../../data/amphioxus_metadata_final500.pickle')"
   ]
  },
  {
   "cell_type": "code",
   "execution_count": 16,
   "id": "7d254bbe",
   "metadata": {},
   "outputs": [],
   "source": [
    "# create a filename column to match with the filename column in the dataset\n",
    "df_meta['filename'] = df_meta['filename_video'].apply(lambda x: x.split('.avi')[0])"
   ]
  },
  {
   "cell_type": "code",
   "execution_count": 17,
   "id": "55cc9843",
   "metadata": {},
   "outputs": [
    {
     "data": {
      "text/plain": [
       "Index(['path_to_video', 'filename_video', 'date', 'time', 'light', 'drugs',\n",
       "       'duration', 'age', 'stim_on', 'stim_off', 'stim_RGB', 'dlc_result_file',\n",
       "       'filename'],\n",
       "      dtype='object')"
      ]
     },
     "execution_count": 17,
     "metadata": {},
     "output_type": "execute_result"
    }
   ],
   "source": [
    "df_meta.columns"
   ]
  },
  {
   "cell_type": "code",
   "execution_count": 18,
   "id": "8e2c4a13",
   "metadata": {},
   "outputs": [
    {
     "data": {
      "text/plain": [
       "array(['None', 'Light'], dtype=object)"
      ]
     },
     "execution_count": 18,
     "metadata": {},
     "output_type": "execute_result"
    }
   ],
   "source": [
    "df_meta.light.unique()"
   ]
  },
  {
   "cell_type": "markdown",
   "id": "b5073bbc",
   "metadata": {},
   "source": [
    "## Load feature data"
   ]
  },
  {
   "cell_type": "code",
   "execution_count": 19,
   "id": "1c732a96",
   "metadata": {},
   "outputs": [],
   "source": [
    "df = pd.read_hdf('../../results/featureset_v4_29072023.h5', key='features')"
   ]
  },
  {
   "cell_type": "code",
   "execution_count": 20,
   "id": "aa547417",
   "metadata": {},
   "outputs": [],
   "source": [
    "# threshold speed mouth \n",
    "df = df[(df['speed_MOUTH'].isna())|(df['speed_MOUTH'] < 20)]"
   ]
  },
  {
   "cell_type": "code",
   "execution_count": 21,
   "id": "7e3373ea",
   "metadata": {},
   "outputs": [],
   "source": [
    "df_merged = df.merge(df_meta, how='left', on='filename')"
   ]
  },
  {
   "cell_type": "code",
   "execution_count": 22,
   "id": "cda7c13b",
   "metadata": {},
   "outputs": [],
   "source": [
    "df_drugs = df_merged[(df_merged['age'] > 50)&(df_merged['drugs']!='none')&(df_merged['light']=='None')]"
   ]
  },
  {
   "cell_type": "code",
   "execution_count": 23,
   "id": "69fd421d",
   "metadata": {},
   "outputs": [],
   "source": [
    "df_light = df_merged[(df_merged['drugs']=='none')&((df_merged['light']=='Light'))]"
   ]
  },
  {
   "cell_type": "code",
   "execution_count": 24,
   "id": "9b86cbe2",
   "metadata": {},
   "outputs": [],
   "source": [
    "df_young = df_merged[(df_merged['age'] < 50)&(df_merged['drugs']=='none')&(df_merged['light']=='None')]"
   ]
  },
  {
   "cell_type": "code",
   "execution_count": 25,
   "id": "8e871900",
   "metadata": {},
   "outputs": [
    {
     "data": {
      "text/plain": [
       "497"
      ]
     },
     "execution_count": 25,
     "metadata": {},
     "output_type": "execute_result"
    }
   ],
   "source": [
    "len(df_merged.filename.unique())"
   ]
  },
  {
   "cell_type": "code",
   "execution_count": 26,
   "id": "aa23d9ba",
   "metadata": {},
   "outputs": [
    {
     "data": {
      "text/plain": [
       "224"
      ]
     },
     "execution_count": 26,
     "metadata": {},
     "output_type": "execute_result"
    }
   ],
   "source": [
    "len(df_drugs.filename.unique())"
   ]
  },
  {
   "cell_type": "code",
   "execution_count": 27,
   "id": "cc9723c3",
   "metadata": {},
   "outputs": [
    {
     "data": {
      "text/plain": [
       "37"
      ]
     },
     "execution_count": 27,
     "metadata": {},
     "output_type": "execute_result"
    }
   ],
   "source": [
    "len(df_light.filename.unique())"
   ]
  },
  {
   "cell_type": "code",
   "execution_count": 28,
   "id": "8925051c",
   "metadata": {},
   "outputs": [
    {
     "data": {
      "text/plain": [
       "12"
      ]
     },
     "execution_count": 28,
     "metadata": {},
     "output_type": "execute_result"
    }
   ],
   "source": [
    "len(df_young.filename.unique())"
   ]
  },
  {
   "cell_type": "code",
   "execution_count": 29,
   "id": "836d991c",
   "metadata": {},
   "outputs": [],
   "source": [
    "cols_speed = list(df_merged.filter(like='speed').columns)\n",
    "feats_to_use = cols_speed"
   ]
  },
  {
   "cell_type": "markdown",
   "id": "9db77b2d",
   "metadata": {},
   "source": [
    "### Drugs"
   ]
  },
  {
   "cell_type": "code",
   "execution_count": 30,
   "id": "962f4625",
   "metadata": {},
   "outputs": [
    {
     "data": {
      "text/plain": [
       "array(['SNAP-5114', '2-AminoEthylHydrogenSulfate', 'Dihydrokainic acid'],\n",
       "      dtype=object)"
      ]
     },
     "execution_count": 30,
     "metadata": {},
     "output_type": "execute_result"
    }
   ],
   "source": [
    "df_drugs.drugs.unique()"
   ]
  },
  {
   "cell_type": "code",
   "execution_count": 31,
   "id": "48304630",
   "metadata": {},
   "outputs": [
    {
     "data": {
      "text/plain": [
       "drugs\n",
       "2-AminoEthylHydrogenSulfate     62\n",
       "Dihydrokainic acid             109\n",
       "SNAP-5114                       53\n",
       "Name: filename, dtype: int64"
      ]
     },
     "execution_count": 31,
     "metadata": {},
     "output_type": "execute_result"
    }
   ],
   "source": [
    "df_drugs.groupby('drugs')['filename'].nunique()"
   ]
  },
  {
   "cell_type": "markdown",
   "id": "888e79fb",
   "metadata": {},
   "source": [
    "#### using speeds"
   ]
  },
  {
   "cell_type": "code",
   "execution_count": 33,
   "id": "a087a49b",
   "metadata": {},
   "outputs": [],
   "source": [
    "df_drugs_in_speeds = df_drugs[feats_to_use]"
   ]
  },
  {
   "cell_type": "code",
   "execution_count": 34,
   "id": "34399d15",
   "metadata": {},
   "outputs": [],
   "source": [
    "df_drugs_in_speeds = df_drugs_in_speeds.fillna(-1)"
   ]
  },
  {
   "cell_type": "markdown",
   "id": "9f93da89",
   "metadata": {},
   "source": [
    "#### using curvatures"
   ]
  },
  {
   "cell_type": "code",
   "execution_count": 35,
   "id": "9c97e1bd",
   "metadata": {},
   "outputs": [
    {
     "data": {
      "text/html": [
       "<div>\n",
       "<style scoped>\n",
       "    .dataframe tbody tr th:only-of-type {\n",
       "        vertical-align: middle;\n",
       "    }\n",
       "\n",
       "    .dataframe tbody tr th {\n",
       "        vertical-align: top;\n",
       "    }\n",
       "\n",
       "    .dataframe thead th {\n",
       "        text-align: right;\n",
       "    }\n",
       "</style>\n",
       "<table border=\"1\" class=\"dataframe\">\n",
       "  <thead>\n",
       "    <tr style=\"text-align: right;\">\n",
       "      <th></th>\n",
       "      <th>curv_NT</th>\n",
       "      <th>curv_DH1</th>\n",
       "      <th>curv_DH2</th>\n",
       "      <th>curv_DNP</th>\n",
       "      <th>curv_DTP1</th>\n",
       "      <th>curv_DTP2</th>\n",
       "      <th>curv_DTP3</th>\n",
       "      <th>curv_DTP4</th>\n",
       "      <th>curv_DTP5</th>\n",
       "      <th>curv_DTP6</th>\n",
       "      <th>curv_DTP7</th>\n",
       "      <th>curv_DTP8</th>\n",
       "      <th>curv_DTP9</th>\n",
       "      <th>curv_DTP10</th>\n",
       "      <th>curv_TT</th>\n",
       "    </tr>\n",
       "  </thead>\n",
       "  <tbody>\n",
       "    <tr>\n",
       "      <th>153340</th>\n",
       "      <td>0.013380</td>\n",
       "      <td>0.009219</td>\n",
       "      <td>0.009076</td>\n",
       "      <td>0.005172</td>\n",
       "      <td>0.002113</td>\n",
       "      <td>-0.000195</td>\n",
       "      <td>-0.003139</td>\n",
       "      <td>0.004987</td>\n",
       "      <td>0.006574</td>\n",
       "      <td>-0.000283</td>\n",
       "      <td>-0.002878</td>\n",
       "      <td>-0.008611</td>\n",
       "      <td>-0.008452</td>\n",
       "      <td>-0.003661</td>\n",
       "      <td>-0.015665</td>\n",
       "    </tr>\n",
       "    <tr>\n",
       "      <th>153341</th>\n",
       "      <td>0.008837</td>\n",
       "      <td>0.009898</td>\n",
       "      <td>0.009605</td>\n",
       "      <td>0.008805</td>\n",
       "      <td>0.008939</td>\n",
       "      <td>-0.003009</td>\n",
       "      <td>-0.002129</td>\n",
       "      <td>0.000417</td>\n",
       "      <td>0.002854</td>\n",
       "      <td>0.006816</td>\n",
       "      <td>0.006886</td>\n",
       "      <td>0.007832</td>\n",
       "      <td>0.009816</td>\n",
       "      <td>0.003130</td>\n",
       "      <td>-0.002718</td>\n",
       "    </tr>\n",
       "    <tr>\n",
       "      <th>153342</th>\n",
       "      <td>0.010357</td>\n",
       "      <td>0.008353</td>\n",
       "      <td>0.008875</td>\n",
       "      <td>0.008603</td>\n",
       "      <td>0.008995</td>\n",
       "      <td>-0.001119</td>\n",
       "      <td>0.000541</td>\n",
       "      <td>0.001855</td>\n",
       "      <td>0.002350</td>\n",
       "      <td>0.004407</td>\n",
       "      <td>0.010736</td>\n",
       "      <td>0.015750</td>\n",
       "      <td>0.023295</td>\n",
       "      <td>0.028004</td>\n",
       "      <td>0.046040</td>\n",
       "    </tr>\n",
       "    <tr>\n",
       "      <th>153343</th>\n",
       "      <td>0.009862</td>\n",
       "      <td>0.008674</td>\n",
       "      <td>0.009495</td>\n",
       "      <td>0.009537</td>\n",
       "      <td>0.009932</td>\n",
       "      <td>-0.000706</td>\n",
       "      <td>-0.000209</td>\n",
       "      <td>0.000348</td>\n",
       "      <td>0.000953</td>\n",
       "      <td>0.003805</td>\n",
       "      <td>0.005585</td>\n",
       "      <td>0.006664</td>\n",
       "      <td>0.008826</td>\n",
       "      <td>0.002393</td>\n",
       "      <td>-0.009292</td>\n",
       "    </tr>\n",
       "    <tr>\n",
       "      <th>153344</th>\n",
       "      <td>0.009487</td>\n",
       "      <td>0.008736</td>\n",
       "      <td>0.009922</td>\n",
       "      <td>0.009537</td>\n",
       "      <td>0.010057</td>\n",
       "      <td>-0.001396</td>\n",
       "      <td>-0.000692</td>\n",
       "      <td>0.000020</td>\n",
       "      <td>0.001600</td>\n",
       "      <td>0.005250</td>\n",
       "      <td>0.012083</td>\n",
       "      <td>0.017239</td>\n",
       "      <td>0.025667</td>\n",
       "      <td>0.030416</td>\n",
       "      <td>0.051598</td>\n",
       "    </tr>\n",
       "    <tr>\n",
       "      <th>...</th>\n",
       "      <td>...</td>\n",
       "      <td>...</td>\n",
       "      <td>...</td>\n",
       "      <td>...</td>\n",
       "      <td>...</td>\n",
       "      <td>...</td>\n",
       "      <td>...</td>\n",
       "      <td>...</td>\n",
       "      <td>...</td>\n",
       "      <td>...</td>\n",
       "      <td>...</td>\n",
       "      <td>...</td>\n",
       "      <td>...</td>\n",
       "      <td>...</td>\n",
       "      <td>...</td>\n",
       "    </tr>\n",
       "    <tr>\n",
       "      <th>4846183</th>\n",
       "      <td>0.021333</td>\n",
       "      <td>0.027936</td>\n",
       "      <td>0.046264</td>\n",
       "      <td>0.031860</td>\n",
       "      <td>0.035355</td>\n",
       "      <td>0.010524</td>\n",
       "      <td>0.001607</td>\n",
       "      <td>0.030915</td>\n",
       "      <td>0.024820</td>\n",
       "      <td>0.023326</td>\n",
       "      <td>0.013283</td>\n",
       "      <td>-0.018896</td>\n",
       "      <td>-0.015744</td>\n",
       "      <td>-0.053510</td>\n",
       "      <td>-0.057289</td>\n",
       "    </tr>\n",
       "    <tr>\n",
       "      <th>4846184</th>\n",
       "      <td>0.029519</td>\n",
       "      <td>0.034929</td>\n",
       "      <td>0.056841</td>\n",
       "      <td>0.035523</td>\n",
       "      <td>0.037640</td>\n",
       "      <td>0.003005</td>\n",
       "      <td>-0.011638</td>\n",
       "      <td>0.021358</td>\n",
       "      <td>0.027889</td>\n",
       "      <td>0.026526</td>\n",
       "      <td>0.021663</td>\n",
       "      <td>-0.017021</td>\n",
       "      <td>-0.003190</td>\n",
       "      <td>-0.017222</td>\n",
       "      <td>-0.058838</td>\n",
       "    </tr>\n",
       "    <tr>\n",
       "      <th>4846185</th>\n",
       "      <td>0.019415</td>\n",
       "      <td>0.022215</td>\n",
       "      <td>0.025758</td>\n",
       "      <td>0.033281</td>\n",
       "      <td>0.051620</td>\n",
       "      <td>0.046796</td>\n",
       "      <td>0.013669</td>\n",
       "      <td>0.026086</td>\n",
       "      <td>0.008567</td>\n",
       "      <td>-0.002281</td>\n",
       "      <td>-0.014983</td>\n",
       "      <td>-0.030599</td>\n",
       "      <td>-0.026739</td>\n",
       "      <td>-0.046361</td>\n",
       "      <td>-0.137057</td>\n",
       "    </tr>\n",
       "    <tr>\n",
       "      <th>4846186</th>\n",
       "      <td>0.026801</td>\n",
       "      <td>0.027433</td>\n",
       "      <td>0.044836</td>\n",
       "      <td>0.034619</td>\n",
       "      <td>0.036923</td>\n",
       "      <td>0.017941</td>\n",
       "      <td>0.002590</td>\n",
       "      <td>0.025001</td>\n",
       "      <td>0.013343</td>\n",
       "      <td>0.008279</td>\n",
       "      <td>0.001342</td>\n",
       "      <td>-0.020221</td>\n",
       "      <td>-0.011377</td>\n",
       "      <td>-0.016699</td>\n",
       "      <td>-0.056658</td>\n",
       "    </tr>\n",
       "    <tr>\n",
       "      <th>4846187</th>\n",
       "      <td>-0.009755</td>\n",
       "      <td>0.031716</td>\n",
       "      <td>0.043361</td>\n",
       "      <td>0.053548</td>\n",
       "      <td>0.063370</td>\n",
       "      <td>0.045520</td>\n",
       "      <td>0.012005</td>\n",
       "      <td>0.010408</td>\n",
       "      <td>0.010169</td>\n",
       "      <td>0.000335</td>\n",
       "      <td>-0.014363</td>\n",
       "      <td>-0.027636</td>\n",
       "      <td>-0.020836</td>\n",
       "      <td>-0.034547</td>\n",
       "      <td>-0.098440</td>\n",
       "    </tr>\n",
       "  </tbody>\n",
       "</table>\n",
       "<p>2339253 rows × 15 columns</p>\n",
       "</div>"
      ],
      "text/plain": [
       "          curv_NT  curv_DH1  curv_DH2  curv_DNP  curv_DTP1  curv_DTP2  \\\n",
       "153340   0.013380  0.009219  0.009076  0.005172   0.002113  -0.000195   \n",
       "153341   0.008837  0.009898  0.009605  0.008805   0.008939  -0.003009   \n",
       "153342   0.010357  0.008353  0.008875  0.008603   0.008995  -0.001119   \n",
       "153343   0.009862  0.008674  0.009495  0.009537   0.009932  -0.000706   \n",
       "153344   0.009487  0.008736  0.009922  0.009537   0.010057  -0.001396   \n",
       "...           ...       ...       ...       ...        ...        ...   \n",
       "4846183  0.021333  0.027936  0.046264  0.031860   0.035355   0.010524   \n",
       "4846184  0.029519  0.034929  0.056841  0.035523   0.037640   0.003005   \n",
       "4846185  0.019415  0.022215  0.025758  0.033281   0.051620   0.046796   \n",
       "4846186  0.026801  0.027433  0.044836  0.034619   0.036923   0.017941   \n",
       "4846187 -0.009755  0.031716  0.043361  0.053548   0.063370   0.045520   \n",
       "\n",
       "         curv_DTP3  curv_DTP4  curv_DTP5  curv_DTP6  curv_DTP7  curv_DTP8  \\\n",
       "153340   -0.003139   0.004987   0.006574  -0.000283  -0.002878  -0.008611   \n",
       "153341   -0.002129   0.000417   0.002854   0.006816   0.006886   0.007832   \n",
       "153342    0.000541   0.001855   0.002350   0.004407   0.010736   0.015750   \n",
       "153343   -0.000209   0.000348   0.000953   0.003805   0.005585   0.006664   \n",
       "153344   -0.000692   0.000020   0.001600   0.005250   0.012083   0.017239   \n",
       "...            ...        ...        ...        ...        ...        ...   \n",
       "4846183   0.001607   0.030915   0.024820   0.023326   0.013283  -0.018896   \n",
       "4846184  -0.011638   0.021358   0.027889   0.026526   0.021663  -0.017021   \n",
       "4846185   0.013669   0.026086   0.008567  -0.002281  -0.014983  -0.030599   \n",
       "4846186   0.002590   0.025001   0.013343   0.008279   0.001342  -0.020221   \n",
       "4846187   0.012005   0.010408   0.010169   0.000335  -0.014363  -0.027636   \n",
       "\n",
       "         curv_DTP9  curv_DTP10   curv_TT  \n",
       "153340   -0.008452   -0.003661 -0.015665  \n",
       "153341    0.009816    0.003130 -0.002718  \n",
       "153342    0.023295    0.028004  0.046040  \n",
       "153343    0.008826    0.002393 -0.009292  \n",
       "153344    0.025667    0.030416  0.051598  \n",
       "...            ...         ...       ...  \n",
       "4846183  -0.015744   -0.053510 -0.057289  \n",
       "4846184  -0.003190   -0.017222 -0.058838  \n",
       "4846185  -0.026739   -0.046361 -0.137057  \n",
       "4846186  -0.011377   -0.016699 -0.056658  \n",
       "4846187  -0.020836   -0.034547 -0.098440  \n",
       "\n",
       "[2339253 rows x 15 columns]"
      ]
     },
     "execution_count": 35,
     "metadata": {},
     "output_type": "execute_result"
    }
   ],
   "source": [
    "df_drugs_curv = df_drugs.filter(like='curv')\n",
    "df_drugs_curv"
   ]
  },
  {
   "cell_type": "code",
   "execution_count": 36,
   "id": "a9c481f4",
   "metadata": {},
   "outputs": [],
   "source": [
    "pca = PCA()\n",
    "pca_drugs_curv = pca.fit_transform(df_drugs_curv)"
   ]
  },
  {
   "cell_type": "code",
   "execution_count": null,
   "id": "07c31171",
   "metadata": {},
   "outputs": [],
   "source": [
    "plt.plot(np.cumsum(pca.explained_variance_ratio_))"
   ]
  },
  {
   "cell_type": "markdown",
   "id": "97a3e9c9",
   "metadata": {},
   "source": [
    "### Light"
   ]
  },
  {
   "cell_type": "code",
   "execution_count": null,
   "id": "dbc2c6bb",
   "metadata": {},
   "outputs": [],
   "source": [
    "df_light.stim_RGB.unique()"
   ]
  },
  {
   "cell_type": "code",
   "execution_count": null,
   "id": "413f6321",
   "metadata": {},
   "outputs": [],
   "source": [
    "df_light.groupby('stim_RGB')['filename'].nunique()"
   ]
  },
  {
   "cell_type": "markdown",
   "id": "24f67622",
   "metadata": {},
   "source": [
    "# Find the UMAP projections"
   ]
  },
  {
   "cell_type": "code",
   "execution_count": null,
   "id": "5cb8f327",
   "metadata": {},
   "outputs": [],
   "source": [
    "df_results = pd.read_hdf('../../results/UMAP_HDBSCANclustering_19072023_1230.h5', key='features_with_results')"
   ]
  },
  {
   "cell_type": "code",
   "execution_count": null,
   "id": "9ae7c657",
   "metadata": {},
   "outputs": [],
   "source": [
    "embedding =  df_results.filter(like = 'umap_raw').values\n",
    "embedding.shape"
   ]
  },
  {
   "cell_type": "markdown",
   "id": "a059401a",
   "metadata": {},
   "source": [
    "## Drugs"
   ]
  },
  {
   "cell_type": "code",
   "execution_count": null,
   "id": "de0cb521",
   "metadata": {},
   "outputs": [],
   "source": [
    "embedding_drugs = {}"
   ]
  },
  {
   "cell_type": "code",
   "execution_count": null,
   "id": "13b7bfeb",
   "metadata": {},
   "outputs": [],
   "source": [
    "for i, (name, group) in enumerate(df_drugs.groupby('drugs')):\n",
    "    \n",
    "    group_in = group[feats_to_use]\n",
    "    group_in = group_in.fillna(-1)\n",
    "    embedding_drugs[name] = loaded_reducer.transform(group_in.values)"
   ]
  },
  {
   "cell_type": "code",
   "execution_count": null,
   "id": "bfa1927f",
   "metadata": {},
   "outputs": [],
   "source": [
    "embedding_drugs.keys()"
   ]
  },
  {
   "cell_type": "code",
   "execution_count": null,
   "id": "9dcc584d",
   "metadata": {},
   "outputs": [],
   "source": [
    "fig, axes = plt.subplots(1,4, figsize=(32,7))\n",
    "axes= axes.ravel()\n",
    "\n",
    "axes[0].scatter(embedding[:, 0],embedding[:, 1], s=0.2)\n",
    "axes[0].set_title('Control')\n",
    "\n",
    "for i, key in enumerate(embedding_drugs.keys()):\n",
    "    \n",
    "    axes[i+1].scatter(embedding_drugs[key][:, 0],embedding_drugs[key][:, 1], s=0.2)\n",
    "    axes[i+1].set_title(key)"
   ]
  },
  {
   "cell_type": "code",
   "execution_count": null,
   "id": "d653e5ac",
   "metadata": {},
   "outputs": [],
   "source": [
    "fig, axes = plt.subplots(1,4, figsize=(32,7))\n",
    "axes= axes.ravel()\n",
    "\n",
    "axes[0].hist2d(embedding[:, 0],embedding[:, 1], bins=(150,150), density=True)\n",
    "axes[0].set_title('Control')\n",
    "\n",
    "for i, key in enumerate(embedding_drugs.keys()):\n",
    "    \n",
    "    axes[i+1].hist2d(embedding_drugs[key][:, 0],embedding_drugs[key][:, 1], bins=(150,150), density=True)\n",
    "    axes[i+1].set_title(key)"
   ]
  },
  {
   "cell_type": "markdown",
   "id": "313fe9a6",
   "metadata": {
    "heading_collapsed": true
   },
   "source": [
    "## Light"
   ]
  },
  {
   "cell_type": "code",
   "execution_count": null,
   "id": "4b142169",
   "metadata": {
    "hidden": true
   },
   "outputs": [],
   "source": [
    "embedding_light = {}"
   ]
  },
  {
   "cell_type": "code",
   "execution_count": null,
   "id": "013bdcef",
   "metadata": {
    "hidden": true
   },
   "outputs": [],
   "source": [
    "for i, (name, group) in tqdm.tqdm(enumerate(df_light.groupby('stim_RGB'))):\n",
    "    \n",
    "    group_in = group[feats_to_use]\n",
    "    group_in = group_in.fillna(-1)\n",
    "    embedding_light[name] = loaded_reducer.transform(group_in.values)"
   ]
  },
  {
   "cell_type": "code",
   "execution_count": null,
   "id": "6a6fd5fb",
   "metadata": {
    "hidden": true
   },
   "outputs": [],
   "source": [
    "embedding_light.keys()"
   ]
  },
  {
   "cell_type": "code",
   "execution_count": null,
   "id": "529a1361",
   "metadata": {
    "hidden": true
   },
   "outputs": [],
   "source": [
    "fig, axes = plt.subplots(1,4, figsize=(32,7))\n",
    "axes= axes.ravel()\n",
    "\n",
    "axes[0].scatter(embedding[:, 0],embedding[:, 1], s=0.2)\n",
    "axes[0].set_title('Control')\n",
    "\n",
    "for i, key in enumerate(embedding_light.keys()):\n",
    "    \n",
    "    if key != 'v0310000':\n",
    "    \n",
    "        axes[i+1].scatter(embedding_light[key][:, 0],embedding_light[key][:, 1], s=0.2)\n",
    "        axes[i+1].set_title(key)"
   ]
  },
  {
   "cell_type": "code",
   "execution_count": null,
   "id": "95b365bb",
   "metadata": {
    "hidden": true
   },
   "outputs": [],
   "source": [
    "fig, axes = plt.subplots(1,4, figsize=(32,7), sharex=True, sharey=True)\n",
    "axes= axes.ravel()\n",
    "\n",
    "axes[0].hist2d(embedding[:, 0],embedding[:, 1], bins=(150,150), density=True)\n",
    "axes[0].set_title('Control')\n",
    "\n",
    "for i, key in enumerate(embedding_light.keys()):\n",
    "    if key != 'v0310000':\n",
    "    \n",
    "        axes[i+1].hist2d(embedding_light[key][:, 0],embedding_light[key][:, 1], bins=(150,150), density=True)\n",
    "        axes[i+1].set_title(key)"
   ]
  },
  {
   "cell_type": "markdown",
   "id": "0fd5bcb4",
   "metadata": {},
   "source": [
    "## Age"
   ]
  },
  {
   "cell_type": "code",
   "execution_count": null,
   "id": "b885a760",
   "metadata": {},
   "outputs": [],
   "source": [
    "df_young_in = df_young[feats_to_use]\n",
    "df_young_in = df_young_in.fillna(-1)"
   ]
  },
  {
   "cell_type": "code",
   "execution_count": null,
   "id": "aac7b7a0",
   "metadata": {},
   "outputs": [],
   "source": [
    "embedding_age = loaded_reducer.transform(df_young_in.values)"
   ]
  },
  {
   "cell_type": "code",
   "execution_count": null,
   "id": "c6e5ed90",
   "metadata": {},
   "outputs": [],
   "source": [
    "fig, axes = plt.subplots(1,2, figsize=(15,7))\n",
    "axes[0].scatter(embedding[:, 0],embedding[:, 1], s=0.2)\n",
    "axes[0].set_title('Control')\n",
    "axes[1].scatter(embedding_age[:, 0],embedding_age[:, 1], s=0.2)\n",
    "axes[1].set_title('Young larvae')"
   ]
  },
  {
   "cell_type": "code",
   "execution_count": null,
   "id": "9a9c7762",
   "metadata": {},
   "outputs": [],
   "source": [
    "fig, axes = plt.subplots(1,2, figsize=(15,7))\n",
    "axes= axes.ravel()\n",
    "\n",
    "axes[0].hist2d(embedding[:, 0],embedding[:, 1], bins=(150,150), density=True)\n",
    "axes[0].set_title('Control')\n",
    "\n",
    "    \n",
    "axes[1].hist2d(embedding_age[:, 0],embedding_age[:, 1], bins=(150,150), density=True)\n",
    "axes[1].set_title('Young larvae')"
   ]
  },
  {
   "cell_type": "code",
   "execution_count": null,
   "id": "f04758e8",
   "metadata": {},
   "outputs": [],
   "source": []
  }
 ],
 "metadata": {
  "kernelspec": {
   "display_name": "Python 3 (ipykernel)",
   "language": "python",
   "name": "python3"
  },
  "language_info": {
   "codemirror_mode": {
    "name": "ipython",
    "version": 3
   },
   "file_extension": ".py",
   "mimetype": "text/x-python",
   "name": "python",
   "nbconvert_exporter": "python",
   "pygments_lexer": "ipython3",
   "version": "3.8.10"
  },
  "toc": {
   "base_numbering": 1,
   "nav_menu": {},
   "number_sections": true,
   "sideBar": true,
   "skip_h1_title": false,
   "title_cell": "Table of Contents",
   "title_sidebar": "Contents",
   "toc_cell": false,
   "toc_position": {},
   "toc_section_display": true,
   "toc_window_display": false
  }
 },
 "nbformat": 4,
 "nbformat_minor": 5
}
