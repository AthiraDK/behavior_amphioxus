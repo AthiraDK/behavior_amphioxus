{
 "cells": [
  {
   "cell_type": "markdown",
   "id": "7f275bbd",
   "metadata": {},
   "source": [
    "This notebook contains the code for:\n",
    "- feature engineering \n",
    "- dimensionality reduction using UMAP\n",
    "- clustering using HDBSCAN"
   ]
  },
  {
   "cell_type": "code",
   "execution_count": null,
   "id": "082ea4c0",
   "metadata": {},
   "outputs": [],
   "source": [
    "import numpy as np     \n",
    "import pandas as pd"
   ]
  },
  {
   "cell_type": "code",
   "execution_count": null,
   "id": "1f1a5ea4",
   "metadata": {},
   "outputs": [],
   "source": [
    "import matplotlib.pyplot as plt\n",
    "import seaborn as sns"
   ]
  },
  {
   "cell_type": "code",
   "execution_count": null,
   "id": "6a424a90",
   "metadata": {},
   "outputs": [],
   "source": [
    "import random"
   ]
  },
  {
   "cell_type": "code",
   "execution_count": null,
   "id": "1af64f00",
   "metadata": {},
   "outputs": [],
   "source": [
    "import umap\n",
    "import hdbscan"
   ]
  },
  {
   "cell_type": "code",
   "execution_count": null,
   "id": "b00f22aa",
   "metadata": {},
   "outputs": [],
   "source": [
    "import joblib \n",
    "from joblib import Parallel, delayed"
   ]
  },
  {
   "cell_type": "code",
   "execution_count": null,
   "id": "bd544fb0",
   "metadata": {},
   "outputs": [],
   "source": [
    "from sklearn.decomposition import PCA"
   ]
  },
  {
   "cell_type": "code",
   "execution_count": null,
   "id": "3f4ea291",
   "metadata": {},
   "outputs": [],
   "source": [
    "import sys\n",
    "sys.path.append('../../utils/')"
   ]
  },
  {
   "cell_type": "code",
   "execution_count": null,
   "id": "08302a5f",
   "metadata": {},
   "outputs": [],
   "source": [
    "from wavelets import get_wv_parameters, wv_transform"
   ]
  },
  {
   "cell_type": "code",
   "execution_count": null,
   "id": "5da5de62",
   "metadata": {},
   "outputs": [],
   "source": [
    "from sklearn.preprocessing import MinMaxScaler"
   ]
  },
  {
   "cell_type": "markdown",
   "id": "6433a32b",
   "metadata": {},
   "source": [
    "# Load metadata"
   ]
  },
  {
   "cell_type": "code",
   "execution_count": null,
   "id": "4e8d3691",
   "metadata": {},
   "outputs": [],
   "source": [
    "df_meta = pd.read_pickle('../../../data/amphioxus_metadata_final500.pickle')"
   ]
  },
  {
   "cell_type": "code",
   "execution_count": null,
   "id": "15855f84",
   "metadata": {},
   "outputs": [],
   "source": [
    "# create a filename column to match with the filename column in the dataset\n",
    "df_meta['filename'] = df_meta['filename_video'].apply(lambda x: x.split('.avi')[0])"
   ]
  },
  {
   "cell_type": "code",
   "execution_count": null,
   "id": "4cd95b5d",
   "metadata": {},
   "outputs": [],
   "source": [
    "len(df_meta.filename.unique())"
   ]
  },
  {
   "cell_type": "markdown",
   "id": "3765df0f",
   "metadata": {},
   "source": [
    "# Load the data (postural and kineamtic features computed from DLC tracking)"
   ]
  },
  {
   "cell_type": "code",
   "execution_count": null,
   "id": "b75f5e03",
   "metadata": {},
   "outputs": [],
   "source": [
    "df = pd.read_hdf('../../../results/featureset_v5_08082023.h5', key='features')"
   ]
  },
  {
   "cell_type": "markdown",
   "id": "1511db4e",
   "metadata": {},
   "source": [
    "# Get features from wildtype (control) animals"
   ]
  },
  {
   "cell_type": "code",
   "execution_count": null,
   "id": "a5e53b2a",
   "metadata": {},
   "outputs": [],
   "source": [
    "df_merged = df.merge(df_meta, how='left', on='filename')"
   ]
  },
  {
   "cell_type": "code",
   "execution_count": null,
   "id": "eb55d06e",
   "metadata": {},
   "outputs": [],
   "source": [
    "df_control = df_merged[(df_merged['age'] > 50)&(df_merged['drugs']=='none')&(df_merged['light']=='None')]"
   ]
  },
  {
   "cell_type": "code",
   "execution_count": null,
   "id": "190840c3",
   "metadata": {},
   "outputs": [],
   "source": [
    "df_control.shape"
   ]
  },
  {
   "cell_type": "code",
   "execution_count": null,
   "id": "99a6d0c7",
   "metadata": {},
   "outputs": [],
   "source": [
    "print(f'Number of control/ wildtype videos :{len(df_control.filename.unique())}')"
   ]
  },
  {
   "cell_type": "markdown",
   "id": "f352f36f",
   "metadata": {},
   "source": [
    "# Selecting features to be used for analysis"
   ]
  },
  {
   "cell_type": "markdown",
   "id": "47ed8aa2",
   "metadata": {},
   "source": [
    "## Speeds"
   ]
  },
  {
   "cell_type": "code",
   "execution_count": null,
   "id": "6629f3a3",
   "metadata": {},
   "outputs": [],
   "source": [
    "df_speeds = df_control.filter(like='speed')\n",
    "df_speeds.shape"
   ]
  },
  {
   "cell_type": "code",
   "execution_count": null,
   "id": "3c1f61c4",
   "metadata": {},
   "outputs": [],
   "source": [
    "df_speeds = df_speeds.fillna(value=-1) # Nan masking"
   ]
  },
  {
   "cell_type": "code",
   "execution_count": null,
   "id": "eef0a257",
   "metadata": {},
   "outputs": [],
   "source": [
    "df_speeds.shape"
   ]
  },
  {
   "cell_type": "code",
   "execution_count": null,
   "id": "34d0e601",
   "metadata": {},
   "outputs": [],
   "source": [
    "df_speeds.to_pickle('/data/temp/athira/speed_array_for_tsne_testing_control.pickle')"
   ]
  },
  {
   "cell_type": "markdown",
   "id": "2ebdde5a",
   "metadata": {},
   "source": [
    "## Using curvatures (curvatures have been computed for dorsal points only)"
   ]
  },
  {
   "cell_type": "code",
   "execution_count": null,
   "id": "bc967f98",
   "metadata": {},
   "outputs": [],
   "source": [
    "df_curv = df_control.filter(like='curv')\n",
    "df_curv.shape"
   ]
  },
  {
   "cell_type": "markdown",
   "id": "1ad39a35",
   "metadata": {},
   "source": [
    "How to use curvatures in the analysis? \n",
    "- We would like to encode the temporal dynamics (how does the curvatures change along time?)\n",
    "- One obvious way to do it is to use wavelets which can encode multiresolution - spatial and temporal features\n",
    "- Then the question becomes, how do we use the curvatures? \n",
    "    1. Option 1: Compute wavelets for all 15 curvature points.\n",
    "    2. Option 2: First use PCA to capture much of the variance in curvatures. Will that suffice? "
   ]
  },
  {
   "cell_type": "markdown",
   "id": "17f55b07",
   "metadata": {},
   "source": [
    "### Try PCA ~ akin to eigen cionas, eigen worms etc"
   ]
  },
  {
   "cell_type": "code",
   "execution_count": null,
   "id": "fddbfc56",
   "metadata": {},
   "outputs": [],
   "source": [
    "pca = PCA()\n",
    "pca_curv = pca.fit_transform(df_curv)\n",
    "pca_curv.shape"
   ]
  },
  {
   "cell_type": "code",
   "execution_count": null,
   "id": "3ec3a71c",
   "metadata": {},
   "outputs": [],
   "source": [
    "plt.plot(np.cumsum(pca.explained_variance_ratio_))\n",
    "plt.xlabel('pca component')\n",
    "plt.ylabel('variance explained')"
   ]
  },
  {
   "cell_type": "code",
   "execution_count": null,
   "id": "4f5d7472",
   "metadata": {},
   "outputs": [],
   "source": [
    "np.cumsum(pca.explained_variance_ratio_)"
   ]
  },
  {
   "cell_type": "code",
   "execution_count": null,
   "id": "acfee03c",
   "metadata": {},
   "outputs": [],
   "source": [
    "np.where(np.cumsum(pca.explained_variance_ratio_)<0.98)"
   ]
  },
  {
   "cell_type": "markdown",
   "id": "1c24863a",
   "metadata": {},
   "source": [
    "if we use the first 6 pca components, it can explain > 97% of the variance in the data"
   ]
  },
  {
   "cell_type": "code",
   "execution_count": null,
   "id": "9b0d905f",
   "metadata": {},
   "outputs": [],
   "source": [
    "for i in range(6):\n",
    "    df_control[f'pca_{i}'] = pca_curv[:,i]"
   ]
  },
  {
   "cell_type": "markdown",
   "id": "4c335df6",
   "metadata": {},
   "source": [
    "### Compute wavelet transforms"
   ]
  },
  {
   "cell_type": "code",
   "execution_count": null,
   "id": "08438f31",
   "metadata": {},
   "outputs": [],
   "source": [
    "# Wavelet features has to be computed for each file\n",
    "\n",
    "df_files = df_control.groupby(by = 'filename')\n",
    "\n",
    "df_pca_feats = []\n",
    "pca_feats = [f'pca_{i}' for i in range(6)]\n",
    "\n",
    "for fn, group in df_files:\n",
    "    df_pca_feats.append(group.filter(items = pca_feats + ['filename', 'frame']))"
   ]
  },
  {
   "cell_type": "code",
   "execution_count": null,
   "id": "8912d807",
   "metadata": {},
   "outputs": [],
   "source": [
    "omg0, widths = get_wv_parameters()"
   ]
  },
  {
   "cell_type": "code",
   "execution_count": null,
   "id": "f4a56b42",
   "metadata": {},
   "outputs": [],
   "source": [
    "df_wv_transforms = Parallel(n_jobs=40, verbose = 5)(delayed(wv_transform)(df, widths, omg0) \n",
    "                                                for df in df_pca_feats)"
   ]
  },
  {
   "cell_type": "code",
   "execution_count": null,
   "id": "0deb76ea",
   "metadata": {},
   "outputs": [],
   "source": [
    "df_wavelets = pd.concat(df_wv_transforms)"
   ]
  },
  {
   "cell_type": "code",
   "execution_count": null,
   "id": "754484e2",
   "metadata": {},
   "outputs": [],
   "source": [
    "df_wavelets.shape"
   ]
  },
  {
   "cell_type": "markdown",
   "id": "870f64d1",
   "metadata": {},
   "source": [
    "# UMAP"
   ]
  },
  {
   "cell_type": "markdown",
   "id": "82d7e4a9",
   "metadata": {},
   "source": [
    "## for speeds"
   ]
  },
  {
   "cell_type": "code",
   "execution_count": null,
   "id": "61e83c80",
   "metadata": {},
   "outputs": [],
   "source": [
    "reducer_speeds = umap.UMAP(n_jobs=40) # assuming euclidean metrics will do fine"
   ]
  },
  {
   "cell_type": "code",
   "execution_count": null,
   "id": "e1d57563",
   "metadata": {},
   "outputs": [],
   "source": [
    "embedding_speeds = reducer_speeds.fit_transform(df_speeds.values)\n",
    "embedding_speeds.shape"
   ]
  },
  {
   "cell_type": "code",
   "execution_count": null,
   "id": "8ad10ac4",
   "metadata": {},
   "outputs": [],
   "source": [
    "fn_model_speeds = f'../../../results/umap_model_speeds_17082023_all.joblib'\n",
    "joblib.dump(reducer_speeds, fn_model_speeds)"
   ]
  },
  {
   "cell_type": "code",
   "execution_count": null,
   "id": "dd2c6d43",
   "metadata": {},
   "outputs": [],
   "source": [
    "fig, axes = plt.subplots(1,1, figsize=(15,7))\n",
    "axes.scatter(embedding_speeds[:, 0],embedding_speeds[:, 1], s=0.2)\n",
    "axes.set_aspect('equal')"
   ]
  },
  {
   "cell_type": "code",
   "execution_count": null,
   "id": "3b991a57",
   "metadata": {},
   "outputs": [],
   "source": [
    "fig, axes = plt.subplots(3,3, figsize=(15,15), sharex=True)\n",
    "axes= axes.ravel()\n",
    "axes[0].scatter(embedding_speeds[:, 0],embedding_speeds[:, 1], s=0.2)\n",
    "\n",
    "hue_feats = {'mouth': df['speed_MOUTH'],\n",
    "             'quirkiness': df['quirkiness'],\n",
    "             'mean_dorsal_speeds': df.filter(like='speed_D').mean(axis=1),\n",
    "             'mean_ventral_speeds': df.filter(like='speed_V').mean(axis=1),\n",
    "             'mean_ventral_speeds': df.filter(like='speed_V').mean(axis=1),\n",
    "             'mean_speeds': df.filter(like='speed_').mean(axis=1),\n",
    "#              'length': df['len_sum_of_parts'],\n",
    "             'mean_curv': df.filter(like='curv').abs().mean(axis=1),\n",
    "             'speed_NT': df['speed_NT'],\n",
    "            }\n",
    "\n",
    "for i, key_hue in enumerate(hue_feats.keys()):\n",
    "    axes[i+1].scatter(embedding_speeds[:, 0],embedding_speeds[:, 1], c= hue_feats[key_hue], s=0.2)\n",
    "    axes[i+1].set_title(key_hue)\n",
    "for ax in axes:  \n",
    "    ax.set_aspect('equal')\n",
    "fig.savefig('../../../results/umap_speeds_25082023_all.png')"
   ]
  },
  {
   "cell_type": "markdown",
   "id": "9e95456b",
   "metadata": {},
   "source": [
    "## for wavelets (curvatures)"
   ]
  },
  {
   "cell_type": "code",
   "execution_count": null,
   "id": "552d116e",
   "metadata": {},
   "outputs": [],
   "source": [
    "df_wavelets.filter(like='wv').shape"
   ]
  },
  {
   "cell_type": "code",
   "execution_count": null,
   "id": "5735c1a5",
   "metadata": {},
   "outputs": [],
   "source": [
    "reducer_wavelets = umap.UMAP(n_jobs=40)"
   ]
  },
  {
   "cell_type": "code",
   "execution_count": null,
   "id": "43a5e4a4",
   "metadata": {},
   "outputs": [],
   "source": [
    "embedding_wavelets = reducer_wavelets.fit_transform(df_wavelets.filter(like='wv').values)\n",
    "embedding_wavelets.shape"
   ]
  },
  {
   "cell_type": "code",
   "execution_count": null,
   "id": "09679478",
   "metadata": {},
   "outputs": [],
   "source": [
    "fn_model_wavelets = f'../../../results/umap_model_wavelets_18082023_all.joblib'\n",
    "joblib.dump(reducer_wavelets, fn_model_wavelets)"
   ]
  },
  {
   "cell_type": "code",
   "execution_count": null,
   "id": "db533215",
   "metadata": {},
   "outputs": [],
   "source": [
    "fig, axes = plt.subplots(1,1, figsize=(15,7))\n",
    "axes.scatter(embedding_wavelets[:, 0],embedding_wavelets[:, 1], s=0.2)\n",
    "axes.set_aspect('equal')"
   ]
  },
  {
   "cell_type": "code",
   "execution_count": null,
   "id": "cab23165",
   "metadata": {},
   "outputs": [],
   "source": [
    "fig, axes = plt.subplots(3,3, figsize=(15,15), sharex=True)\n",
    "axes= axes.ravel()\n",
    "axes[0].scatter(embedding_wavelets[:, 0],embedding_wavelets[:, 1], s=0.2)\n",
    "\n",
    "hue_feats = {'mouth': df['speed_MOUTH'],\n",
    "             'quirkiness': df['quirkiness'],\n",
    "             'mean_dorsal_speeds': df.filter(like='speed_D').mean(axis=1),\n",
    "             'mean_ventral_speeds': df.filter(like='speed_V').mean(axis=1),\n",
    "             'mean_speeds': df.filter(like='speed_').mean(axis=1),\n",
    "#              'length': df['len_sum_of_parts'],\n",
    "             'mean_curv': df.filter(like='curv').abs().mean(axis=1),\n",
    "             'speed_NT': df['speed_NT'],\n",
    "            }\n",
    "\n",
    "for i, key_hue in enumerate(hue_feats.keys()):\n",
    "    axes[i+1].scatter(embedding_wavelets[:, 0],embedding_wavelets[:, 1], c= hue_feats[key_hue], s=0.2)\n",
    "    axes[i+1].set_title(key_hue)\n",
    "for ax in axes:  \n",
    "    ax.set_aspect('equal')\n",
    "# fig.savefig('../../../results/umap_wavelets_18082023_all.png')"
   ]
  },
  {
   "cell_type": "markdown",
   "id": "4fdcfaab",
   "metadata": {},
   "source": [
    "## try tsne for wavelets"
   ]
  },
  {
   "cell_type": "code",
   "execution_count": null,
   "id": "38922cc2",
   "metadata": {},
   "outputs": [],
   "source": [
    "df_wavelets.filter(like='wv').values.shape"
   ]
  },
  {
   "cell_type": "code",
   "execution_count": null,
   "id": "3a76761e",
   "metadata": {},
   "outputs": [],
   "source": [
    "df_wavelets_filt = df_wavelets.filter(like='wv').dropna()\n",
    "df_wavelets_filt.shape"
   ]
  },
  {
   "cell_type": "code",
   "execution_count": null,
   "id": "15e7d638",
   "metadata": {},
   "outputs": [],
   "source": [
    "df_wavelets_filt.to_pickle('/data/temp/athira/wavelet_array_for_tsne_testing_control.pickle')"
   ]
  },
  {
   "cell_type": "code",
   "execution_count": null,
   "id": "ad630f45",
   "metadata": {},
   "outputs": [],
   "source": []
  },
  {
   "cell_type": "markdown",
   "id": "9f83639b",
   "metadata": {},
   "source": [
    "# Load UMAP models and compute the embeddings"
   ]
  },
  {
   "cell_type": "code",
   "execution_count": null,
   "id": "0fe190a4",
   "metadata": {},
   "outputs": [],
   "source": [
    "fn_model_speeds = f'../../../results/umap_model_speeds_17082023_control.joblib'\n",
    "fn_model_wavelets = f'../../../results/umap_model_wavelets_17082023_control.joblib'"
   ]
  },
  {
   "cell_type": "code",
   "execution_count": null,
   "id": "5541d77b",
   "metadata": {},
   "outputs": [],
   "source": [
    "umap_speeds =  joblib.load(fn_model_speeds)\n",
    "umap_wavelets =  joblib.load(fn_model_wavelets)"
   ]
  },
  {
   "cell_type": "code",
   "execution_count": null,
   "id": "b5d530ea",
   "metadata": {},
   "outputs": [],
   "source": [
    "embedding_speeds = umap_speeds.transform(df_speeds.values)\n",
    "embedding_speeds.shape"
   ]
  },
  {
   "cell_type": "code",
   "execution_count": null,
   "id": "56742ac4",
   "metadata": {},
   "outputs": [],
   "source": [
    "embedding_wavelets = umap_wavelets.transform(df_wavelets.filter(like='wv').values)\n",
    "embedding_wavelets.shape"
   ]
  },
  {
   "cell_type": "markdown",
   "id": "45d00a4a",
   "metadata": {},
   "source": [
    "# Clustering "
   ]
  },
  {
   "cell_type": "code",
   "execution_count": null,
   "id": "a4d18663",
   "metadata": {},
   "outputs": [],
   "source": [
    "c_pal = sns.color_palette('tab10', 10)"
   ]
  },
  {
   "cell_type": "code",
   "execution_count": null,
   "id": "8a1a6862",
   "metadata": {},
   "outputs": [],
   "source": [
    "embedding_4d = np.hstack([embedding_speeds, embedding_wavelets])\n",
    "embedding_4d.shape"
   ]
  },
  {
   "cell_type": "markdown",
   "id": "b3754765",
   "metadata": {},
   "source": [
    "##  scaling of inputs"
   ]
  },
  {
   "cell_type": "code",
   "execution_count": null,
   "id": "1b075a1c",
   "metadata": {},
   "outputs": [],
   "source": [
    "embedding_4d_scaled = MinMaxScaler().fit_transform(embedding_4d)"
   ]
  },
  {
   "cell_type": "code",
   "execution_count": null,
   "id": "8e7b462d",
   "metadata": {},
   "outputs": [],
   "source": [
    "for i in range(embedding_4d_scaled.shape[1]):\n",
    "    feat_max  = np.max(embedding_4d_scaled[:,i])\n",
    "    print(feat_max)"
   ]
  },
  {
   "cell_type": "markdown",
   "id": "46240314",
   "metadata": {},
   "source": [
    "## 5D- add speed MOUTH variable separately"
   ]
  },
  {
   "cell_type": "code",
   "execution_count": null,
   "id": "d5ef3e24",
   "metadata": {},
   "outputs": [],
   "source": [
    "embedding_5d = np.hstack([embedding_4d, df_speeds['speed_MOUTH'].values.reshape(-1,1)])\n",
    "embedding_5d.shape"
   ]
  },
  {
   "cell_type": "markdown",
   "id": "dcaed56d",
   "metadata": {},
   "source": [
    "## HDBSCAN"
   ]
  },
  {
   "cell_type": "code",
   "execution_count": null,
   "id": "58cf3675",
   "metadata": {},
   "outputs": [],
   "source": [
    "clusterer_scaled = hdbscan.HDBSCAN(\n",
    "    min_samples= 1, #larger values implies more points considered as noise\n",
    "    min_cluster_size= 10000, #smallest size grouping to be considered as a cluster\n",
    "    cluster_selection_epsilon= 1,\n",
    "    cluster_selection_method='leaf',\n",
    "    prediction_data=True, \n",
    "    )"
   ]
  },
  {
   "cell_type": "code",
   "execution_count": null,
   "id": "9a3b7025",
   "metadata": {},
   "outputs": [],
   "source": [
    "labels_scaled = clusterer_scaled.fit_predict(embedding_4d)"
   ]
  },
  {
   "cell_type": "code",
   "execution_count": null,
   "id": "9d44559d",
   "metadata": {},
   "outputs": [],
   "source": [
    "filename_hdbscan = f'../../../results/hdbscan_4Dumap_model_26082023b_control.joblib'\n",
    "joblib.dump(clusterer_scaled, filename_hdbscan)"
   ]
  },
  {
   "cell_type": "code",
   "execution_count": null,
   "id": "486d3a73",
   "metadata": {},
   "outputs": [],
   "source": [
    "dict_clusters_scaled = {f'cluster_{i}':np.sum(labels_scaled==i) for i in list(np.unique(labels_scaled))}\n",
    "dict_clusters_scaled"
   ]
  },
  {
   "cell_type": "code",
   "execution_count": null,
   "id": "c3b55ec2",
   "metadata": {},
   "outputs": [],
   "source": [
    "dict_clusters_scaled = {f'cluster_{i}':np.sum(labels_scaled==i) for i in list(np.unique(labels_scaled))}\n",
    "dict_clusters_scaled"
   ]
  },
  {
   "cell_type": "code",
   "execution_count": null,
   "id": "8d1bc8d7",
   "metadata": {},
   "outputs": [],
   "source": [
    "c_pal = sns.color_palette('tab20', 20)"
   ]
  },
  {
   "cell_type": "code",
   "execution_count": null,
   "id": "97b9bea0",
   "metadata": {},
   "outputs": [],
   "source": [
    "c_dict_scaled = {i: c_pal[i+1] for i in np.unique(labels_scaled)}\n",
    "labels_c_scaled = [c_dict_scaled[lab] for lab in labels_scaled]"
   ]
  },
  {
   "cell_type": "code",
   "execution_count": null,
   "id": "5d9b0141",
   "metadata": {},
   "outputs": [],
   "source": [
    "fig, axes = plt.subplots(1,2, figsize=(15,7))\n",
    "axes= axes.ravel()\n",
    "axes[0].scatter(\n",
    "    embedding_speeds[:, 0],\n",
    "    embedding_speeds[:, 1], c=labels_c_scaled, s=0.01)\n",
    "axes[1].scatter(\n",
    "    embedding_wavelets[:, 0],\n",
    "    embedding_wavelets[:, 1], c=labels_c_scaled, s=0.01)\n",
    "\n",
    "markers = [plt.Line2D([0,0],[0,0],color=color, marker='o', linestyle='') for color in c_dict_scaled.values()]\n",
    "plt.legend(markers, c_dict_scaled.keys(), numpoints=1)\n",
    "\n",
    "for ax in axes:\n",
    "    ax.set_aspect('equal')\n",
    "    \n",
    "# fig.savefig('../../../results/cluster_umap4dscaled_25082023a_control.png')"
   ]
  },
  {
   "cell_type": "code",
   "execution_count": null,
   "id": "0312910a",
   "metadata": {},
   "outputs": [],
   "source": [
    "fig, axes = plt.subplots(1,2, figsize=(15,7))\n",
    "axes= axes.ravel()\n",
    "axes[0].hist2d(\n",
    "    embedding_speeds[:, 0],\n",
    "    embedding_speeds[:, 1], bins=(150,150), density=True)\n",
    "axes[1].hist2d(\n",
    "    embedding_wavelets[:, 0],\n",
    "    embedding_wavelets[:, 1], bins=(150,150), density=True)\n",
    "\n",
    "\n",
    "for ax in axes:\n",
    "    ax.set_aspect('equal')"
   ]
  },
  {
   "cell_type": "markdown",
   "id": "76c4a5cf",
   "metadata": {},
   "source": [
    "# sampled subset"
   ]
  },
  {
   "cell_type": "markdown",
   "id": "3b6e339b",
   "metadata": {},
   "source": [
    "## HDBSCAN on sampled dataset"
   ]
  },
  {
   "cell_type": "code",
   "execution_count": null,
   "id": "a2fd44d0",
   "metadata": {},
   "outputs": [],
   "source": [
    "import random"
   ]
  },
  {
   "cell_type": "code",
   "execution_count": null,
   "id": "7b472822",
   "metadata": {},
   "outputs": [],
   "source": [
    "embedding_4d.shape"
   ]
  },
  {
   "cell_type": "code",
   "execution_count": null,
   "id": "6011377b",
   "metadata": {},
   "outputs": [],
   "source": [
    "sampled_4d  = random.sample(list(embedding_4d), 500000)"
   ]
  },
  {
   "cell_type": "code",
   "execution_count": null,
   "id": "bed9b546",
   "metadata": {},
   "outputs": [],
   "source": [
    "sampled_4d = np.reshape(np.concatenate(sampled_4d),(-1,4))"
   ]
  },
  {
   "cell_type": "code",
   "execution_count": null,
   "id": "9572d3c8",
   "metadata": {},
   "outputs": [],
   "source": [
    "plt.scatter(sampled_4d[:,0], sampled_4d[:,1], s=0.01)"
   ]
  },
  {
   "cell_type": "code",
   "execution_count": null,
   "id": "65375ee5",
   "metadata": {},
   "outputs": [],
   "source": [
    "clusterer_scaled = hdbscan.HDBSCAN(\n",
    "    min_samples= 1, #larger values implies more points considered as noise\n",
    "    min_cluster_size= 200, #smallest size grouping to be considered as a cluster\n",
    "    cluster_selection_epsilon= 1,\n",
    "    cluster_selection_method='leaf',\n",
    "    prediction_data=True, \n",
    "    )"
   ]
  },
  {
   "cell_type": "code",
   "execution_count": null,
   "id": "94373ce0",
   "metadata": {},
   "outputs": [],
   "source": [
    "labels_sampled = clusterer_scaled.fit_predict(sampled_4d)"
   ]
  },
  {
   "cell_type": "code",
   "execution_count": null,
   "id": "94f5c6da",
   "metadata": {},
   "outputs": [],
   "source": [
    "dict_clusters_sampled = {f'cluster_{i}':np.sum(labels_sampled==i) for i in list(np.unique(labels_sampled))}\n",
    "dict_clusters_sampled"
   ]
  },
  {
   "cell_type": "markdown",
   "id": "5355dfe3",
   "metadata": {},
   "source": [
    "## DBSCAN on sampled dataset"
   ]
  },
  {
   "cell_type": "code",
   "execution_count": null,
   "id": "f7c33046",
   "metadata": {},
   "outputs": [],
   "source": []
  },
  {
   "cell_type": "code",
   "execution_count": null,
   "id": "6ce40d45",
   "metadata": {},
   "outputs": [],
   "source": []
  },
  {
   "cell_type": "markdown",
   "id": "f70d396c",
   "metadata": {},
   "source": [
    "# GMM"
   ]
  },
  {
   "cell_type": "code",
   "execution_count": null,
   "id": "9a03b993",
   "metadata": {},
   "outputs": [],
   "source": [
    "from sklearn.mixture import BayesianGaussianMixture"
   ]
  },
  {
   "cell_type": "code",
   "execution_count": null,
   "id": "56bce1c9",
   "metadata": {},
   "outputs": [],
   "source": [
    "bgm = BayesianGaussianMixture(n_components=10, random_state=42, covariance_type='diag', \n",
    "                              weight_concentration_prior_type=\"dirichlet_process\",\n",
    "                              weight_concentration_prior=100000,\n",
    "                              max_iter=1500\n",
    "                             )"
   ]
  },
  {
   "cell_type": "code",
   "execution_count": null,
   "id": "a6e7e711",
   "metadata": {},
   "outputs": [],
   "source": [
    "bgm.fit(sampled_4d)"
   ]
  },
  {
   "cell_type": "code",
   "execution_count": null,
   "id": "8de33c1f",
   "metadata": {},
   "outputs": [],
   "source": [
    "bgm.means_"
   ]
  },
  {
   "cell_type": "code",
   "execution_count": null,
   "id": "fcdf4858",
   "metadata": {},
   "outputs": [],
   "source": [
    "clusters_gmm = bgm.predict(sampled_4d)"
   ]
  },
  {
   "cell_type": "code",
   "execution_count": null,
   "id": "b7d76568",
   "metadata": {},
   "outputs": [],
   "source": [
    "len(clusters_gmm)"
   ]
  },
  {
   "cell_type": "code",
   "execution_count": null,
   "id": "f3b0e72d",
   "metadata": {},
   "outputs": [],
   "source": [
    "np.unique(clusters_gmm)"
   ]
  },
  {
   "cell_type": "code",
   "execution_count": null,
   "id": "828de63d",
   "metadata": {},
   "outputs": [],
   "source": [
    "c_pal1 = sns.color_palette('tab10', 10)\n",
    "clusters_c_gmm = [c_pal1[lab] for lab in clusters_gmm]"
   ]
  },
  {
   "cell_type": "code",
   "execution_count": null,
   "id": "cce08eef",
   "metadata": {},
   "outputs": [],
   "source": [
    "fig, axes = plt.subplots(1,2, figsize=(15,7))\n",
    "axes= axes.ravel()\n",
    "axes[0].scatter(\n",
    "    sampled_4d[:, 0],\n",
    "    sampled_4d[:, 1], c=clusters_c_gmm, s=0.01)\n",
    "axes[1].scatter(\n",
    "    sampled_4d[:, 2],\n",
    "    sampled_4d[:, 3], c=clusters_c_gmm, s=0.01)"
   ]
  },
  {
   "cell_type": "markdown",
   "id": "e093aac2",
   "metadata": {},
   "source": [
    "## HDBSCAN - 5D"
   ]
  },
  {
   "cell_type": "code",
   "execution_count": null,
   "id": "ec58465b",
   "metadata": {},
   "outputs": [],
   "source": [
    "embedding_5d = np.hstack([embedding_4d, df_speeds['speed_MOUTH'].values.reshape(-1,1)])\n",
    "embedding_5d.shape"
   ]
  },
  {
   "cell_type": "code",
   "execution_count": null,
   "id": "cd35f071",
   "metadata": {},
   "outputs": [],
   "source": [
    "embedding_5d_scaled = MinMaxScaler().fit_transform(embedding_5d)"
   ]
  },
  {
   "cell_type": "code",
   "execution_count": null,
   "id": "1e338a8b",
   "metadata": {},
   "outputs": [],
   "source": [
    "clusterer_5d = hdbscan.HDBSCAN(\n",
    "    min_samples= 1, #larger values implies more points considered as noise\n",
    "    min_cluster_size= 10000, #smallest size grouping to be considered as a cluster\n",
    "    cluster_selection_epsilon=0.01,\n",
    "    cluster_selection_method='leaf',\n",
    "    prediction_data=True, \n",
    "    )"
   ]
  },
  {
   "cell_type": "code",
   "execution_count": null,
   "id": "168752ae",
   "metadata": {},
   "outputs": [],
   "source": [
    "embedding_5d_scaled"
   ]
  },
  {
   "cell_type": "code",
   "execution_count": null,
   "id": "870e12a1",
   "metadata": {},
   "outputs": [],
   "source": [
    "labels_scaled_5d = clusterer_5d.fit_predict(embedding_5d_scaled)"
   ]
  },
  {
   "cell_type": "code",
   "execution_count": null,
   "id": "34ecc278",
   "metadata": {},
   "outputs": [],
   "source": [
    "dict_clusters_scaled_5d = {f'cluster_{i}':np.sum(labels_scaled_5d==i) for i in list(np.unique(labels_scaled_5d))}\n",
    "dict_clusters_scaled_5d"
   ]
  }
 ],
 "metadata": {
  "kernelspec": {
   "display_name": "Python 3 (ipykernel)",
   "language": "python",
   "name": "python3"
  },
  "language_info": {
   "codemirror_mode": {
    "name": "ipython",
    "version": 3
   },
   "file_extension": ".py",
   "mimetype": "text/x-python",
   "name": "python",
   "nbconvert_exporter": "python",
   "pygments_lexer": "ipython3",
   "version": "3.8.10"
  },
  "toc": {
   "base_numbering": 1,
   "nav_menu": {},
   "number_sections": true,
   "sideBar": true,
   "skip_h1_title": false,
   "title_cell": "Table of Contents",
   "title_sidebar": "Contents",
   "toc_cell": false,
   "toc_position": {},
   "toc_section_display": true,
   "toc_window_display": false
  }
 },
 "nbformat": 4,
 "nbformat_minor": 5
}
