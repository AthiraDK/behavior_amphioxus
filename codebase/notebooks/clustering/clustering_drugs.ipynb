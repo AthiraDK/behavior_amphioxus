{
 "cells": [
  {
   "cell_type": "code",
   "execution_count": null,
   "id": "b03b93d6",
   "metadata": {},
   "outputs": [],
   "source": [
    "import os\n",
    "import sys"
   ]
  },
  {
   "cell_type": "code",
   "execution_count": null,
   "id": "2fc28e6a",
   "metadata": {},
   "outputs": [],
   "source": [
    "import numpy as np\n",
    "import pandas as pd"
   ]
  },
  {
   "cell_type": "code",
   "execution_count": null,
   "id": "f79050b1",
   "metadata": {},
   "outputs": [],
   "source": [
    "import matplotlib.pyplot as plt\n",
    "import seaborn as sns"
   ]
  },
  {
   "cell_type": "code",
   "execution_count": null,
   "id": "aaafdb11",
   "metadata": {},
   "outputs": [],
   "source": [
    "import umap\n",
    "import hdbscan"
   ]
  },
  {
   "cell_type": "code",
   "execution_count": null,
   "id": "3428ac81",
   "metadata": {},
   "outputs": [],
   "source": [
    "import tqdm"
   ]
  },
  {
   "cell_type": "code",
   "execution_count": null,
   "id": "6b92ec0d",
   "metadata": {},
   "outputs": [],
   "source": [
    "from sklearn.preprocessing import MinMaxScaler, Normalizer"
   ]
  },
  {
   "cell_type": "code",
   "execution_count": null,
   "id": "83571229",
   "metadata": {},
   "outputs": [],
   "source": [
    "import joblib\n",
    "from joblib import Parallel, delayed"
   ]
  },
  {
   "cell_type": "code",
   "execution_count": null,
   "id": "f1966459",
   "metadata": {},
   "outputs": [],
   "source": [
    "from sklearn.decomposition import PCA\n",
    "from sklearn.manifold import TSNE"
   ]
  },
  {
   "cell_type": "code",
   "execution_count": null,
   "id": "e4f02737",
   "metadata": {},
   "outputs": [],
   "source": [
    "from scipy import signal"
   ]
  },
  {
   "cell_type": "code",
   "execution_count": null,
   "id": "90d28b35",
   "metadata": {},
   "outputs": [],
   "source": [
    "import tqdm"
   ]
  },
  {
   "cell_type": "code",
   "execution_count": null,
   "id": "a713a623",
   "metadata": {},
   "outputs": [],
   "source": [
    "from itertools import groupby\n",
    "from collections import Counter\n",
    "from operator import itemgetter"
   ]
  },
  {
   "cell_type": "code",
   "execution_count": null,
   "id": "4bac7ec1",
   "metadata": {},
   "outputs": [],
   "source": [
    "from sklearn.preprocessing import scale, StandardScaler"
   ]
  },
  {
   "cell_type": "code",
   "execution_count": null,
   "id": "0a8d26d9",
   "metadata": {},
   "outputs": [],
   "source": [
    "sys.path.append('../utils/')"
   ]
  },
  {
   "cell_type": "code",
   "execution_count": null,
   "id": "a7eef182",
   "metadata": {},
   "outputs": [],
   "source": [
    "from path_complexity import obtain_M, get_H\n",
    "from dlc_helper import DLC_tracking\n",
    "from preprocess_dlc import *"
   ]
  },
  {
   "cell_type": "markdown",
   "id": "baa10f88",
   "metadata": {},
   "source": [
    "# Load the umap models fit on control dataset"
   ]
  },
  {
   "cell_type": "code",
   "execution_count": null,
   "id": "7d14b58b",
   "metadata": {},
   "outputs": [],
   "source": [
    "fn_umap_speeds = f'../../results/umap_model_29072023_v1.joblib'\n",
    "fn_umap_wavelets = f'../../results/umap_wavelets_model_31072023.joblib'"
   ]
  },
  {
   "cell_type": "code",
   "execution_count": null,
   "id": "a3c34ede",
   "metadata": {},
   "outputs": [],
   "source": [
    "model_umap_speeds = joblib.load(fn_umap_speeds)\n",
    "model_umap_wavelets = joblib.load(fn_umap_wavelets)"
   ]
  },
  {
   "cell_type": "markdown",
   "id": "dd0e3e13",
   "metadata": {},
   "source": [
    "# Load the drugs data"
   ]
  },
  {
   "cell_type": "markdown",
   "id": "8108e47e",
   "metadata": {},
   "source": [
    "## Load metadata"
   ]
  },
  {
   "cell_type": "code",
   "execution_count": null,
   "id": "026b2207",
   "metadata": {},
   "outputs": [],
   "source": [
    "df_meta = pd.read_pickle('../../data/amphioxus_metadata_final500.pickle')"
   ]
  },
  {
   "cell_type": "code",
   "execution_count": null,
   "id": "7d254bbe",
   "metadata": {},
   "outputs": [],
   "source": [
    "# create a filename column to match with the filename column in the dataset\n",
    "df_meta['filename'] = df_meta['filename_video'].apply(lambda x: x.split('.avi')[0])"
   ]
  },
  {
   "cell_type": "code",
   "execution_count": null,
   "id": "55cc9843",
   "metadata": {},
   "outputs": [],
   "source": [
    "df_meta.columns"
   ]
  },
  {
   "cell_type": "code",
   "execution_count": null,
   "id": "8e2c4a13",
   "metadata": {},
   "outputs": [],
   "source": [
    "df_meta.light.unique()"
   ]
  },
  {
   "cell_type": "markdown",
   "id": "b5073bbc",
   "metadata": {},
   "source": [
    "## Load feature data"
   ]
  },
  {
   "cell_type": "code",
   "execution_count": null,
   "id": "1c732a96",
   "metadata": {},
   "outputs": [],
   "source": [
    "df = pd.read_hdf('../../results/featureset_v4_29072023.h5', key='features')"
   ]
  },
  {
   "cell_type": "code",
   "execution_count": null,
   "id": "aa547417",
   "metadata": {},
   "outputs": [],
   "source": [
    "# threshold speed mouth \n",
    "df = df[(df['speed_MOUTH'].isna())|(df['speed_MOUTH'] < 20)]"
   ]
  },
  {
   "cell_type": "code",
   "execution_count": null,
   "id": "7e3373ea",
   "metadata": {},
   "outputs": [],
   "source": [
    "df_merged = df.merge(df_meta, how='left', on='filename')"
   ]
  },
  {
   "cell_type": "code",
   "execution_count": null,
   "id": "cda7c13b",
   "metadata": {},
   "outputs": [],
   "source": [
    "df_drugs = df_merged[(df_merged['age'] > 50)&(df_merged['drugs']!='none')&(df_merged['light']=='None')]"
   ]
  },
  {
   "cell_type": "code",
   "execution_count": null,
   "id": "69fd421d",
   "metadata": {},
   "outputs": [],
   "source": [
    "df_light = df_merged[(df_merged['drugs']=='none')&((df_merged['light']=='Light'))]"
   ]
  },
  {
   "cell_type": "code",
   "execution_count": null,
   "id": "9b86cbe2",
   "metadata": {},
   "outputs": [],
   "source": [
    "df_young = df_merged[(df_merged['age'] < 50)&(df_merged['drugs']=='none')&(df_merged['light']=='None')]"
   ]
  },
  {
   "cell_type": "code",
   "execution_count": null,
   "id": "8e871900",
   "metadata": {},
   "outputs": [],
   "source": [
    "len(df_merged.filename.unique())"
   ]
  },
  {
   "cell_type": "code",
   "execution_count": null,
   "id": "aa23d9ba",
   "metadata": {},
   "outputs": [],
   "source": [
    "len(df_drugs.filename.unique())"
   ]
  },
  {
   "cell_type": "code",
   "execution_count": null,
   "id": "cc9723c3",
   "metadata": {},
   "outputs": [],
   "source": [
    "len(df_light.filename.unique())"
   ]
  },
  {
   "cell_type": "code",
   "execution_count": null,
   "id": "8925051c",
   "metadata": {},
   "outputs": [],
   "source": [
    "len(df_young.filename.unique())"
   ]
  },
  {
   "cell_type": "code",
   "execution_count": null,
   "id": "836d991c",
   "metadata": {},
   "outputs": [],
   "source": [
    "cols_speed = list(df_merged.filter(like='speed').columns)\n",
    "feats_to_use = cols_speed"
   ]
  },
  {
   "cell_type": "markdown",
   "id": "9db77b2d",
   "metadata": {},
   "source": [
    "### Drugs"
   ]
  },
  {
   "cell_type": "code",
   "execution_count": null,
   "id": "962f4625",
   "metadata": {},
   "outputs": [],
   "source": [
    "df_drugs.drugs.unique()"
   ]
  },
  {
   "cell_type": "code",
   "execution_count": null,
   "id": "48304630",
   "metadata": {},
   "outputs": [],
   "source": [
    "df_drugs.groupby('drugs')['filename'].nunique()"
   ]
  },
  {
   "cell_type": "markdown",
   "id": "07e4a113",
   "metadata": {},
   "source": [
    "#### using speeds"
   ]
  },
  {
   "cell_type": "code",
   "execution_count": null,
   "id": "a087a49b",
   "metadata": {},
   "outputs": [],
   "source": [
    "df_drugs_in_speeds = df_drugs[feats_to_use]"
   ]
  },
  {
   "cell_type": "code",
   "execution_count": null,
   "id": "34399d15",
   "metadata": {},
   "outputs": [],
   "source": [
    "df_drugs_in_speeds = df_drugs_in_speeds.fillna(-1)"
   ]
  },
  {
   "cell_type": "markdown",
   "id": "5c8c9195",
   "metadata": {},
   "source": [
    "#### using curvatures"
   ]
  },
  {
   "cell_type": "code",
   "execution_count": null,
   "id": "639e6891",
   "metadata": {},
   "outputs": [],
   "source": [
    "df_drugs_curv = df_drugs.filter(like='curv')\n",
    "df_drugs_curv"
   ]
  },
  {
   "cell_type": "code",
   "execution_count": null,
   "id": "fe067823",
   "metadata": {},
   "outputs": [],
   "source": [
    "pca = PCA()\n",
    "pca_drugs_curv = pca.fit_transform(df_drugs_curv)"
   ]
  },
  {
   "cell_type": "code",
   "execution_count": null,
   "id": "f776400e",
   "metadata": {},
   "outputs": [],
   "source": [
    "plt.plot(np.cumsum(pca.explained_variance_ratio_))"
   ]
  },
  {
   "cell_type": "code",
   "execution_count": null,
   "id": "4bfee20a",
   "metadata": {},
   "outputs": [],
   "source": [
    "# For wavelet transforms\n",
    "\n",
    "fs = 30\n",
    "omg0 = 6\n",
    "fs_ny = fs/2\n",
    "\n",
    "# 30 scales linearly spaced, max being sampling frequency  + 1\n",
    "\n",
    "f_channels = np.arange(1, fs +1, 1)\n",
    "# f_channels = np.arange(1, fs +1, 1)\n",
    "widths = omg0*fs / (2*f_channels*np.pi) \n",
    "\n",
    "print(f_channels, len(widths))"
   ]
  },
  {
   "cell_type": "code",
   "execution_count": null,
   "id": "c502900b",
   "metadata": {},
   "outputs": [],
   "source": [
    "def wv_transform(df, widths, omg0):\n",
    "    \n",
    "    df_wv = pd.DataFrame()\n",
    "    df_wv['filename'] = df['filename']\n",
    "    df_wv['frames'] = df['frame']\n",
    "    df_wv['drugs'] = df['drugs']\n",
    "    \n",
    "    df.drop(['filename', 'frame', 'drugs'], axis=1, inplace = True)\n",
    "\n",
    "\n",
    "    for feat in list(df.columns):\n",
    "\n",
    "\n",
    "        ts = df[feat].values\n",
    "        cwtm = signal.cwt(ts, signal.morlet2, widths, w = omg0)\n",
    "\n",
    "        wv_feat = np.abs(cwtm)\n",
    "        \n",
    "        for f in range(len(widths)):\n",
    "            df_wv[f'{feat}_wv{f}'] = wv_feat[f-1,:]\n",
    "    \n",
    "    return df_wv"
   ]
  },
  {
   "cell_type": "code",
   "execution_count": null,
   "id": "12d489b3",
   "metadata": {},
   "outputs": [],
   "source": [
    "for i in range(5):\n",
    "    df_drugs[f'pca_{i}'] = pca_drugs_curv[:,i]"
   ]
  },
  {
   "cell_type": "code",
   "execution_count": null,
   "id": "a338c754",
   "metadata": {},
   "outputs": [],
   "source": [
    "df_drugs_files = df_drugs.groupby(by = 'filename')"
   ]
  },
  {
   "cell_type": "code",
   "execution_count": null,
   "id": "c0644054",
   "metadata": {},
   "outputs": [],
   "source": [
    "df_drug_exps = []\n",
    "for name, group in df_drugs_files:\n",
    "    df_drug_exps.append(group)"
   ]
  },
  {
   "cell_type": "code",
   "execution_count": null,
   "id": "f5c6827f",
   "metadata": {},
   "outputs": [],
   "source": [
    "feats_list = ['pca_0', 'pca_1', 'pca_2', 'pca_3', 'pca_4', 'pca_5']\n",
    "df_feats_selected = []\n",
    "for df in df_drug_exps:\n",
    "    df_feats_selected.append(df.filter(items = feats_list + ['filename', 'frame', 'drugs']))"
   ]
  },
  {
   "cell_type": "code",
   "execution_count": null,
   "id": "96f2f93e",
   "metadata": {},
   "outputs": [],
   "source": [
    "df_feats_selected[0]"
   ]
  },
  {
   "cell_type": "code",
   "execution_count": null,
   "id": "3d49c00f",
   "metadata": {},
   "outputs": [],
   "source": [
    "df_drugs_wv = Parallel(n_jobs=40, verbose = 5)(delayed(wv_transform)(df, widths, omg0) \n",
    "                                                for df in df_feats_selected)"
   ]
  },
  {
   "cell_type": "code",
   "execution_count": null,
   "id": "0bbe86e6",
   "metadata": {},
   "outputs": [],
   "source": [
    "df_drugs_wv_comb = pd.concat(df_drugs_wv)"
   ]
  },
  {
   "cell_type": "code",
   "execution_count": null,
   "id": "9cb49098",
   "metadata": {},
   "outputs": [],
   "source": [
    "df_drugs_wv_comb"
   ]
  },
  {
   "cell_type": "markdown",
   "id": "24f67622",
   "metadata": {},
   "source": [
    "# Find the UMAP projections"
   ]
  },
  {
   "cell_type": "markdown",
   "id": "e0dc60fd",
   "metadata": {},
   "source": [
    "# control"
   ]
  },
  {
   "cell_type": "code",
   "execution_count": null,
   "id": "9ae7c657",
   "metadata": {},
   "outputs": [],
   "source": [
    "# embedding =  df_results.filter(like = 'umap_raw').values\n",
    "# embedding.shape"
   ]
  },
  {
   "cell_type": "markdown",
   "id": "a059401a",
   "metadata": {},
   "source": [
    "## Drugs"
   ]
  },
  {
   "cell_type": "markdown",
   "id": "bca123ed",
   "metadata": {},
   "source": [
    "### UMAP x 2"
   ]
  },
  {
   "cell_type": "code",
   "execution_count": null,
   "id": "de0cb521",
   "metadata": {},
   "outputs": [],
   "source": [
    "embedding_drugs_speeds = {}\n",
    "embedding_drugs_wavelets = {}"
   ]
  },
  {
   "cell_type": "code",
   "execution_count": null,
   "id": "13b7bfeb",
   "metadata": {},
   "outputs": [],
   "source": [
    "for i, (name, group) in enumerate(df_drugs.groupby('drugs')):\n",
    "    \n",
    "    group_in = group[feats_to_use]\n",
    "    group_in = group_in.fillna(-1)\n",
    "    embedding_drugs_speeds[name] = model_umap_speeds.transform(group_in.values)"
   ]
  },
  {
   "cell_type": "code",
   "execution_count": null,
   "id": "fff6cf45",
   "metadata": {},
   "outputs": [],
   "source": [
    "for i, (name, group) in enumerate(df_drugs_wv_comb.groupby('drugs')):\n",
    "    \n",
    "    group_in = group.filter(like='pca')\n",
    "    embedding_drugs_wavelets[name] = model_umap_wavelets.transform(group_in.values)"
   ]
  },
  {
   "cell_type": "code",
   "execution_count": null,
   "id": "bfa1927f",
   "metadata": {},
   "outputs": [],
   "source": [
    "embedding_drugs_speeds.keys()"
   ]
  },
  {
   "cell_type": "code",
   "execution_count": null,
   "id": "c9868ee7",
   "metadata": {},
   "outputs": [],
   "source": [
    "embedding_drugs_wavelets.keys()"
   ]
  },
  {
   "cell_type": "code",
   "execution_count": null,
   "id": "9dcc584d",
   "metadata": {},
   "outputs": [],
   "source": [
    "fig, axes = plt.subplots(2,3, figsize=(23,14))\n",
    "\n",
    "for i, key in enumerate(embedding_drugs_speeds.keys()):\n",
    "    \n",
    "    axes[0][i].scatter(embedding_drugs_speeds[key][:, 0],embedding_drugs_speeds[key][:, 1], s=0.2)\n",
    "    axes[0][i].set_title(key)\n",
    "    axes[0][i].set_aspect('equal')\n",
    "    \n",
    "    axes[1][i].hist2d(embedding_drugs_speeds[key][:, 0],embedding_drugs_speeds[key][:, 1], bins=(150,150), density=True)\n",
    "    axes[1][i].set_title(key)\n",
    "    axes[1][i].set_aspect('equal')"
   ]
  },
  {
   "cell_type": "code",
   "execution_count": null,
   "id": "2c14eaa5",
   "metadata": {},
   "outputs": [],
   "source": [
    "fig, axes = plt.subplots(2,3, figsize=(23,14))\n",
    "\n",
    "\n",
    "for i, key in enumerate(embedding_drugs_wavelets.keys()):\n",
    "    \n",
    "    axes[0][i].scatter(embedding_drugs_wavelets[key][:, 0],embedding_drugs_wavelets[key][:,1], s=0.2)\n",
    "    axes[0][i].set_title(key)\n",
    "    axes[0][i].set_aspect('equal')\n",
    "    \n",
    "    axes[1][i].hist2d(embedding_drugs_wavelets[key][:, 0],embedding_drugs_wavelets[key][:,1], bins=(150,150), density=True)\n",
    "    axes[1][i].set_title(key)\n",
    "    axes[1][i].set_aspect('equal')"
   ]
  },
  {
   "cell_type": "markdown",
   "id": "839cc7a6",
   "metadata": {},
   "source": [
    "### Cluster 4D "
   ]
  },
  {
   "cell_type": "code",
   "execution_count": null,
   "id": "62e6c6ce",
   "metadata": {},
   "outputs": [],
   "source": [
    "fn_hdbscan = f'../../results/hdbscan_4Dumap_model_31072023.joblib'"
   ]
  },
  {
   "cell_type": "code",
   "execution_count": null,
   "id": "4c0f23e7",
   "metadata": {},
   "outputs": [],
   "source": [
    "model_hdbscan = joblib.load(fn_hdbscan)"
   ]
  },
  {
   "cell_type": "code",
   "execution_count": null,
   "id": "47c620e0",
   "metadata": {},
   "outputs": [],
   "source": [
    "labels_drugs_dict = {}"
   ]
  },
  {
   "cell_type": "code",
   "execution_count": null,
   "id": "6f41cf4e",
   "metadata": {},
   "outputs": [],
   "source": [
    "for drug in tqdm.tqdm(embedding_drugs_wavelets.keys()):\n",
    "    print(drug)\n",
    "    embedding_drugs_combo = np.hstack([embedding_drugs_speeds[drug], embedding_drugs_wavelets[drug]])\n",
    "    embedding_drugs_combo_scaled = MinMaxScaler().fit_transform(embedding_drugs_combo)\n",
    "    test_labels, strengths = hdbscan.approximate_predict(model_hdbscan, embedding_drugs_combo_scaled)\n",
    "    labels_drugs_dict[drug] = test_labels"
   ]
  },
  {
   "cell_type": "code",
   "execution_count": null,
   "id": "9727ac49",
   "metadata": {},
   "outputs": [],
   "source": [
    "c_pal = sns.color_palette('tab10', 10)"
   ]
  },
  {
   "cell_type": "code",
   "execution_count": null,
   "id": "6c07bd03",
   "metadata": {},
   "outputs": [],
   "source": [
    "fig, axes = plt.subplots(2,3, figsize=(23,14))\n",
    "\n",
    "for i, drug in enumerate(labels_drugs_dict.keys()):\n",
    "    dict_clusters_scaled = {f'cluster_{i}':np.sum(labels_drugs_dict[drug]==i) for i in list(np.unique(labels_drugs_dict[drug]))}\n",
    "    print(dict_clusters_scaled)\n",
    "    c_dict_scaled = {i: c_pal[i+1] for i in np.unique(labels_drugs_dict[drug])}\n",
    "    labels_c_scaled = [c_dict_scaled[lab] for lab in labels_drugs_dict[drug]]\n",
    "    \n",
    "    axes[0][i].scatter(\n",
    "    embedding_drugs_speeds[drug][:, 0],\n",
    "    embedding_drugs_speeds[drug][:, 1], c=labels_c_scaled, s=1)\n",
    "    \n",
    "    axes[1][i].scatter(\n",
    "    embedding_drugs_wavelets[drug][:, 0],\n",
    "    embedding_drugs_wavelets[drug][:, 1], c=labels_c_scaled, s=1)\n",
    "    \n",
    "    markers = [plt.Line2D([0,0],[0,0],color=color, marker='o', linestyle='') for color in c_dict_scaled.values()]\n",
    "    plt.legend(markers, c_dict_scaled.keys(), numpoints=1)\n",
    "    \n",
    "for ax in axes.ravel():\n",
    "    ax.set_aspect('equal', 'datalim')\n",
    "    "
   ]
  },
  {
   "cell_type": "markdown",
   "id": "f5cf3cb0",
   "metadata": {},
   "source": [
    "# Results : all in one place"
   ]
  },
  {
   "cell_type": "code",
   "execution_count": null,
   "id": "9d6c21b7",
   "metadata": {},
   "outputs": [],
   "source": [
    "df_control = pd.read_hdf('../../results/UMAP_HDBSCANclustering_withWV_31072023_1135.h5')\n",
    "df_control.columns"
   ]
  },
  {
   "cell_type": "code",
   "execution_count": null,
   "id": "542e33c6",
   "metadata": {},
   "outputs": [],
   "source": [
    "df_control['drug'] = 'control'"
   ]
  },
  {
   "cell_type": "code",
   "execution_count": null,
   "id": "2730c077",
   "metadata": {},
   "outputs": [],
   "source": [
    "df_control.rename(columns={'hdbscan_wv_scaled':'hdbscan_clusters'}, inplace=True)"
   ]
  },
  {
   "cell_type": "code",
   "execution_count": null,
   "id": "874e743e",
   "metadata": {},
   "outputs": [],
   "source": [
    "df_control.drop(['hdbscan', 'hdbscan_plus', 'hdbscan_plus_'], axis=1, inplace=True)"
   ]
  },
  {
   "cell_type": "code",
   "execution_count": null,
   "id": "aeed2e67",
   "metadata": {},
   "outputs": [],
   "source": [
    "(set(df_control.columns) | set(df_results_drugs_combo)) - (set(df_control.columns) & set(df_results_drugs_combo))"
   ]
  },
  {
   "cell_type": "code",
   "execution_count": null,
   "id": "870846ed",
   "metadata": {},
   "outputs": [],
   "source": [
    "df_drugs"
   ]
  },
  {
   "cell_type": "code",
   "execution_count": null,
   "id": "c1074227",
   "metadata": {},
   "outputs": [],
   "source": [
    "drugs_results = []\n",
    "for i, drug in enumerate(labels_drugs_dict.keys()):\n",
    "    df_drug_res = pd.DataFrame()\n",
    "    df_drug_res['umap_raw_0'] = embedding_drugs_speeds[drug][:,0]\n",
    "    df_drug_res['umap_raw_1'] = embedding_drugs_speeds[drug][:,1]\n",
    "    df_drug_res['umap_wv_0'] = embedding_drugs_wavelets[drug][:,0]\n",
    "    df_drug_res['umap_wv_1'] = embedding_drugs_wavelets[drug][:,1]\n",
    "    df_drug_res['hdbscan_clusters'] = labels_drugs_dict[drug]\n",
    "    df_drug_res['drug'] = [drug] * len(labels_drugs_dict[drug]) \n",
    "    drugs_results.append(df_drug_res)"
   ]
  },
  {
   "cell_type": "code",
   "execution_count": null,
   "id": "858b9042",
   "metadata": {},
   "outputs": [],
   "source": [
    "df_results_drugs = pd.concat(drugs_results).reset_index(drop=True)\n",
    "df_results_drugs"
   ]
  },
  {
   "cell_type": "code",
   "execution_count": null,
   "id": "e46e5bd7",
   "metadata": {},
   "outputs": [],
   "source": [
    "df_results_drugs_combo = pd.concat([df_drugs.reset_indebx(drop=True), df_results_drugs], axis=1)\n",
    "df_results_drugs_combo"
   ]
  },
  {
   "cell_type": "code",
   "execution_count": null,
   "id": "7ca57790",
   "metadata": {},
   "outputs": [],
   "source": [
    "df_results_all = pd.concat([df_control, df_results_drugs_combo])"
   ]
  },
  {
   "cell_type": "code",
   "execution_count": null,
   "id": "4121e75a",
   "metadata": {},
   "outputs": [],
   "source": [
    "df_results_drugs_combo.to_hdf('../../results/drugs_UMAP_HDBSCANclustering_withWV_08082023_1951.h5', key='results')"
   ]
  },
  {
   "cell_type": "markdown",
   "id": "f06a8ae4",
   "metadata": {},
   "source": [
    "# Thigmotaxis "
   ]
  },
  {
   "cell_type": "code",
   "execution_count": null,
   "id": "48c028c9",
   "metadata": {},
   "outputs": [],
   "source": []
  },
  {
   "cell_type": "markdown",
   "id": "4710b09f",
   "metadata": {},
   "source": [
    "# Temporal properties : transitions"
   ]
  },
  {
   "cell_type": "markdown",
   "id": "4133da81",
   "metadata": {},
   "source": [
    "## time in each cluster"
   ]
  },
  {
   "cell_type": "code",
   "execution_count": null,
   "id": "76a0565f",
   "metadata": {},
   "outputs": [],
   "source": [
    "df_files_grouped = df_results_all.groupby('filename')"
   ]
  },
  {
   "cell_type": "code",
   "execution_count": null,
   "id": "321be885",
   "metadata": {},
   "outputs": [],
   "source": [
    "cluster_usage = []\n",
    "for name, df_file in df_files_grouped:\n",
    "    drug = df_file.drug.unique()[0]\n",
    "    clusters_file = df_file['hdbscan_clusters'].values\n",
    "    test_count = Counter(clusters_file)\n",
    "    dict_cluster_usage = {}\n",
    "    dict_cluster_usage['filename'] = name\n",
    "    dict_cluster_usage['drug'] = drug\n",
    "    for k in sorted(test_count.keys()):\n",
    "        dict_cluster_usage[f'cluster_{k}_frames'] = test_count[k]\n",
    "    cluster_usage.append(dict_cluster_usage)\n",
    "\n",
    "df_cluster_usage  = pd.DataFrame(cluster_usage)      \n",
    "df_cluster_usage.fillna(0, inplace=True)\n",
    "df_cluster_usage"
   ]
  },
  {
   "cell_type": "code",
   "execution_count": null,
   "id": "81f9cece",
   "metadata": {},
   "outputs": [],
   "source": [
    "df = df_cluster_usage.groupby('drug').sum()\n",
    "res = df.div(df.sum(axis=1), axis=0)\n",
    "res.mul(100)"
   ]
  },
  {
   "cell_type": "code",
   "execution_count": null,
   "id": "215a063b",
   "metadata": {},
   "outputs": [],
   "source": [
    "res.sum(axis=1)"
   ]
  },
  {
   "cell_type": "code",
   "execution_count": null,
   "id": "c105a109",
   "metadata": {},
   "outputs": [],
   "source": [
    "cluster_usage"
   ]
  },
  {
   "cell_type": "markdown",
   "id": "725ab5c6",
   "metadata": {},
   "source": [
    "## lengths of cluster stretches "
   ]
  },
  {
   "cell_type": "code",
   "execution_count": null,
   "id": "df081bb0",
   "metadata": {},
   "outputs": [],
   "source": [
    "def make_cluster_motifs_df(fn, df_file):   \n",
    "    \n",
    "    clusters_file = df_file['hdbscan_clusters'].values\n",
    "    frames = df_file['frame'].values\n",
    "    drug = df_file.drug.unique()[0]\n",
    "    \n",
    "    df_motif = []\n",
    "    \n",
    "    \n",
    "    for state in np.unique(clusters_file):\n",
    "\n",
    "        clus = {}\n",
    "        clus_inds = [ind for ind, val in zip(frames, clusters_file) if val == state]\n",
    "        clus_inds_nested = [list(map(itemgetter(1), g)) for k, g in groupby(enumerate(clus_inds), lambda x: x[0]-x[1])]\n",
    "        clus['start'] = [x[0] for x in clus_inds_nested]\n",
    "        clus['stop'] = [x[-1] for x in clus_inds_nested]\n",
    "        clus['duration'] = [x[-1]-x[0] for x in clus_inds_nested]\n",
    "        clus['cluster'] = [state for x in clus_inds_nested]\n",
    "        clus['filename'] = [fn for x in clus_inds_nested]\n",
    "        clus['drug'] = [drug for x in clus_inds_nested]\n",
    "        df_clus = pd.DataFrame(clus)\n",
    "\n",
    "        df_motif.append(df_clus)\n",
    "    df_motif = pd.concat(df_motif) \n",
    "    return df_motif"
   ]
  },
  {
   "cell_type": "code",
   "execution_count": null,
   "id": "03ae35a7",
   "metadata": {},
   "outputs": [],
   "source": [
    "df_motifs_drugs_all = Parallel(n_jobs=40, verbose = 5)(delayed(make_cluster_motifs_df)(fn, df_fn) \n",
    "                                                for fn, df_fn in df_files_grouped)\n",
    "df_motifs_drugs_combined = pd.concat(df_motifs_drugs_all)"
   ]
  },
  {
   "cell_type": "code",
   "execution_count": null,
   "id": "a90d14f8",
   "metadata": {},
   "outputs": [],
   "source": [
    "motif_groups_drugs  = df_motifs_drugs_combined.groupby(['drug','cluster'])"
   ]
  },
  {
   "cell_type": "code",
   "execution_count": null,
   "id": "d6ca25c4",
   "metadata": {},
   "outputs": [],
   "source": [
    "motif_groups_drugs.agg({'duration':[min, max, np.mean]})"
   ]
  },
  {
   "cell_type": "code",
   "execution_count": null,
   "id": "cd69e8df",
   "metadata": {},
   "outputs": [],
   "source": [
    "fig, axes = plt.subplots(3,8, figsize=(20, 24), sharey=True)\n",
    "for i, (drug_clus, motif_g) in enumerate(motif_groups_drugs):\n",
    "    print(drug_clus)\n",
    "    sns.boxplot(data = motif_g, x='cluster', y='duration', ax =axes[i//8][i%8])\n",
    "    axes[i//8][i%8].set_title(f'cluster {drug_clus[1]}')\n",
    "#     axes[i//8][i%8].set_ylabel(f'{drug_clus[0]}')"
   ]
  },
  {
   "cell_type": "markdown",
   "id": "a8eb2041",
   "metadata": {},
   "source": [
    "## transitions"
   ]
  },
  {
   "cell_type": "code",
   "execution_count": null,
   "id": "961953b4",
   "metadata": {},
   "outputs": [],
   "source": [
    "drugs = df_results_all.drug.unique()\n",
    "drugs"
   ]
  },
  {
   "cell_type": "code",
   "execution_count": null,
   "id": "8fda99fd",
   "metadata": {},
   "outputs": [],
   "source": [
    "cluster_usage_dfs = {drug:[] for drug in drugs}\n",
    "\n",
    "for name, df_file in df_files_grouped:\n",
    "    drug = df_file.drug.unique()[0]\n",
    "    clusters_file = df_file['hdbscan_clusters'].values\n",
    "    start_list = [x for x in clusters_file[:-1]]\n",
    "    stop_list = [x for x in clusters_file[1:]]\n",
    "\n",
    "    trans_dict = {'start': start_list, 'stop': stop_list}\n",
    "    trans_df = pd.DataFrame(trans_dict)\n",
    "    cluster_usage_dfs[drug].append(trans_df)\n",
    "    "
   ]
  },
  {
   "cell_type": "code",
   "execution_count": null,
   "id": "bfc02540",
   "metadata": {},
   "outputs": [],
   "source": [
    "trans_mat_probs = {drug:[] for drug in drugs}\n",
    "fig, axes = plt.subplots(1,4, figsize=(28,6))\n",
    "\n",
    "for i, drug in enumerate(cluster_usage_dfs.keys()):\n",
    "    transition_df = pd.concat(cluster_usage_dfs[drug])\n",
    "    transition_counts = transition_df.groupby(['start', 'stop']).size().reset_index(name='counts')\n",
    "    trans_mat_counts = pd.pivot_table(transition_counts, values='counts', index=['start'],\n",
    "                columns=['stop'])\n",
    "    trans_mat_counts = trans_mat_counts.fillna(0)\n",
    "    trans_mat_probs[drug] = trans_mat_counts.div(trans_mat_counts.sum(axis=1))\n",
    "    \n",
    "    sns.heatmap(trans_mat_probs[drug], ax= axes[i])\n",
    "    axes[i].set_title(drug)\n",
    "    axes[i].set_aspect('equal')\n",
    "    "
   ]
  },
  {
   "cell_type": "markdown",
   "id": "2f00748c",
   "metadata": {},
   "source": [
    "## Path complexity"
   ]
  },
  {
   "cell_type": "code",
   "execution_count": null,
   "id": "8aa16297",
   "metadata": {},
   "outputs": [],
   "source": [
    "def calc_path_complexity(filename):3.084309\t\n",
    "    \n",
    "    df_result_fn = df_results_all[df_results_all['filename'] == filename]\n",
    "        \n",
    "    # data from DLC \n",
    "\n",
    "    dlc_path = df_result_fn['dlc_result_file'].unique()[0]\n",
    "    dlc_folder, dlc_filename = os.path.split(dlc_path)\n",
    "    dlc_obj = DLC_tracking(dlc_filename, dlc_folder)\n",
    "  \n",
    "    \n",
    "    # Interpolate missing datapoints (dorsal)\n",
    "    df_dorsal = dlc_obj.df_data.filter(regex='^(NT_|TT_|D).*(x|y)$')\n",
    "    df_dorsal_filt = df_dorsal[df_dorsal.isna().sum(axis=1) < 5]\n",
    "    df_dorsal_x = df_dorsal_filt.filter(like='_x')\n",
    "    df_dorsal_y = df_dorsal_filt.filter(like='_y')\n",
    "    df_dorsal_interp_x = interpol_spatial(df_dorsal_x)\n",
    "    df_dorsal_interp_y = interpol_spatial(df_dorsal_y)\n",
    "    df_dorsal_x_fin = interpol_temporal(df_dorsal_interp_x)\n",
    "    df_dorsal_y_fin = interpol_temporal(df_dorsal_interp_y)\n",
    "    dlc_obj.df_data.loc[df_dorsal_filt.index,'NT_x_interp'] = df_dorsal_x_fin['NT_x']\n",
    "    dlc_obj.df_data.loc[df_dorsal_filt.index,'NT_y_interp'] = df_dorsal_y_fin['NT_y']\n",
    "    \n",
    "    # data from clustering  # need not do this !\n",
    "    df_cluster = pd.merge(dlc_obj.df_data, df_result_fn, on='frame')\n",
    "\n",
    "\n",
    "    framerate = 30\n",
    "    window = framerate \n",
    "\n",
    "    df_xy = df_cluster[['filename','frame','NT_x_interp', 'NT_y_interp', 'NT_x', 'NT_y']] \n",
    "#     df_xy = df_xy.dropna(how='any')\n",
    "        \n",
    "    try:\n",
    "\n",
    "        M = obtain_M(df_xy['NT_x_interp'], df_xy['NT_y_interp'], window = window)\n",
    "\n",
    "        lH,H = get_H(M)\n",
    "        \n",
    "        df_xy['lH'] = np.hstack((np.array([np.nan]*(window//2)), lH, np.array([np.nan]*(window - (window//2)))))\n",
    "        return df_xy\n",
    "        \n",
    "    except Exception as e:\n",
    "        return None"
   ]
  },
  {
   "cell_type": "code",
   "execution_count": null,
   "id": "1e027d3f",
   "metadata": {},
   "outputs": [],
   "source": [
    "filenames = list(df_results_all.filename.unique())"
   ]
  },
  {
   "cell_type": "code",
   "execution_count": null,
   "id": "2d720ac7",
   "metadata": {},
   "outputs": [],
   "source": [
    "calc_path_complexity(filenames[8])"
   ]
  },
  {
   "cell_type": "code",
   "execution_count": null,
   "id": "76b7dfec",
   "metadata": {},
   "outputs": [],
   "source": [
    "df_lH_all = Parallel(n_jobs=40, verbose = 5)(delayed(calc_path_complexity)(fn) \n",
    "                                                for fn in filenames)\n",
    "df_lH_combined = pd.concat(df_lH_all)\n",
    "df_lH_combined"
   ]
  },
  {
   "cell_type": "code",
   "execution_count": null,
   "id": "051375b3",
   "metadata": {},
   "outputs": [],
   "source": [
    "df_results_complexity = pd.merge(df_lH_combined, df_results_all, on=['filename','frame'])"
   ]
  },
  {
   "cell_type": "code",
   "execution_count": null,
   "id": "23c5b950",
   "metadata": {},
   "outputs": [],
   "source": []
  },
  {
   "cell_type": "markdown",
   "id": "313fe9a6",
   "metadata": {},
   "source": [
    "# Light"
   ]
  },
  {
   "cell_type": "code",
   "execution_count": null,
   "id": "4b142169",
   "metadata": {},
   "outputs": [],
   "source": [
    "embedding_light = {}"
   ]
  },
  {
   "cell_type": "code",
   "execution_count": null,
   "id": "013bdcef",
   "metadata": {},
   "outputs": [],
   "source": [
    "for i, (name, group) in tqdm.tqdm(enumerate(df_light.groupby('stim_RGB'))):\n",
    "    \n",
    "    group_in = group[feats_to_use]\n",
    "    group_in = group_in.fillna(-1)\n",
    "    embedding_light[name] = loaded_reducer.transform(group_in.values)"
   ]
  },
  {
   "cell_type": "code",
   "execution_count": null,
   "id": "6a6fd5fb",
   "metadata": {},
   "outputs": [],
   "source": [
    "embedding_light.keys()"
   ]
  },
  {
   "cell_type": "code",
   "execution_count": null,
   "id": "529a1361",
   "metadata": {},
   "outputs": [],
   "source": [
    "fig, axes = plt.subplots(1,4, figsize=(32,7))\n",
    "axes= axes.ravel()\n",
    "\n",
    "axes[0].scatter(embedding[:, 0],embedding[:, 1], s=0.2)\n",
    "axes[0].set_title('Control')\n",
    "\n",
    "for i, key in enumerate(embedding_light.keys()):\n",
    "    \n",
    "    if key != 'v0310000':\n",
    "    \n",
    "        axes[i+1].scatter(embedding_light[key][:, 0],embedding_light[key][:, 1], s=0.2)\n",
    "        axes[i+1].set_title(key)"
   ]
  },
  {
   "cell_type": "code",
   "execution_count": null,
   "id": "95b365bb",
   "metadata": {},
   "outputs": [],
   "source": [
    "fig, axes = plt.subplots(1,4, figsize=(32,7), sharex=True, sharey=True)\n",
    "axes= axes.ravel()\n",
    "\n",
    "axes[0].hist2d(embedding[:, 0],embedding[:, 1], bins=(150,150), density=True)\n",
    "axes[0].set_title('Control')\n",
    "\n",
    "for i, key in enumerate(embedding_light.keys()):\n",
    "    if key != 'v0310000':\n",
    "    \n",
    "        axes[i+1].hist2d(embedding_light[key][:, 0],embedding_light[key][:, 1], bins=(150,150), density=True)\n",
    "        axes[i+1].set_title(key)"
   ]
  },
  {
   "cell_type": "markdown",
   "id": "0fd5bcb4",
   "metadata": {},
   "source": [
    "# Age"
   ]
  },
  {
   "cell_type": "code",
   "execution_count": null,
   "id": "b885a760",
   "metadata": {},
   "outputs": [],
   "source": [
    "df_young_in = df_young[feats_to_use]\n",
    "df_young_in = df_young_in.fillna(-1)"
   ]
  },
  {
   "cell_type": "code",
   "execution_count": null,
   "id": "aac7b7a0",
   "metadata": {},
   "outputs": [],
   "source": [
    "embedding_age = loaded_reducer.transform(df_young_in.values)"
   ]
  },
  {
   "cell_type": "code",
   "execution_count": null,
   "id": "c6e5ed90",
   "metadata": {},
   "outputs": [],
   "source": [
    "fig, axes = plt.subplots(1,2, figsize=(15,7))\n",
    "axes[0].scatter(embedding[:, 0],embedding[:, 1], s=0.2)\n",
    "axes[0].set_title('Control')\n",
    "axes[1].scatter(embedding_age[:, 0],embedding_age[:, 1], s=0.2)\n",
    "axes[1].set_title('Young larvae')"
   ]
  },
  {
   "cell_type": "code",
   "execution_count": null,
   "id": "9a9c7762",
   "metadata": {},
   "outputs": [],
   "source": [
    "fig, axes = plt.subplots(1,2, figsize=(15,7))\n",
    "axes= axes.ravel()\n",
    "\n",
    "axes[0].hist2d(embedding[:, 0],embedding[:, 1], bins=(150,150), density=True)\n",
    "axes[0].set_title('Control')\n",
    "\n",
    "    \n",
    "axes[1].hist2d(embedding_age[:, 0],embedding_age[:, 1], bins=(150,150), density=True)\n",
    "axes[1].set_title('Young larvae')"
   ]
  }
 ],
 "metadata": {
  "kernelspec": {
   "display_name": "Python 3 (ipykernel)",
   "language": "python",
   "name": "python3"
  },
  "language_info": {
   "codemirror_mode": {
    "name": "ipython",
    "version": 3
   },
   "file_extension": ".py",
   "mimetype": "text/x-python",
   "name": "python",
   "nbconvert_exporter": "python",
   "pygments_lexer": "ipython3",
   "version": "3.8.10"
  },
  "toc": {
   "base_numbering": 1,
   "nav_menu": {},
   "number_sections": true,
   "sideBar": true,
   "skip_h1_title": false,
   "title_cell": "Table of Contents",
   "title_sidebar": "Contents",
   "toc_cell": false,
   "toc_position": {},
   "toc_section_display": true,
   "toc_window_display": false
  }
 },
 "nbformat": 4,
 "nbformat_minor": 5
}
