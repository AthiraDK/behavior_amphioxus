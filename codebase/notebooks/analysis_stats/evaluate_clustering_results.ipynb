{
 "cells": [
  {
   "cell_type": "code",
   "execution_count": null,
   "id": "b2bc063f",
   "metadata": {},
   "outputs": [],
   "source": [
    "import os\n",
    "import sys\n",
    "import random"
   ]
  },
  {
   "cell_type": "code",
   "execution_count": null,
   "id": "9a08aa32",
   "metadata": {},
   "outputs": [],
   "source": [
    "import numpy as np     \n",
    "import pandas as pd"
   ]
  },
  {
   "cell_type": "code",
   "execution_count": null,
   "id": "0e02a7d6",
   "metadata": {},
   "outputs": [],
   "source": [
    "import matplotlib.pyplot as plt\n",
    "import seaborn as sns"
   ]
  },
  {
   "cell_type": "code",
   "execution_count": null,
   "id": "3d52712c",
   "metadata": {},
   "outputs": [],
   "source": [
    "import cv2"
   ]
  },
  {
   "cell_type": "code",
   "execution_count": null,
   "id": "26353c92",
   "metadata": {},
   "outputs": [],
   "source": [
    "sys.path.append('../utils/')"
   ]
  },
  {
   "cell_type": "code",
   "execution_count": null,
   "id": "e1ca821e",
   "metadata": {},
   "outputs": [],
   "source": [
    "from dlc_helper import DLC_tracking"
   ]
  },
  {
   "cell_type": "code",
   "execution_count": null,
   "id": "1a532954",
   "metadata": {},
   "outputs": [],
   "source": [
    "from video_utils import find_square_bounding"
   ]
  },
  {
   "cell_type": "code",
   "execution_count": null,
   "id": "194a5dbc",
   "metadata": {},
   "outputs": [],
   "source": [
    "import ipywidgets.widgets as widgets\n",
    "from ipywidgets import interact, interact_manual"
   ]
  },
  {
   "cell_type": "markdown",
   "id": "b104e2b8",
   "metadata": {},
   "source": [
    " # Import the results"
   ]
  },
  {
   "cell_type": "code",
   "execution_count": null,
   "id": "8c9ab1e8",
   "metadata": {},
   "outputs": [],
   "source": [
    "df_results_control = pd.read_hdf('../../results/featureset_used_for_UMAPclustering_18072023.h5')"
   ]
  },
  {
   "cell_type": "code",
   "execution_count": null,
   "id": "5601de93",
   "metadata": {},
   "outputs": [],
   "source": [
    "df_results_control.columns"
   ]
  },
  {
   "cell_type": "code",
   "execution_count": null,
   "id": "8acd8331",
   "metadata": {},
   "outputs": [],
   "source": [
    "df_results = pd.read_hdf('../../results/UMAP_HDBSCANclustering_29072023_1832.h5', key='features_with_results')"
   ]
  },
  {
   "cell_type": "code",
   "execution_count": null,
   "id": "ebdd0d5e",
   "metadata": {},
   "outputs": [],
   "source": [
    "# df_results_control.rename(columns={'hdbscan_clusters':'hdbscan_old', 'umap_raw_0':'umap_old_raw_0', 'umap_raw_1':'umap_old_raw_1'}, inplace=True)"
   ]
  },
  {
   "cell_type": "code",
   "execution_count": null,
   "id": "e5daff00",
   "metadata": {},
   "outputs": [],
   "source": [
    "# df_results_control = df_results_control.join(df_results)"
   ]
  },
  {
   "cell_type": "code",
   "execution_count": null,
   "id": "535b5908",
   "metadata": {},
   "outputs": [],
   "source": [
    "df_results_control['umap_raw_0'] = df_results['umap_raw_0']\n",
    "df_results_control['umap_raw_1'] = df_results['umap_raw_1']\n",
    "df_results_control['hdbscan_clusters'] = df_results['hdbscan']\n",
    "# df_results_control['hdbscan_clusters'] = df_results['hdbscan_plus']"
   ]
  },
  {
   "cell_type": "markdown",
   "id": "0db05cc1",
   "metadata": {},
   "source": [
    "# Plot the UMAP & clustering results"
   ]
  },
  {
   "cell_type": "code",
   "execution_count": null,
   "id": "82cc2bcb",
   "metadata": {},
   "outputs": [],
   "source": [
    "clusters_control = list(df_results_control['hdbscan_clusters'])"
   ]
  },
  {
   "cell_type": "code",
   "execution_count": null,
   "id": "ae86cdca",
   "metadata": {},
   "outputs": [],
   "source": [
    "embedding = df_results_control.filter(like = 'umap_raw').values\n",
    "embedding.shape"
   ]
  },
  {
   "cell_type": "code",
   "execution_count": null,
   "id": "cbb08157",
   "metadata": {},
   "outputs": [],
   "source": [
    "dict_clusters = {f'cluster_{i}':np.sum(clusters_control==i) for i in list(np.unique(clusters_control))}\n",
    "dict_clusters"
   ]
  },
  {
   "cell_type": "code",
   "execution_count": null,
   "id": "308e273b",
   "metadata": {},
   "outputs": [],
   "source": [
    "c_pal = sns.color_palette('tab10', 10)\n",
    "c_dict = {i: c_pal[i+1] for i in np.unique(clusters_control)}\n",
    "labels_c = [c_dict[lab] for lab in clusters_control]"
   ]
  },
  {
   "cell_type": "code",
   "execution_count": null,
   "id": "629f4626",
   "metadata": {
    "scrolled": true
   },
   "outputs": [],
   "source": [
    "fig, axes = plt.subplots(1,2, figsize=(15,7))\n",
    "axes= axes.ravel()\n",
    "axes[0].scatter(embedding[:, 0],embedding[:, 1], s=0.2)\n",
    "axes[1].scatter(\n",
    "    embedding[:, 0],\n",
    "    embedding[:, 1], c=labels_c, s=1)\n",
    "\n",
    "markers = [plt.Line2D([0,0],[0,0],color=color, marker='o', linestyle='') for color in c_dict.values()]\n",
    "plt.legend(markers, c_dict.keys(), numpoints=1)\n",
    "\n",
    "for ax in axes:\n",
    "    ax.set_aspect('equal', 'datalim')\n",
    "    \n",
    "# fig.savefig('../../results/umap_clustered.png')"
   ]
  },
  {
   "cell_type": "code",
   "execution_count": null,
   "id": "9d74b701",
   "metadata": {},
   "outputs": [],
   "source": [
    "df_results_control.groupby('hdbscan_clusters').nunique()"
   ]
  },
  {
   "cell_type": "code",
   "execution_count": null,
   "id": "6fb464a5",
   "metadata": {},
   "outputs": [],
   "source": [
    "df_results_control.groupby('hdbscan_clusters').count()"
   ]
  },
  {
   "cell_type": "markdown",
   "id": "045453de",
   "metadata": {},
   "source": [
    "# Check feature statistics in each groups"
   ]
  },
  {
   "cell_type": "code",
   "execution_count": null,
   "id": "7e27b74a",
   "metadata": {},
   "outputs": [],
   "source": [
    "df_results_control.columns"
   ]
  },
  {
   "cell_type": "code",
   "execution_count": null,
   "id": "d575a968",
   "metadata": {},
   "outputs": [],
   "source": [
    "# df_feats_with_clusters = pd.merge(df_results_control, df_feats, on=['filename', 'frame'])"
   ]
  },
  {
   "cell_type": "code",
   "execution_count": null,
   "id": "bafb3ba1",
   "metadata": {},
   "outputs": [],
   "source": [
    "grouped_feats = df_results_control.groupby('hdbscan_clusters')"
   ]
  },
  {
   "cell_type": "markdown",
   "id": "65e29762",
   "metadata": {},
   "source": [
    "## Speed_MOUTH"
   ]
  },
  {
   "cell_type": "code",
   "execution_count": null,
   "id": "539671be",
   "metadata": {},
   "outputs": [],
   "source": [
    "fig, axes = plt.subplots(1,4, figsize = (18,4), sharex=True)\n",
    "for i, (cluster, group) in enumerate(grouped_feats):\n",
    "    sns.histplot(data=group, x='speed_MOUTH', ax=axes[i])\n",
    "    axes[i].set_title(f'Cluster {cluster}')"
   ]
  },
  {
   "cell_type": "code",
   "execution_count": null,
   "id": "796e064b",
   "metadata": {},
   "outputs": [],
   "source": [
    "fig, axes = plt.subplots(1,4, figsize = (18,4), sharex=True)\n",
    "for i, (cluster, group) in enumerate(grouped_feats):\n",
    "    sns.boxplot(data=group, y='speed_MOUTH', ax=axes[i])\n",
    "    axes[i].set_title(f'Cluster {cluster}')"
   ]
  },
  {
   "cell_type": "markdown",
   "id": "25388214",
   "metadata": {},
   "source": [
    "## Speed_V(entral)"
   ]
  },
  {
   "cell_type": "code",
   "execution_count": null,
   "id": "eb7104e5",
   "metadata": {},
   "outputs": [],
   "source": [
    "fig, axes = plt.subplots(1,4, figsize = (18,4), sharex=True)\n",
    "for i, (cluster, group) in enumerate(grouped_feats):\n",
    "    group['mean_speeds_ventral'] = group.filter(like='speed_V').mean(axis=1)\n",
    "    sns.histplot(data=group, x='mean_speeds_ventral', ax=axes[i])\n",
    "    axes[i].set_title(f'Cluster {cluster}')"
   ]
  },
  {
   "cell_type": "code",
   "execution_count": null,
   "id": "a0855593",
   "metadata": {},
   "outputs": [],
   "source": [
    "fig, axes = plt.subplots(1,4, figsize = (18,4), sharey=True)\n",
    "for i, (cluster, group) in enumerate(grouped_feats):\n",
    "    group['mean_speeds_ventral'] = group.filter(like='speed_V').mean(axis=1)\n",
    "    sns.boxplot(data=group, y='mean_speeds_ventral', ax=axes[i])\n",
    "    axes[i].set_title(f'Cluster {cluster}')"
   ]
  },
  {
   "cell_type": "markdown",
   "id": "53f75897",
   "metadata": {},
   "source": [
    "## Speed_D(orsal)"
   ]
  },
  {
   "cell_type": "code",
   "execution_count": null,
   "id": "9c0d8e72",
   "metadata": {},
   "outputs": [],
   "source": [
    "fig, axes = plt.subplots(1,4, figsize = (18,4), sharex=True, sharey=True)\n",
    "for i, (cluster, group) in enumerate(grouped_feats):\n",
    "    group =  group.fillna(value=-1)\n",
    "    group['mean_speeds_dorsal'] = group.filter(like='speed_D').mean(axis=1)\n",
    "    sns.histplot(data=group, x='mean_speeds_dorsal', ax=axes[i])\n",
    "    axes[i].set_title(f'Cluster {cluster}')"
   ]
  },
  {
   "cell_type": "code",
   "execution_count": null,
   "id": "fd072247",
   "metadata": {},
   "outputs": [],
   "source": [
    "fig, axes = plt.subplots(1,4, figsize = (18,4), sharey=True)\n",
    "for i, (cluster, group) in enumerate(grouped_feats):\n",
    "    group =  group.fillna(value=-1)\n",
    "    group['mean_speeds_dorsal'] = group.filter(like='speed_D').mean(axis=1)\n",
    "    sns.boxplot(data=group, y='mean_speeds_dorsal', ax=axes[i])\n",
    "    axes[i].set_title(f'Cluster {cluster}')"
   ]
  },
  {
   "cell_type": "markdown",
   "id": "274296c7",
   "metadata": {},
   "source": [
    "## Speed_NT"
   ]
  },
  {
   "cell_type": "code",
   "execution_count": null,
   "id": "37c9c26c",
   "metadata": {},
   "outputs": [],
   "source": [
    "fig, axes = plt.subplots(1,4, figsize = (18,4), sharey=True)\n",
    "for i, (cluster, group) in enumerate(grouped_feats):\n",
    "    sns.histplot(data=group, x='speed_NT', ax=axes[i])\n",
    "    axes[i].set_title(f'Cluster {cluster}')"
   ]
  },
  {
   "cell_type": "code",
   "execution_count": null,
   "id": "4ebe076c",
   "metadata": {},
   "outputs": [],
   "source": [
    "fig, axes = plt.subplots(1,4, figsize = (18,4), sharey=True)\n",
    "for i, (cluster, group) in enumerate(grouped_feats):\n",
    "    sns.boxplot(data=group, y='speed_NT', ax=axes[i])\n",
    "    axes[i].set_title(f'Cluster {cluster}')"
   ]
  },
  {
   "cell_type": "markdown",
   "id": "12f3a879",
   "metadata": {},
   "source": [
    "## Curvatures"
   ]
  },
  {
   "cell_type": "code",
   "execution_count": null,
   "id": "1ba859aa",
   "metadata": {},
   "outputs": [],
   "source": [
    "fig, axes = plt.subplots(1,4, figsize = (18,4), sharex=True, sharey=True)\n",
    "for i, (cluster, group) in enumerate(grouped_feats):\n",
    "    group =  group.fillna(value=-1)\n",
    "    group['mean_curv'] = group.filter(like='curv').abs().mean(axis=1)\n",
    "    sns.histplot(data=group, x='mean_curv', ax=axes[i])\n",
    "    axes[i].set_title(f'Cluster {cluster}')"
   ]
  },
  {
   "cell_type": "code",
   "execution_count": null,
   "id": "09d00908",
   "metadata": {},
   "outputs": [],
   "source": [
    "fig, axes = plt.subplots(1,4, figsize = (18,4), sharey=True)\n",
    "for i, (cluster, group) in enumerate(grouped_feats):\n",
    "    group =  group.fillna(value=-1)\n",
    "    group['mean_curv'] = group.filter(like='curv').abs().mean(axis=1)\n",
    "    sns.boxplot(data=group, y='mean_curv', ax=axes[i])\n",
    "    axes[i].set_title(f'Cluster {cluster}')"
   ]
  },
  {
   "cell_type": "markdown",
   "id": "7ee1e738",
   "metadata": {},
   "source": [
    "## Quirkiness"
   ]
  },
  {
   "cell_type": "code",
   "execution_count": null,
   "id": "6ddc1084",
   "metadata": {},
   "outputs": [],
   "source": [
    "fig, axes = plt.subplots(1,4, figsize = (18,4), sharex=True, sharey=True)\n",
    "for i, (cluster, group) in enumerate(grouped_feats):\n",
    "    sns.histplot(data=group, x='quirkiness', ax=axes[i])\n",
    "    axes[i].set_title(f'Cluster {cluster}')"
   ]
  },
  {
   "cell_type": "code",
   "execution_count": null,
   "id": "93856fc8",
   "metadata": {},
   "outputs": [],
   "source": [
    "fig, axes = plt.subplots(1,4, figsize = (18,4),sharey=True)\n",
    "for i, (cluster, group) in enumerate(grouped_feats):\n",
    "    sns.boxplot(data=group, y='quirkiness', ax=axes[i])\n",
    "    axes[i].set_title(f'Cluster {cluster}')"
   ]
  },
  {
   "cell_type": "markdown",
   "id": "c0ed7aa6",
   "metadata": {},
   "source": [
    "# Trajectories"
   ]
  },
  {
   "cell_type": "code",
   "execution_count": null,
   "id": "cdbfb019",
   "metadata": {},
   "outputs": [],
   "source": [
    "filenames = list(df_results_control.filename.unique())"
   ]
  },
  {
   "cell_type": "code",
   "execution_count": null,
   "id": "8097cc16",
   "metadata": {},
   "outputs": [],
   "source": [
    "wid_fn = widgets.SelectMultiple(\n",
    "    options=filenames,\n",
    "    value=filenames[:2],\n",
    "    rows=15,\n",
    "    description='Filename',\n",
    "    disabled=False\n",
    ")"
   ]
  },
  {
   "cell_type": "code",
   "execution_count": null,
   "id": "67162c3c",
   "metadata": {},
   "outputs": [],
   "source": [
    "@interact_manual\n",
    "def plot_trajectory(fns=wid_fn):\n",
    "    \n",
    "    for fn in fns:\n",
    "        df_filename = df_results_control[df_results_control['filename']== fn]\n",
    "        path_to_video = df_filename['path_to_video'].unique()[0]\n",
    "        print(path_to_video)\n",
    "    \n",
    "    n_cols = len(fns)\n",
    "    fig, axes = plt.subplots(1,n_cols,figsize=(n_cols*8,8), sharex=True, sharey=True)\n",
    "    \n",
    "    \n",
    "    for i, fn in enumerate(fns):\n",
    "        \n",
    "        df_result_fn = df_results_control[df_results_control['filename'] == fn]\n",
    "        \n",
    "        # data from DLC \n",
    "        \n",
    "        dlc_path = df_result_fn['dlc_result_file'].unique()[0]\n",
    "        dlc_folder, dlc_filename = os.path.split(dlc_path)\n",
    "        dlc_obj = DLC_tracking(dlc_filename, dlc_folder)\n",
    "        \n",
    "        # data from clustering\n",
    "        df_cluster = pd.merge(dlc_obj.df_data, df_result_fn, on='frame')\n",
    "        hue = [clus+1 for clus in df_cluster['hdbscan_clusters']]\n",
    "        \n",
    "        sns.scatterplot(data = df_cluster, x='NT_x',y='NT_y', s=2, hue=hue, ax=axes[i], palette='tab10')\n",
    "        markers = [plt.Line2D([0,0],[0,0],color=color, marker='o', linestyle='') for color in c_dict.values()]\n",
    "        axes[i].legend(markers, c_dict.keys(), numpoints=1)\n",
    "        axes[i].set_aspect('equal')\n",
    "        axes[i].set_title(fn)\n",
    "    "
   ]
  },
  {
   "cell_type": "markdown",
   "id": "98cc47b3",
   "metadata": {},
   "source": [
    "# try annotating video"
   ]
  },
  {
   "cell_type": "code",
   "execution_count": null,
   "id": "d5b0e7be",
   "metadata": {},
   "outputs": [],
   "source": [
    "dict_swims = {-1:'', 0:'right', 1:'swims', 2:'left', 3:'left'}"
   ]
  },
  {
   "cell_type": "code",
   "execution_count": null,
   "id": "05d37168",
   "metadata": {},
   "outputs": [],
   "source": [
    "cap = cv2.VideoCapture(\"\")\n",
    "ret, frame = cap.read()\n",
    "fps = cap.get('CAP_PROP_FPS')\n",
    "\n",
    "fourcc = cv2.VideoWriter_fourcc(*'XVID')\n",
    "out = cv2.VideoWriter('../../results/output.avi',fourcc, 30.0, (1024, 1280))\n",
    "\n",
    "# Obejction detection from stable camera\n",
    "\n",
    "frame_count = 0\n",
    "image_count = 0\n",
    "while True:\n",
    "    ret, frame = cap.read()\n",
    "    frame_count += 1\n",
    "\n",
    "    try:\n",
    "        if (frame_count > 0) & (frame_count < len(state_seq)):\n",
    "            height, width, _ = frame.shape\n",
    "            x, y, w, h = dict_bbox[frame_count]\n",
    "            cv2.putText(frame, str(state_seq[frame]) , (int(x), int(y) - 15), cv2.FONT_HERSHEY_PLAIN, 1, (255, 0, 0), 2)\n",
    "            cv2.rectangle(frame, (int(x)-5,int(y)-5), (int(x) + int(w)+5, int(y) + int(h)+5), (0, 255, 0), 3)\n",
    "            out.write(frame)\n",
    "    except KeyError:\n",
    "        print(f'missing key {frame_count}')\n",
    "cap.release()\n",
    "out.release()\n",
    "cv2.destroyAllWindows()"
   ]
  },
  {
   "cell_type": "markdown",
   "id": "00650fa2",
   "metadata": {},
   "source": [
    "# Checking frames"
   ]
  },
  {
   "cell_type": "code",
   "execution_count": null,
   "id": "1620fe85",
   "metadata": {},
   "outputs": [],
   "source": [
    "test_path_to_video = '/media/athira/Amphioxus1/20180724/Exp_20180724_173426_1_15m0s_None_None_None/20180724_173426_1_15m0s_None_None_None_INVERTED.avi'\n",
    "df_test = df_results_control[df_results_control['path_to_video'] == test_path_to_video]\n",
    "path_to_dlc_coords = df_test['dlc_result_file'].unique()[0]\n",
    "dlc_folder, dlc_filename = os.path.split(path_to_dlc_coords)\n",
    "dlc_obj = DLC_tracking(dlc_filename, dlc_folder)\n",
    "dict_bbox = dlc_obj.find_bbox_dlc()"
   ]
  },
  {
   "cell_type": "code",
   "execution_count": null,
   "id": "784e0c0d",
   "metadata": {},
   "outputs": [],
   "source": [
    "dict_rois = {}\n",
    "for key in dict_bbox.keys():\n",
    "    x, y, w, h = dict_bbox[key]\n",
    "    mid_x = x + (w/2)\n",
    "    mid_y = y + (h/2)\n",
    "    try:\n",
    "        x = int(x)\n",
    "        y = int(y)\n",
    "        w = int(w)\n",
    "        h = int(h)\n",
    "        x_new, y_new, w_new, h_new = find_square_bounding(x,y,w,h, height_max = 150, width_max = 150)\n",
    "        dict_rois[key] = [x_new, y_new, w_new, h_new]\n",
    "\n",
    "    except ValueError:\n",
    "        print(f'Value Error encountered for frame {key}')\n",
    "    except Exception as e:\n",
    "        print(f'Error encountered')\n",
    "        print(e)"
   ]
  },
  {
   "cell_type": "code",
   "execution_count": null,
   "id": "21844df2",
   "metadata": {},
   "outputs": [],
   "source": [
    "df_test.groupby('hdbscan_clusters').nunique()"
   ]
  },
  {
   "cell_type": "code",
   "execution_count": null,
   "id": "d333e460",
   "metadata": {},
   "outputs": [],
   "source": [
    "df_grouped = df_test.groupby('hdbscan_clusters')\n",
    "\n",
    "fig, axes = plt.subplots(10, 5, figsize = (25, 50))\n",
    "for i, (clus, group) in enumerate(df_grouped):\n",
    "    try:\n",
    "        samples = group.sample(10)\n",
    "        sample_frames =  samples['frame']\n",
    "        for j, sample_f in enumerate(sample_frames):\n",
    "            image_path = f'/data/temp/athira/amphi_frames_19072023/Exp_20180724_173426/frame_{sample_f}.png'\n",
    "            if os.path.isfile(image_path):\n",
    "                image = plt.imread(image_path)\n",
    "                x, y, w, h = dict_rois[sample_f]\n",
    "                x = int(x)\n",
    "                y = int(y)\n",
    "                w = int(w)\n",
    "                h = int(h)\n",
    "                cropped_image = image[y:y+h, x:x+w]\n",
    "                axes[j][i].imshow(cropped_image)\n",
    "                if j == 0:\n",
    "                    axes[j][i].set_title(f'Cluster {clus}')\n",
    "    except Exception as e:\n",
    "        print(clus, e)\n"
   ]
  },
  {
   "cell_type": "code",
   "execution_count": null,
   "id": "26ccd031",
   "metadata": {},
   "outputs": [],
   "source": [
    "/media/athira/Amphioxus1/20180720/Exp_20180720_131830_1_5m0s_None_None_None/20180720_131830_1_5m0s_None_None_None_INVERTED.avi\n",
    "/media/athira/Amphioxus1/20180720/Exp_20180720_151943_1_5m0s_None_None_None/20180720_151943_1_5m0s_None_None_None_INVERTED.avi\n",
    "/media/athira/Amphioxus1/20180720/Exp_20180720_152448_1_5m0s_None_None_None/20180720_152448_1_5m0s_None_None_None_INVERTED.avi\n",
    "/media/athira/Amphioxus1/20180724/Exp_20180724_161122_1_15m0s_None_None_None/20180724_161122_1_15m0s_None_None_None_INVERTED.avi\n",
    "/media/athira/Amphioxus1/20180724/Exp_20180724_163657_1_5m0s_None_None_None/20180724_163657_1_5m0s_None_None_None_INVERTED.avi\n",
    "/media/athira/Amphioxus1/20180724/Exp_20180724_142913_1_15m0s_None_None_None/20180724_142913_1_15m0s_None_None_None_INVERTED.avi\n"
   ]
  },
  {
   "cell_type": "markdown",
   "id": "11d54dbd",
   "metadata": {
    "heading_collapsed": true
   },
   "source": [
    "# Picking frames"
   ]
  },
  {
   "cell_type": "code",
   "execution_count": null,
   "id": "b0c66eaa",
   "metadata": {
    "hidden": true
   },
   "outputs": [],
   "source": [
    "def get_rois_per_video(path_to_video, path_to_dlc_coords, crop=True):\n",
    "    \n",
    "    \n",
    "\n",
    "    dlc_folder, dlc_filename = os.path.split(path_to_dlc_coords)\n",
    "    dlc_obj = DLC_tracking(dlc_filename, dlc_folder)\n",
    "    \n",
    "    dict_bbox = dlc_obj.find_bbox_dlc()\n",
    "    dict_rois = {}\n",
    "    \n",
    "    cap = cv2.VideoCapture(path_to_video)\n",
    "    total_frames = cap.get(cv2.CAP_PROP_FRAME_COUNT)\n",
    "    count = 0\n",
    "    while count < total_frames:\n",
    "        _, image = cap.read()\n",
    "\n",
    "        count += 1\n",
    "        if crop:\n",
    "            # Find coords of the roi corners\n",
    "            x, y, w, h = dict_bbox[count-1]\n",
    "            mid_x = x + (w/2)\n",
    "            mid_y = y + (h/2)\n",
    "            try:\n",
    "                x = int(x)\n",
    "                y = int(y)\n",
    "                w = int(w)\n",
    "                h = int(h)\n",
    "                x_new, y_new, w_new, h_new = find_square_bounding(x,y,w,h, height_max = 150, width_max = 150)\n",
    "                roi_box_padded = image[y_new:y_new+h_new, x_new:x_new+w_new]\n",
    "                dict_rois[count-1] = roi_box_padded\n",
    "\n",
    "            except ValueError:\n",
    "                print(f'Value Error encountered for frame {count-1}')\n",
    "            except Exception as e:\n",
    "                print(f'Error encountered')\n",
    "                print(e)\n",
    "\n",
    "        else:\n",
    "            dict_rois[count-1] = image\n",
    "            \n",
    "#         cv2.waitKey(30)\n",
    "            \n",
    "    cap.release()\n",
    "#     cv2.destroyAllWindows()\n",
    "        \n",
    "    return dict_rois"
   ]
  },
  {
   "cell_type": "code",
   "execution_count": null,
   "id": "0d2fa9ea",
   "metadata": {
    "hidden": true
   },
   "outputs": [],
   "source": [
    "@interact_manual\n",
    "def plot_trajectory(filename=filenames):\n",
    "    \n",
    "    df_filename = df_results_control[df_results_control['filename']== filename]\n",
    "    clusters_fn = sorted(df_filename['hdbscan_clusters'].unique())\n",
    "    path_to_video = df_filename['path_to_video'].unique()[0]\n",
    "    path_to_dlc_coords = df_filename['dlc_result_file'].unique()[0]\n",
    "    test_dict = get_rois_per_video(path_to_video, path_to_dlc_coords)\n",
    "    \n",
    "    df_grouped = df_filename.groupby('hdbscan_clusters')\n",
    "    \n",
    "    for i, clus in (enumerate(clusters_fn)):\n",
    "\n",
    "        fig, axes = plt.subplots(1, 5, figsize=(5*8, 8))\n",
    "        axes = axes.ravel()\n",
    "        df = df_grouped.get_group(clus)\n",
    "        if len(df.index) > 5:\n",
    "            df_samples = df.sample(5)\n",
    "        else:\n",
    "            df_samples = df\n",
    "\n",
    "        frames = list(df_samples['frame'])\n",
    "\n",
    "        for j, f in enumerate(frames):\n",
    "            axes[j].imshow(test_dict[f])\n",
    "            axes[j].set_title(f)\n",
    "\n",
    "            if j == 0:\n",
    "                axes[j].set_ylabel(f'cluster: {clus}')\n",
    "    plt.show()"
   ]
  },
  {
   "cell_type": "code",
   "execution_count": null,
   "id": "72efee57",
   "metadata": {
    "hidden": true
   },
   "outputs": [],
   "source": []
  }
 ],
 "metadata": {
  "kernelspec": {
   "display_name": "Python 3 (ipykernel)",
   "language": "python",
   "name": "python3"
  },
  "language_info": {
   "codemirror_mode": {
    "name": "ipython",
    "version": 3
   },
   "file_extension": ".py",
   "mimetype": "text/x-python",
   "name": "python",
   "nbconvert_exporter": "python",
   "pygments_lexer": "ipython3",
   "version": "3.8.10"
  },
  "toc": {
   "base_numbering": 1,
   "nav_menu": {},
   "number_sections": true,
   "sideBar": true,
   "skip_h1_title": false,
   "title_cell": "Table of Contents",
   "title_sidebar": "Contents",
   "toc_cell": false,
   "toc_position": {},
   "toc_section_display": true,
   "toc_window_display": false
  }
 },
 "nbformat": 4,
 "nbformat_minor": 5
}
