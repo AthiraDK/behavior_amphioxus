{
 "cells": [
  {
   "cell_type": "code",
   "execution_count": null,
   "id": "c830fe11",
   "metadata": {},
   "outputs": [],
   "source": [
    "import os\n",
    "import sys\n",
    "import numpy as np\n",
    "import pandas as pd"
   ]
  },
  {
   "cell_type": "code",
   "execution_count": null,
   "id": "be3ec7e2",
   "metadata": {},
   "outputs": [],
   "source": [
    "from joblib import Parallel, delayed"
   ]
  },
  {
   "cell_type": "code",
   "execution_count": null,
   "id": "2955f0b2",
   "metadata": {},
   "outputs": [],
   "source": [
    "sys.path.append('../utils/')\n",
    "from dlc_helper import DLC_tracking"
   ]
  },
  {
   "cell_type": "code",
   "execution_count": null,
   "id": "0415952f",
   "metadata": {},
   "outputs": [],
   "source": [
    "import itertools"
   ]
  },
  {
   "cell_type": "code",
   "execution_count": null,
   "id": "21ba23ea",
   "metadata": {},
   "outputs": [],
   "source": [
    "from scipy.stats import mannwhitneyu"
   ]
  },
  {
   "cell_type": "code",
   "execution_count": null,
   "id": "a7b8075d",
   "metadata": {},
   "outputs": [],
   "source": [
    "import matplotlib.pyplot as plt\n",
    "import seaborn as sns"
   ]
  },
  {
   "cell_type": "markdown",
   "id": "9d9d6c0c",
   "metadata": {},
   "source": [
    "# Load arena information"
   ]
  },
  {
   "cell_type": "code",
   "execution_count": null,
   "id": "ed681795",
   "metadata": {},
   "outputs": [],
   "source": [
    "df_meta = pd.read_pickle('../../data/amphioxus_metadata_arena.pickle')"
   ]
  },
  {
   "cell_type": "code",
   "execution_count": null,
   "id": "3a840d38",
   "metadata": {},
   "outputs": [],
   "source": [
    "df_meta.columns"
   ]
  },
  {
   "cell_type": "code",
   "execution_count": null,
   "id": "f10b27d2",
   "metadata": {},
   "outputs": [],
   "source": [
    "df_meta['filename_video'][0]"
   ]
  },
  {
   "cell_type": "code",
   "execution_count": null,
   "id": "1561f359",
   "metadata": {},
   "outputs": [],
   "source": [
    "def calc_distance(x1,y1,x2,y2):\n",
    "    return np.sqrt((x2 - x1)**2 + (y2 - y1)**2)   "
   ]
  },
  {
   "cell_type": "code",
   "execution_count": null,
   "id": "d84783af",
   "metadata": {},
   "outputs": [],
   "source": [
    "def calc_displacements(df_xy):\n",
    "    xy_vals = df_xy.values\n",
    "    xy_diff = np.diff(xy_vals, axis=0, prepend=xy_vals[0,:].reshape((1,2)))\n",
    "    xy_disp = np.linalg.norm(xy_diff, axis=1)\n",
    "    \n",
    "    return xy_disp\n",
    "    "
   ]
  },
  {
   "cell_type": "code",
   "execution_count": null,
   "id": "66112d98",
   "metadata": {},
   "outputs": [],
   "source": [
    "def remove_outlier_IQR(df_in, col):\n",
    "    \n",
    "    Q1 = df_in[col].quantile(0.25)\n",
    "    Q3 = df_in[col].quantile(0.75)\n",
    "    IQR = Q3 - Q1 \n",
    "    \n",
    "    thresh_low  = Q1 - 1.7 * IQR\n",
    "    thresh_high = Q3 + 1.7 * IQR\n",
    "    \n",
    "    df_in.loc[((df_in[col] < thresh_low) | (df_in[col] > thresh_high)), 'displacement'] = np.nan\n",
    "    \n",
    "    return df_in"
   ]
  },
  {
   "cell_type": "code",
   "execution_count": null,
   "id": "cec31c5c",
   "metadata": {},
   "outputs": [],
   "source": [
    "def get_thigmo_info(meta_row):\n",
    "    \n",
    "    # arena data\n",
    "    x0 = meta_row['arena_x']\n",
    "    y0 = meta_row['arena_y']\n",
    "    radius = meta_row['arena_r']\n",
    "    thresh_rad = radius * (1/np.sqrt(2))\n",
    "        \n",
    "    # data from DLC \n",
    "    dlc_path = meta_row['dlc_result_file']\n",
    "    dlc_folder, dlc_filename = os.path.split(dlc_path)\n",
    "    dlc_obj = DLC_tracking(dlc_filename, dlc_folder)\n",
    "    \n",
    "    df_thigmo = dlc_obj.df_data[['frame', 'NT_x', 'NT_y']]\n",
    "    \n",
    "    df_thigmo.loc[:,'filename'] = meta_row['filename_video'].split('.avi')[0]\n",
    "    df_thigmo.loc[:,'dist_from_center'] = df_thigmo.apply(lambda x: calc_distance(x0,y0,x.NT_x,x.NT_y), axis=1)\n",
    "    df_thigmo.loc[:,'is_in_outer_zone'] = df_thigmo['dist_from_center'].apply(lambda x: 1 if x >= radius else 0)\n",
    "    \n",
    "    df_thigmo.loc[:,'displacement'] = calc_displacements(df_thigmo[['NT_x', 'NT_y']])\n",
    "    # should the outliers be removed at this point ?      \n",
    "    \n",
    "    return  df_thigmo"
   ]
  },
  {
   "cell_type": "code",
   "execution_count": null,
   "id": "8e0a0137",
   "metadata": {},
   "outputs": [],
   "source": [
    "list_df_thigmos = Parallel(n_jobs=40, verbose = 5)(delayed(get_thigmo_info)(row) \n",
    "                                                for index, row in df_meta.iterrows())"
   ]
  },
  {
   "cell_type": "code",
   "execution_count": null,
   "id": "d5017743",
   "metadata": {},
   "outputs": [],
   "source": [
    "df_thigmo_combined = pd.concat(list_df_thigmos)"
   ]
  },
  {
   "cell_type": "code",
   "execution_count": null,
   "id": "2ff2f1e2",
   "metadata": {},
   "outputs": [],
   "source": [
    "df_thigmo_combined"
   ]
  },
  {
   "cell_type": "code",
   "execution_count": null,
   "id": "571012a7",
   "metadata": {},
   "outputs": [],
   "source": [
    "df_thigmo_combined = remove_outlier_IQR(df_thigmo_combined, 'displacement')\n",
    "df_thigmo_combined"
   ]
  },
  {
   "cell_type": "code",
   "execution_count": null,
   "id": "d86db97e",
   "metadata": {},
   "outputs": [],
   "source": [
    "df_thigmo_combined.to_hdf('../../results/metadata_thigmotaxis_all.h5', key='thigmo')"
   ]
  },
  {
   "cell_type": "markdown",
   "id": "d779f404",
   "metadata": {},
   "source": [
    "# Control data"
   ]
  },
  {
   "cell_type": "code",
   "execution_count": null,
   "id": "2f9a5295",
   "metadata": {},
   "outputs": [],
   "source": [
    "df_results_control = pd.read_hdf('../../results/UMAP_HDBSCANclustering_withWV_31072023_1135.h5')"
   ]
  },
  {
   "cell_type": "code",
   "execution_count": null,
   "id": "50a04da6",
   "metadata": {},
   "outputs": [],
   "source": [
    "df_results_control.columns"
   ]
  },
  {
   "cell_type": "code",
   "execution_count": null,
   "id": "b2af4b44",
   "metadata": {},
   "outputs": [],
   "source": [
    "df_results_thigmo = df_results_control.merge(df_thigmo_combined, on=['filename', 'frame'], how='left')\n",
    "df_results_thigmo"
   ]
  },
  {
   "cell_type": "code",
   "execution_count": null,
   "id": "9f700042",
   "metadata": {},
   "outputs": [],
   "source": [
    "df_results_thigmo_corr = df_results_thigmo[df_results_thigmo['displacement'].notna()]\n",
    "df_results_thigmo_corr"
   ]
  },
  {
   "cell_type": "markdown",
   "id": "cb73443c",
   "metadata": {},
   "source": [
    "## Thigmotaxis and acclimitization"
   ]
  },
  {
   "cell_type": "code",
   "execution_count": null,
   "id": "627074d9",
   "metadata": {},
   "outputs": [],
   "source": [
    "df_results_thigmo_corr['acclimitization'] = df_results_thigmo_corr['filename'].apply(lambda x: 1 if ((x.split('_')[3]=='15m0s')|(x.split('_')[3]=='15m3s')) else 0)"
   ]
  },
  {
   "cell_type": "code",
   "execution_count": null,
   "id": "798f6b03",
   "metadata": {},
   "outputs": [],
   "source": [
    "df_results_thigmo_corr.groupby('acclimitization').apply(lambda x: x['is_in_outer_zone'].sum()/len(x)).reset_index(name='frac_to')"
   ]
  },
  {
   "cell_type": "code",
   "execution_count": null,
   "id": "9a453300",
   "metadata": {},
   "outputs": [],
   "source": [
    "df_results_thigmo_corr.groupby('acclimitization').agg({'dist_from_center':np.median, 'displacement':np.median})"
   ]
  },
  {
   "cell_type": "markdown",
   "id": "cda69048",
   "metadata": {},
   "source": [
    "### Per file"
   ]
  },
  {
   "cell_type": "markdown",
   "id": "563e402b",
   "metadata": {},
   "source": [
    "#### fraction of time in outer zone"
   ]
  },
  {
   "cell_type": "code",
   "execution_count": null,
   "id": "b2ac2dbf",
   "metadata": {},
   "outputs": [],
   "source": [
    "df_frac_to_ = df_results_thigmo_corr.groupby(['acclimitization', 'filename']).apply(lambda x: x['is_in_outer_zone'].sum()/len(x)).reset_index(name='frac_to')\n",
    "df_frac_to_"
   ]
  },
  {
   "cell_type": "code",
   "execution_count": null,
   "id": "58ac3dab",
   "metadata": {},
   "outputs": [],
   "source": [
    "frac_to_acc_1 = df_frac_to_.loc[df_frac_to_['acclimitization']==1, 'frac_to']\n",
    "frac_to_acc_0 = df_frac_to_.loc[df_frac_to_['acclimitization']==0, 'frac_to']"
   ]
  },
  {
   "cell_type": "code",
   "execution_count": null,
   "id": "52767d17",
   "metadata": {},
   "outputs": [],
   "source": [
    "mannwhitneyu(frac_to_acc_0, frac_to_acc_1)"
   ]
  },
  {
   "cell_type": "markdown",
   "id": "8a6bd2d4",
   "metadata": {},
   "source": [
    "#### median distance from center"
   ]
  },
  {
   "cell_type": "code",
   "execution_count": null,
   "id": "65d0fc5e",
   "metadata": {},
   "outputs": [],
   "source": [
    "df_md = df_results_thigmo_corr.groupby(['acclimitization', 'filename']).agg({'dist_from_center':np.median}).reset_index()\n",
    "df_md"
   ]
  },
  {
   "cell_type": "code",
   "execution_count": null,
   "id": "5ae18b52",
   "metadata": {},
   "outputs": [],
   "source": [
    "md_acc_1 = df_md.loc[df_md['acclimitization']==1, 'dist_from_center']\n",
    "md_acc_0 = df_md.loc[df_md['acclimitization']==0, 'dist_from_center']"
   ]
  },
  {
   "cell_type": "code",
   "execution_count": null,
   "id": "51e5f833",
   "metadata": {},
   "outputs": [],
   "source": [
    "mannwhitneyu(md_acc_0, md_acc_1)"
   ]
  },
  {
   "cell_type": "markdown",
   "id": "52f4e20e",
   "metadata": {},
   "source": [
    "#### Fraction of distance travelled in outer zone"
   ]
  },
  {
   "cell_type": "code",
   "execution_count": null,
   "id": "7e0b20c7",
   "metadata": {},
   "outputs": [],
   "source": [
    "df_acc_fracDO = df_results_thigmo_corr.groupby(['acclimitization', 'filename']).apply(lambda x: x.loc[x['is_in_outer_zone']==1,'displacement'].sum()/len(x)).reset_index(name='frac_do')\n",
    "df_acc_fracDO"
   ]
  },
  {
   "cell_type": "code",
   "execution_count": null,
   "id": "b7283821",
   "metadata": {},
   "outputs": [],
   "source": [
    "fracDO_acc_1 = df_acc_fracDO.loc[df_acc_fracDO['acclimitization']==1, 'frac_do']\n",
    "fracDO_acc_0 = df_acc_fracDO.loc[df_acc_fracDO['acclimitization']==0, 'frac_do']"
   ]
  },
  {
   "cell_type": "code",
   "execution_count": null,
   "id": "43854cc7",
   "metadata": {},
   "outputs": [],
   "source": [
    "mannwhitneyu(fracDO_acc_0, fracDO_acc_1)"
   ]
  },
  {
   "cell_type": "markdown",
   "id": "5d39a169",
   "metadata": {},
   "source": [
    "## Thigmotaxis and clusters"
   ]
  },
  {
   "cell_type": "code",
   "execution_count": null,
   "id": "b2aff55e",
   "metadata": {},
   "outputs": [],
   "source": [
    "df_clus_fracTO = df_results_thigmo_corr.groupby(['hdbscan_wv_scaled', 'filename']).apply(lambda x: x['is_in_outer_zone'].sum()/len(x)).reset_index(name='frac_to')\n",
    "df_clus_fracTO"
   ]
  },
  {
   "cell_type": "markdown",
   "id": "5ba582eb",
   "metadata": {},
   "source": [
    "### Frac of time spent in outerzone"
   ]
  },
  {
   "cell_type": "code",
   "execution_count": null,
   "id": "17034d39",
   "metadata": {},
   "outputs": [],
   "source": [
    "dict_clus_fracTO = {}\n",
    "for name, group in df_clus_fracTO.groupby('hdbscan_wv_scaled'):\n",
    "    dict_clus_fracTO[name] = group['frac_to'].values "
   ]
  },
  {
   "cell_type": "code",
   "execution_count": null,
   "id": "47bfac0e",
   "metadata": {},
   "outputs": [],
   "source": [
    "def get_results_mwu(dict_clus, alt='two-sided'):\n",
    "    \n",
    "    df_mwu_stat = pd.DataFrame(index=[f'clus_{i}' for i in dict_clus.keys()], columns=[f'clus_{i}' for i in dict_clus.keys()])\n",
    "    df_mwu_pval = pd.DataFrame(index=[f'clus_{i}' for i in dict_clus.keys()], columns=[f'clus_{i}' for i in dict_clus.keys()])\n",
    "    for clus1, clus2 in itertools.product(dict_clus.keys(),dict_clus.keys()):\n",
    "        mwu_results = mannwhitneyu(dict_clus[clus1],dict_clus[clus2], alternative=alt)\n",
    "        df_mwu_pval.loc[f'clus_{clus1}',f'clus_{clus2}'] = mwu_results[1]\n",
    "        df_mwu_stat.loc[f'clus_{clus1}',f'clus_{clus2}'] = mwu_results[0]\n",
    "    \n",
    "    return df_mwu_stat, df_mwu_pval"
   ]
  },
  {
   "cell_type": "code",
   "execution_count": null,
   "id": "c5aa0822",
   "metadata": {},
   "outputs": [],
   "source": [
    "df_mwu_pval_fracTO = get_results_mwu(dict_clus_fracTO)[1]\n",
    "df_mwu_pval_fracTO"
   ]
  },
  {
   "cell_type": "code",
   "execution_count": null,
   "id": "1aa07d77",
   "metadata": {},
   "outputs": [],
   "source": [
    "df_mwu_pval_fracTO"
   ]
  },
  {
   "cell_type": "code",
   "execution_count": null,
   "id": "b092da7c",
   "metadata": {},
   "outputs": [],
   "source": [
    "sns.heatmap(df_mwu_pval_fracTO < 0.05, cmap=\"PiYG\", linewidths=0.5)"
   ]
  },
  {
   "cell_type": "code",
   "execution_count": null,
   "id": "aaf649a3",
   "metadata": {},
   "outputs": [],
   "source": [
    "df_mwu_pval_fracTO_less = get_results_mwu(dict_clus_fracTO, alt='less')[1]\n",
    "sns.heatmap(df_mwu_pval_fracTO_less < 0.05, cmap=\"PiYG\", linewidths=0.5)"
   ]
  },
  {
   "cell_type": "code",
   "execution_count": null,
   "id": "6d13bf76",
   "metadata": {},
   "outputs": [],
   "source": [
    "df_mwu_pval_fracTO_greater = get_results_mwu(dict_clus_fracTO, alt='greater')[1]\n",
    "sns.heatmap(df_mwu_pval_fracTO_greater < 0.05, cmap=\"PiYG\", linewidths=0.5)"
   ]
  },
  {
   "cell_type": "markdown",
   "id": "2fb80db6",
   "metadata": {},
   "source": [
    "### Median distance from center"
   ]
  },
  {
   "cell_type": "code",
   "execution_count": null,
   "id": "a75def0e",
   "metadata": {},
   "outputs": [],
   "source": [
    "df_clus_MD = df_results_thigmo_corr.groupby(['hdbscan_wv_scaled', 'filename']).agg({'dist_from_center':np.median}).reset_index()\n",
    "df_clus_MD"
   ]
  },
  {
   "cell_type": "code",
   "execution_count": null,
   "id": "7f6edf97",
   "metadata": {},
   "outputs": [],
   "source": [
    "dict_clus_MD = {}\n",
    "for name, group in df_clus_MD.groupby('hdbscan_wv_scaled'):\n",
    "    dict_clus_MD[name] = group['dist_from_center'].values "
   ]
  },
  {
   "cell_type": "code",
   "execution_count": null,
   "id": "046cbfb0",
   "metadata": {},
   "outputs": [],
   "source": [
    "df_mwu_pval_MD = get_results_mwu(dict_clus_MD)[1]\n",
    "df_mwu_pval_MD"
   ]
  },
  {
   "cell_type": "code",
   "execution_count": null,
   "id": "54c839b1",
   "metadata": {},
   "outputs": [],
   "source": [
    "sns.heatmap(df_mwu_pval_MD < 0.05, cmap='PiYG', linewidths=0.5)"
   ]
  },
  {
   "cell_type": "code",
   "execution_count": null,
   "id": "84d57424",
   "metadata": {},
   "outputs": [],
   "source": [
    "df_mwu_pval_MD_less = get_results_mwu(dict_clus_MD, alt='less')[1]\n",
    "sns.heatmap(df_mwu_pval_MD_less < 0.05, cmap='PiYG', linewidths=0.5)"
   ]
  },
  {
   "cell_type": "code",
   "execution_count": null,
   "id": "d65b2b8c",
   "metadata": {},
   "outputs": [],
   "source": [
    "df_mwu_pval_MD_greater = get_results_mwu(dict_clus_MD, alt='greater')[1]\n",
    "sns.heatmap(df_mwu_pval_MD_greater < 0.05, cmap='PiYG', linewidths=0.5)"
   ]
  },
  {
   "cell_type": "markdown",
   "id": "38bb7606",
   "metadata": {},
   "source": [
    "### Total distance in outerzone"
   ]
  },
  {
   "cell_type": "code",
   "execution_count": null,
   "id": "c21a8d98",
   "metadata": {},
   "outputs": [],
   "source": [
    "df_clus_fracDO = df_results_thigmo_corr.groupby(['hdbscan_wv_scaled', 'filename']).apply(lambda x: x.loc[x['is_in_outer_zone']==1,'displacement'].sum()/len(x)).reset_index(name='frac_do')\n",
    "df_clus_fracDO"
   ]
  },
  {
   "cell_type": "code",
   "execution_count": null,
   "id": "c8bfc7a4",
   "metadata": {},
   "outputs": [],
   "source": [
    "dict_clus_TDO = {}\n",
    "for name, group in df_clus_fracDO.groupby('hdbscan_wv_scaled'):\n",
    "    dict_clus_TDO[name] = group['frac_do'].values "
   ]
  },
  {
   "cell_type": "code",
   "execution_count": null,
   "id": "43c3b641",
   "metadata": {},
   "outputs": [],
   "source": [
    "df_mwu_pval_TDO = get_results_mwu(dict_clus_TDO)[1]\n",
    "df_mwu_pval_TDO"
   ]
  },
  {
   "cell_type": "code",
   "execution_count": null,
   "id": "c716e611",
   "metadata": {},
   "outputs": [],
   "source": [
    "sns.heatmap(df_mwu_pval_TDO < 0.05, cmap='PiYG', linewidths=0.5)"
   ]
  },
  {
   "cell_type": "code",
   "execution_count": null,
   "id": "e28a1356",
   "metadata": {},
   "outputs": [],
   "source": [
    "df_mwu_pval_TDO_less = get_results_mwu(dict_clus_TDO, alt='less')[1]\n",
    "sns.heatmap(df_mwu_pval_TDO_less < 0.05, cmap='PiYG', linewidths=0.5)"
   ]
  },
  {
   "cell_type": "code",
   "execution_count": null,
   "id": "2d2af113",
   "metadata": {},
   "outputs": [],
   "source": [
    "df_mwu_pval_TDO_greater = get_results_mwu(dict_clus_TDO, alt='greater')[1]\n",
    "sns.heatmap(df_mwu_pval_TDO_greater < 0.05, cmap='PiYG', linewidths=0.5)"
   ]
  },
  {
   "cell_type": "markdown",
   "id": "62696ab6",
   "metadata": {},
   "source": [
    "# Thigmotaxis control vs drugs"
   ]
  },
  {
   "cell_type": "code",
   "execution_count": null,
   "id": "6959dd87",
   "metadata": {},
   "outputs": [],
   "source": []
  }
 ],
 "metadata": {
  "kernelspec": {
   "display_name": "Python 3 (ipykernel)",
   "language": "python",
   "name": "python3"
  },
  "language_info": {
   "codemirror_mode": {
    "name": "ipython",
    "version": 3
   },
   "file_extension": ".py",
   "mimetype": "text/x-python",
   "name": "python",
   "nbconvert_exporter": "python",
   "pygments_lexer": "ipython3",
   "version": "3.8.10"
  },
  "toc": {
   "base_numbering": 1,
   "nav_menu": {},
   "number_sections": true,
   "sideBar": true,
   "skip_h1_title": false,
   "title_cell": "Table of Contents",
   "title_sidebar": "Contents",
   "toc_cell": false,
   "toc_position": {},
   "toc_section_display": true,
   "toc_window_display": false
  }
 },
 "nbformat": 4,
 "nbformat_minor": 5
}
