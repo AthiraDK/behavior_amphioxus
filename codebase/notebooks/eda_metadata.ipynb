{
 "cells": [
  {
   "cell_type": "markdown",
   "id": "462bd612",
   "metadata": {},
   "source": [
    "Purpose of this notebook is to get metadata of the experiment from the behavioral data and see how the variables of the experiment look like.\n",
    "- Need to look at :\n",
    "1. The distribution of age (time after fertilization)\n",
    "2. Number of animals and number of frames\n",
    "2. Number of control vs stimuli (drug and light) data\n",
    "3. Details regarding the stimuli used (drug conc, light wavelength, light brightness etc)\n",
    "4. Other variables like time of collection, temperature\n",
    "5. Get info about the arena\n",
    "6. Create a metadata file to compile all the above information + details about the raw data videos "
   ]
  },
  {
   "cell_type": "code",
   "execution_count": 14,
   "id": "ee386f73",
   "metadata": {},
   "outputs": [],
   "source": [
    "import os, glob"
   ]
  },
  {
   "cell_type": "code",
   "execution_count": 15,
   "id": "d19e9be8",
   "metadata": {},
   "outputs": [],
   "source": [
    "import pandas as pd\n",
    "from IPython.display import display, HTML"
   ]
  },
  {
   "cell_type": "code",
   "execution_count": 16,
   "id": "38823219-501e-449e-8ebc-412f7cbbca04",
   "metadata": {},
   "outputs": [],
   "source": [
    "import matplotlib.pyplot as plt\n",
    "import seaborn as sns"
   ]
  },
  {
   "cell_type": "markdown",
   "id": "0988092c",
   "metadata": {},
   "source": [
    "# Video Data "
   ]
  },
  {
   "cell_type": "code",
   "execution_count": 17,
   "id": "5c31a011",
   "metadata": {},
   "outputs": [
    {
     "name": "stdout",
     "output_type": "stream",
     "text": [
      "Total number of videos collected: 828\n"
     ]
    }
   ],
   "source": [
    "videos_folder = '/media/athira/Amphioxus1/'\n",
    "\n",
    "vid_file_list = []\n",
    "\n",
    "for vid_file in glob.glob(\"/media/athira/Amphioxus1/2**/**/*INVERTED.avi\"):\n",
    "    vid_file_list.append(vid_file)\n",
    "print(f'Total number of videos collected: {len(vid_file_list)}')"
   ]
  },
  {
   "cell_type": "code",
   "execution_count": 18,
   "id": "fce0f643-fd50-48df-87e1-f3de645e4e1e",
   "metadata": {},
   "outputs": [
    {
     "data": {
      "text/plain": [
       "'/media/athira/Amphioxus1/20180721/Exp_20180721_131334_1_5m0s_SNAP-5114_None_None/20180721_131334_1_5m0s_SNAP-5114_None_None_INVERTED.avi'"
      ]
     },
     "execution_count": 18,
     "metadata": {},
     "output_type": "execute_result"
    }
   ],
   "source": [
    "vid_file_list[240]"
   ]
  },
  {
   "cell_type": "code",
   "execution_count": 19,
   "id": "f8f5f10c-0e98-46a0-aa78-90907051e7c2",
   "metadata": {},
   "outputs": [],
   "source": [
    "def extract_info_from_filename(file_id, keys=['date','time','crowdsize','duration_m_s','drug','genetics','light','inverted']):\n",
    "    meta_info = file_id.split('_')\n",
    "    return {key: meta_info[i] for i, key in enumerate(keys)}   \n",
    "    "
   ]
  },
  {
   "cell_type": "code",
   "execution_count": 20,
   "id": "22c44df7-9029-4187-9d96-d3a659e49476",
   "metadata": {},
   "outputs": [],
   "source": [
    "def extract_meta_data(exp_folder_path, keys = ['drugs','duration','age','framerate','dechorionated', 'brightness','infrared']):\n",
    "    meta_file_path = os.path.join(exp_folder_path, 'metadata.txt')\n",
    "    df_meta = pd.read_csv(meta_file_path, sep='\\t')\n",
    "\n",
    "    return {key: df_meta[key][0] for key in keys}"
   ]
  },
  {
   "cell_type": "code",
   "execution_count": 49,
   "id": "a05bee68-93ce-48ea-8ce6-b2a213e37361",
   "metadata": {},
   "outputs": [],
   "source": [
    "def extract_stim_data(exp_folder_path, keys = []):\n",
    "    meta_file_path = os.path.join(exp_folder_path, 'stimuli_profile.txt')\n",
    "    df_stim = pd.read_csv(meta_file_path, sep='\\t')\n",
    "\n",
    "    try:\n",
    "        return {'stim_on':df_stim['time_on'][0], 'stim_off':df_stim['time_off'][0], 'stim_RGB':df_stim['message_on'][0]}\n",
    "    except KeyError:\n",
    "        if 'Light' in exp_folder_path:\n",
    "            print(f'KeyError encountered while trying to get Stimulus information!!!!!!!{exp_folder_path}')\n",
    "        return {'stim_on':None, 'stim_off':None, 'stim_RGB':None}\n",
    "    \n",
    "    except IndexError as index_error:\n",
    "        if 'Light' in exp_folder_path:\n",
    "            print(f'Error message:{index_error}')\n",
    "            print(df_stim['time_on'])\n",
    "        return {'stim_on':None, 'stim_off':None, 'stim_RGB':None}\n",
    "        \n",
    "        "
   ]
  },
  {
   "cell_type": "code",
   "execution_count": 50,
   "id": "73f08827-198d-417c-bd6d-6059224ffa80",
   "metadata": {},
   "outputs": [],
   "source": [
    "def extract_temp_data(exp_folder_path, key='temperature'):\n",
    "    temp_file_path = os.path.join(exp_folder_path, 'logged_temperatures.txt')\n",
    "    df_temp = pd.read_csv(temp_file_path, sep='\\t')\n",
    "    df_temp[key] = df_temp[key].astype(float)\n",
    "    \n",
    "    return {'min_temp':df_temp[key].min(), 'max_temp':df_temp[key].max(), 'median_temp':df_temp[key].mean()}"
   ]
  },
  {
   "cell_type": "code",
   "execution_count": 51,
   "id": "0ce9a661-9417-42bb-a0f8-ec091adc44f1",
   "metadata": {},
   "outputs": [],
   "source": [
    "def extract_meta(filepath):\n",
    "\n",
    "    result_dict = {}\n",
    "    exp_folder_path, filename = os.path.split(filepath.values[0])\n",
    "    \n",
    "    file_id, file_root = filename.split('.')\n",
    "    result_dict['filename_video'] = filename\n",
    "    result_dict['format'] = file_root\n",
    "    result_dict['metafile_missing'] = False\n",
    "\n",
    "    result_dict.update(extract_info_from_filename(file_id))\n",
    "    \n",
    "    try:\n",
    "        result_dict.update(extract_meta_data(exp_folder_path))\n",
    "        result_dict.update(extract_temp_data(exp_folder_path))\n",
    "        result_dict.update(extract_stim_data(exp_folder_path))\n",
    "        \n",
    "     \n",
    "    except FileNotFoundError as file_error:\n",
    "        print('File Not Found !!!')\n",
    "        print(f'Error message:{file_error}')\n",
    "        result_dict['metafile_missing'] = True\n",
    "        \n",
    "    \n",
    "    return result_dict\n",
    "\n",
    "    "
   ]
  },
  {
   "cell_type": "code",
   "execution_count": 52,
   "id": "a15eca24-de83-4255-b5a1-1a57dda795ba",
   "metadata": {},
   "outputs": [],
   "source": [
    "df_meta_video = pd.DataFrame()\n",
    "df_meta_video['path_to_video'] = vid_file_list"
   ]
  },
  {
   "cell_type": "code",
   "execution_count": 53,
   "id": "257fc187",
   "metadata": {},
   "outputs": [
    {
     "data": {
      "text/html": [
       "<div>\n",
       "<style scoped>\n",
       "    .dataframe tbody tr th:only-of-type {\n",
       "        vertical-align: middle;\n",
       "    }\n",
       "\n",
       "    .dataframe tbody tr th {\n",
       "        vertical-align: top;\n",
       "    }\n",
       "\n",
       "    .dataframe thead th {\n",
       "        text-align: right;\n",
       "    }\n",
       "</style>\n",
       "<table border=\"1\" class=\"dataframe\">\n",
       "  <thead>\n",
       "    <tr style=\"text-align: right;\">\n",
       "      <th></th>\n",
       "      <th>path_to_video</th>\n",
       "    </tr>\n",
       "  </thead>\n",
       "  <tbody>\n",
       "    <tr>\n",
       "      <th>0</th>\n",
       "      <td>/media/athira/Amphioxus1/20180719/Exp_20180719...</td>\n",
       "    </tr>\n",
       "    <tr>\n",
       "      <th>1</th>\n",
       "      <td>/media/athira/Amphioxus1/20180719/Exp_20180719...</td>\n",
       "    </tr>\n",
       "    <tr>\n",
       "      <th>2</th>\n",
       "      <td>/media/athira/Amphioxus1/20180719/Exp_20180719...</td>\n",
       "    </tr>\n",
       "    <tr>\n",
       "      <th>3</th>\n",
       "      <td>/media/athira/Amphioxus1/20180719/Exp_20180719...</td>\n",
       "    </tr>\n",
       "    <tr>\n",
       "      <th>4</th>\n",
       "      <td>/media/athira/Amphioxus1/20180719/Exp_20180719...</td>\n",
       "    </tr>\n",
       "    <tr>\n",
       "      <th>...</th>\n",
       "      <td>...</td>\n",
       "    </tr>\n",
       "    <tr>\n",
       "      <th>823</th>\n",
       "      <td>/media/athira/Amphioxus1/20180727/Exp_20180727...</td>\n",
       "    </tr>\n",
       "    <tr>\n",
       "      <th>824</th>\n",
       "      <td>/media/athira/Amphioxus1/20180727/Exp_20180727...</td>\n",
       "    </tr>\n",
       "    <tr>\n",
       "      <th>825</th>\n",
       "      <td>/media/athira/Amphioxus1/20180727/Exp_20180727...</td>\n",
       "    </tr>\n",
       "    <tr>\n",
       "      <th>826</th>\n",
       "      <td>/media/athira/Amphioxus1/20180727/Exp_20180727...</td>\n",
       "    </tr>\n",
       "    <tr>\n",
       "      <th>827</th>\n",
       "      <td>/media/athira/Amphioxus1/20180727/Exp_20180727...</td>\n",
       "    </tr>\n",
       "  </tbody>\n",
       "</table>\n",
       "<p>828 rows × 1 columns</p>\n",
       "</div>"
      ],
      "text/plain": [
       "                                         path_to_video\n",
       "0    /media/athira/Amphioxus1/20180719/Exp_20180719...\n",
       "1    /media/athira/Amphioxus1/20180719/Exp_20180719...\n",
       "2    /media/athira/Amphioxus1/20180719/Exp_20180719...\n",
       "3    /media/athira/Amphioxus1/20180719/Exp_20180719...\n",
       "4    /media/athira/Amphioxus1/20180719/Exp_20180719...\n",
       "..                                                 ...\n",
       "823  /media/athira/Amphioxus1/20180727/Exp_20180727...\n",
       "824  /media/athira/Amphioxus1/20180727/Exp_20180727...\n",
       "825  /media/athira/Amphioxus1/20180727/Exp_20180727...\n",
       "826  /media/athira/Amphioxus1/20180727/Exp_20180727...\n",
       "827  /media/athira/Amphioxus1/20180727/Exp_20180727...\n",
       "\n",
       "[828 rows x 1 columns]"
      ]
     },
     "execution_count": 53,
     "metadata": {},
     "output_type": "execute_result"
    }
   ],
   "source": [
    "df_meta_video"
   ]
  },
  {
   "cell_type": "code",
   "execution_count": 54,
   "id": "72c95cca-fd18-4044-b84d-d4da22d61d45",
   "metadata": {},
   "outputs": [
    {
     "name": "stdout",
     "output_type": "stream",
     "text": [
      "File Not Found !!!\n",
      "Error message:[Errno 2] No such file or directory: '/media/athira/Amphioxus1/20180719/Exp_20180719_110649_1_15m0s_SNAP-5114_None_None/metadata.txt'\n",
      "File Not Found !!!\n",
      "Error message:[Errno 2] No such file or directory: '/media/athira/Amphioxus1/20180719/Exp_20180719_124506_1_15m0s_SNAP-5114_None_None/metadata.txt'\n",
      "File Not Found !!!\n",
      "Error message:[Errno 2] No such file or directory: '/media/athira/Amphioxus1/20180721/Exp_20180721_111020_1_15m0s_SNAP-5114_None_None/metadata.txt'\n",
      "File Not Found !!!\n",
      "Error message:[Errno 2] No such file or directory: '/media/athira/Amphioxus1/20180722/Exp_20180722_180913_1_55m0s_2-AminoEthylHydrogenSulfate_None_None/metadata.txt'\n",
      "File Not Found !!!\n",
      "Error message:[Errno 2] No such file or directory: '/media/athira/Amphioxus1/20180722/Exp_20180722_180935_1_55m0s_None_None_None/metadata.txt'\n"
     ]
    }
   ],
   "source": [
    "df_meta_extracted = df_meta_video.apply(lambda x: extract_meta(x), axis=1, result_type='expand') "
   ]
  },
  {
   "cell_type": "code",
   "execution_count": 55,
   "id": "2348c2b3",
   "metadata": {},
   "outputs": [
    {
     "data": {
      "text/html": [
       "<div>\n",
       "<style scoped>\n",
       "    .dataframe tbody tr th:only-of-type {\n",
       "        vertical-align: middle;\n",
       "    }\n",
       "\n",
       "    .dataframe tbody tr th {\n",
       "        vertical-align: top;\n",
       "    }\n",
       "\n",
       "    .dataframe thead th {\n",
       "        text-align: right;\n",
       "    }\n",
       "</style>\n",
       "<table border=\"1\" class=\"dataframe\">\n",
       "  <thead>\n",
       "    <tr style=\"text-align: right;\">\n",
       "      <th></th>\n",
       "      <th>filename_video</th>\n",
       "      <th>format</th>\n",
       "      <th>metafile_missing</th>\n",
       "      <th>date</th>\n",
       "      <th>time</th>\n",
       "      <th>crowdsize</th>\n",
       "      <th>duration_m_s</th>\n",
       "      <th>drug</th>\n",
       "      <th>genetics</th>\n",
       "      <th>light</th>\n",
       "      <th>...</th>\n",
       "      <th>framerate</th>\n",
       "      <th>dechorionated</th>\n",
       "      <th>brightness</th>\n",
       "      <th>infrared</th>\n",
       "      <th>min_temp</th>\n",
       "      <th>max_temp</th>\n",
       "      <th>median_temp</th>\n",
       "      <th>stim_on</th>\n",
       "      <th>stim_off</th>\n",
       "      <th>stim_RGB</th>\n",
       "    </tr>\n",
       "  </thead>\n",
       "  <tbody>\n",
       "    <tr>\n",
       "      <th>0</th>\n",
       "      <td>20180719_133944_1_5m0s_None_None_None_INVERTED...</td>\n",
       "      <td>avi</td>\n",
       "      <td>False</td>\n",
       "      <td>20180719</td>\n",
       "      <td>133944</td>\n",
       "      <td>1</td>\n",
       "      <td>5m0s</td>\n",
       "      <td>None</td>\n",
       "      <td>None</td>\n",
       "      <td>None</td>\n",
       "      <td>...</td>\n",
       "      <td>30.0</td>\n",
       "      <td>False</td>\n",
       "      <td>0.0</td>\n",
       "      <td>81.0</td>\n",
       "      <td>18.50</td>\n",
       "      <td>18.75</td>\n",
       "      <td>18.629202</td>\n",
       "      <td>NaN</td>\n",
       "      <td>NaN</td>\n",
       "      <td>None</td>\n",
       "    </tr>\n",
       "    <tr>\n",
       "      <th>1</th>\n",
       "      <td>20180719_134424_1_15m0s_SNAP-5114_None_None_IN...</td>\n",
       "      <td>avi</td>\n",
       "      <td>False</td>\n",
       "      <td>20180719</td>\n",
       "      <td>134424</td>\n",
       "      <td>1</td>\n",
       "      <td>15m0s</td>\n",
       "      <td>SNAP-5114</td>\n",
       "      <td>None</td>\n",
       "      <td>None</td>\n",
       "      <td>...</td>\n",
       "      <td>30.0</td>\n",
       "      <td>False</td>\n",
       "      <td>0.0</td>\n",
       "      <td>80.0</td>\n",
       "      <td>18.25</td>\n",
       "      <td>18.75</td>\n",
       "      <td>18.587413</td>\n",
       "      <td>NaN</td>\n",
       "      <td>NaN</td>\n",
       "      <td>None</td>\n",
       "    </tr>\n",
       "    <tr>\n",
       "      <th>2</th>\n",
       "      <td>20180719_134449_1_5m0s_None_None_None_INVERTED...</td>\n",
       "      <td>avi</td>\n",
       "      <td>False</td>\n",
       "      <td>20180719</td>\n",
       "      <td>134449</td>\n",
       "      <td>1</td>\n",
       "      <td>5m0s</td>\n",
       "      <td>None</td>\n",
       "      <td>None</td>\n",
       "      <td>None</td>\n",
       "      <td>...</td>\n",
       "      <td>30.0</td>\n",
       "      <td>False</td>\n",
       "      <td>0.0</td>\n",
       "      <td>81.0</td>\n",
       "      <td>18.75</td>\n",
       "      <td>19.50</td>\n",
       "      <td>19.170502</td>\n",
       "      <td>NaN</td>\n",
       "      <td>NaN</td>\n",
       "      <td>None</td>\n",
       "    </tr>\n",
       "    <tr>\n",
       "      <th>3</th>\n",
       "      <td>20180719_135245_1_15m0s_None_None_None_INVERTE...</td>\n",
       "      <td>avi</td>\n",
       "      <td>False</td>\n",
       "      <td>20180719</td>\n",
       "      <td>135245</td>\n",
       "      <td>1</td>\n",
       "      <td>15m0s</td>\n",
       "      <td>None</td>\n",
       "      <td>None</td>\n",
       "      <td>None</td>\n",
       "      <td>...</td>\n",
       "      <td>30.0</td>\n",
       "      <td>False</td>\n",
       "      <td>0.0</td>\n",
       "      <td>81.0</td>\n",
       "      <td>19.00</td>\n",
       "      <td>19.25</td>\n",
       "      <td>19.033170</td>\n",
       "      <td>NaN</td>\n",
       "      <td>NaN</td>\n",
       "      <td>None</td>\n",
       "    </tr>\n",
       "    <tr>\n",
       "      <th>4</th>\n",
       "      <td>20180719_135942_1_5m0s_SNAP-5114_None_None_INV...</td>\n",
       "      <td>avi</td>\n",
       "      <td>False</td>\n",
       "      <td>20180719</td>\n",
       "      <td>135942</td>\n",
       "      <td>1</td>\n",
       "      <td>5m0s</td>\n",
       "      <td>SNAP-5114</td>\n",
       "      <td>None</td>\n",
       "      <td>None</td>\n",
       "      <td>...</td>\n",
       "      <td>30.0</td>\n",
       "      <td>False</td>\n",
       "      <td>0.0</td>\n",
       "      <td>80.0</td>\n",
       "      <td>18.50</td>\n",
       "      <td>18.50</td>\n",
       "      <td>18.500000</td>\n",
       "      <td>NaN</td>\n",
       "      <td>NaN</td>\n",
       "      <td>None</td>\n",
       "    </tr>\n",
       "    <tr>\n",
       "      <th>...</th>\n",
       "      <td>...</td>\n",
       "      <td>...</td>\n",
       "      <td>...</td>\n",
       "      <td>...</td>\n",
       "      <td>...</td>\n",
       "      <td>...</td>\n",
       "      <td>...</td>\n",
       "      <td>...</td>\n",
       "      <td>...</td>\n",
       "      <td>...</td>\n",
       "      <td>...</td>\n",
       "      <td>...</td>\n",
       "      <td>...</td>\n",
       "      <td>...</td>\n",
       "      <td>...</td>\n",
       "      <td>...</td>\n",
       "      <td>...</td>\n",
       "      <td>...</td>\n",
       "      <td>...</td>\n",
       "      <td>...</td>\n",
       "      <td>...</td>\n",
       "    </tr>\n",
       "    <tr>\n",
       "      <th>823</th>\n",
       "      <td>20180727_182500_1_5m0s_Dihydrokainic acid_None...</td>\n",
       "      <td>avi</td>\n",
       "      <td>False</td>\n",
       "      <td>20180727</td>\n",
       "      <td>182500</td>\n",
       "      <td>1</td>\n",
       "      <td>5m0s</td>\n",
       "      <td>Dihydrokainic acid</td>\n",
       "      <td>None</td>\n",
       "      <td>None</td>\n",
       "      <td>...</td>\n",
       "      <td>30.0</td>\n",
       "      <td>False</td>\n",
       "      <td>0.0</td>\n",
       "      <td>81.0</td>\n",
       "      <td>18.25</td>\n",
       "      <td>18.25</td>\n",
       "      <td>18.250000</td>\n",
       "      <td>NaN</td>\n",
       "      <td>NaN</td>\n",
       "      <td>None</td>\n",
       "    </tr>\n",
       "    <tr>\n",
       "      <th>824</th>\n",
       "      <td>20180727_183214_1_15m0s_Dihydrokainic acid_Non...</td>\n",
       "      <td>avi</td>\n",
       "      <td>False</td>\n",
       "      <td>20180727</td>\n",
       "      <td>183214</td>\n",
       "      <td>1</td>\n",
       "      <td>15m0s</td>\n",
       "      <td>Dihydrokainic acid</td>\n",
       "      <td>None</td>\n",
       "      <td>None</td>\n",
       "      <td>...</td>\n",
       "      <td>30.0</td>\n",
       "      <td>False</td>\n",
       "      <td>0.0</td>\n",
       "      <td>81.0</td>\n",
       "      <td>18.25</td>\n",
       "      <td>19.75</td>\n",
       "      <td>19.226257</td>\n",
       "      <td>NaN</td>\n",
       "      <td>NaN</td>\n",
       "      <td>None</td>\n",
       "    </tr>\n",
       "    <tr>\n",
       "      <th>825</th>\n",
       "      <td>20180727_184720_1_5m0s_Dihydrokainic acid_None...</td>\n",
       "      <td>avi</td>\n",
       "      <td>False</td>\n",
       "      <td>20180727</td>\n",
       "      <td>184720</td>\n",
       "      <td>1</td>\n",
       "      <td>5m0s</td>\n",
       "      <td>Dihydrokainic acid</td>\n",
       "      <td>None</td>\n",
       "      <td>None</td>\n",
       "      <td>...</td>\n",
       "      <td>30.0</td>\n",
       "      <td>False</td>\n",
       "      <td>0.0</td>\n",
       "      <td>81.0</td>\n",
       "      <td>19.00</td>\n",
       "      <td>19.25</td>\n",
       "      <td>19.089958</td>\n",
       "      <td>NaN</td>\n",
       "      <td>NaN</td>\n",
       "      <td>None</td>\n",
       "    </tr>\n",
       "    <tr>\n",
       "      <th>826</th>\n",
       "      <td>20180727_185225_1_5m0s_Dihydrokainic acid_None...</td>\n",
       "      <td>avi</td>\n",
       "      <td>False</td>\n",
       "      <td>20180727</td>\n",
       "      <td>185225</td>\n",
       "      <td>1</td>\n",
       "      <td>5m0s</td>\n",
       "      <td>Dihydrokainic acid</td>\n",
       "      <td>None</td>\n",
       "      <td>None</td>\n",
       "      <td>...</td>\n",
       "      <td>30.0</td>\n",
       "      <td>False</td>\n",
       "      <td>0.0</td>\n",
       "      <td>81.0</td>\n",
       "      <td>19.00</td>\n",
       "      <td>19.00</td>\n",
       "      <td>19.000000</td>\n",
       "      <td>NaN</td>\n",
       "      <td>NaN</td>\n",
       "      <td>None</td>\n",
       "    </tr>\n",
       "    <tr>\n",
       "      <th>827</th>\n",
       "      <td>20180727_185730_1_5m0s_Dihydrokainic acid_None...</td>\n",
       "      <td>avi</td>\n",
       "      <td>False</td>\n",
       "      <td>20180727</td>\n",
       "      <td>185730</td>\n",
       "      <td>1</td>\n",
       "      <td>5m0s</td>\n",
       "      <td>Dihydrokainic acid</td>\n",
       "      <td>None</td>\n",
       "      <td>None</td>\n",
       "      <td>...</td>\n",
       "      <td>30.0</td>\n",
       "      <td>False</td>\n",
       "      <td>0.0</td>\n",
       "      <td>81.0</td>\n",
       "      <td>18.75</td>\n",
       "      <td>19.00</td>\n",
       "      <td>18.986402</td>\n",
       "      <td>NaN</td>\n",
       "      <td>NaN</td>\n",
       "      <td>None</td>\n",
       "    </tr>\n",
       "  </tbody>\n",
       "</table>\n",
       "<p>828 rows × 24 columns</p>\n",
       "</div>"
      ],
      "text/plain": [
       "                                        filename_video format  \\\n",
       "0    20180719_133944_1_5m0s_None_None_None_INVERTED...    avi   \n",
       "1    20180719_134424_1_15m0s_SNAP-5114_None_None_IN...    avi   \n",
       "2    20180719_134449_1_5m0s_None_None_None_INVERTED...    avi   \n",
       "3    20180719_135245_1_15m0s_None_None_None_INVERTE...    avi   \n",
       "4    20180719_135942_1_5m0s_SNAP-5114_None_None_INV...    avi   \n",
       "..                                                 ...    ...   \n",
       "823  20180727_182500_1_5m0s_Dihydrokainic acid_None...    avi   \n",
       "824  20180727_183214_1_15m0s_Dihydrokainic acid_Non...    avi   \n",
       "825  20180727_184720_1_5m0s_Dihydrokainic acid_None...    avi   \n",
       "826  20180727_185225_1_5m0s_Dihydrokainic acid_None...    avi   \n",
       "827  20180727_185730_1_5m0s_Dihydrokainic acid_None...    avi   \n",
       "\n",
       "     metafile_missing      date    time crowdsize duration_m_s  \\\n",
       "0               False  20180719  133944         1         5m0s   \n",
       "1               False  20180719  134424         1        15m0s   \n",
       "2               False  20180719  134449         1         5m0s   \n",
       "3               False  20180719  135245         1        15m0s   \n",
       "4               False  20180719  135942         1         5m0s   \n",
       "..                ...       ...     ...       ...          ...   \n",
       "823             False  20180727  182500         1         5m0s   \n",
       "824             False  20180727  183214         1        15m0s   \n",
       "825             False  20180727  184720         1         5m0s   \n",
       "826             False  20180727  185225         1         5m0s   \n",
       "827             False  20180727  185730         1         5m0s   \n",
       "\n",
       "                   drug genetics light  ... framerate dechorionated  \\\n",
       "0                  None     None  None  ...      30.0         False   \n",
       "1             SNAP-5114     None  None  ...      30.0         False   \n",
       "2                  None     None  None  ...      30.0         False   \n",
       "3                  None     None  None  ...      30.0         False   \n",
       "4             SNAP-5114     None  None  ...      30.0         False   \n",
       "..                  ...      ...   ...  ...       ...           ...   \n",
       "823  Dihydrokainic acid     None  None  ...      30.0         False   \n",
       "824  Dihydrokainic acid     None  None  ...      30.0         False   \n",
       "825  Dihydrokainic acid     None  None  ...      30.0         False   \n",
       "826  Dihydrokainic acid     None  None  ...      30.0         False   \n",
       "827  Dihydrokainic acid     None  None  ...      30.0         False   \n",
       "\n",
       "     brightness  infrared  min_temp max_temp  median_temp  stim_on  stim_off  \\\n",
       "0           0.0      81.0     18.50    18.75    18.629202      NaN       NaN   \n",
       "1           0.0      80.0     18.25    18.75    18.587413      NaN       NaN   \n",
       "2           0.0      81.0     18.75    19.50    19.170502      NaN       NaN   \n",
       "3           0.0      81.0     19.00    19.25    19.033170      NaN       NaN   \n",
       "4           0.0      80.0     18.50    18.50    18.500000      NaN       NaN   \n",
       "..          ...       ...       ...      ...          ...      ...       ...   \n",
       "823         0.0      81.0     18.25    18.25    18.250000      NaN       NaN   \n",
       "824         0.0      81.0     18.25    19.75    19.226257      NaN       NaN   \n",
       "825         0.0      81.0     19.00    19.25    19.089958      NaN       NaN   \n",
       "826         0.0      81.0     19.00    19.00    19.000000      NaN       NaN   \n",
       "827         0.0      81.0     18.75    19.00    18.986402      NaN       NaN   \n",
       "\n",
       "     stim_RGB  \n",
       "0        None  \n",
       "1        None  \n",
       "2        None  \n",
       "3        None  \n",
       "4        None  \n",
       "..        ...  \n",
       "823      None  \n",
       "824      None  \n",
       "825      None  \n",
       "826      None  \n",
       "827      None  \n",
       "\n",
       "[828 rows x 24 columns]"
      ]
     },
     "execution_count": 55,
     "metadata": {},
     "output_type": "execute_result"
    }
   ],
   "source": [
    "df_meta_extracted"
   ]
  },
  {
   "cell_type": "code",
   "execution_count": 56,
   "id": "5f732706-2407-4fe5-b073-a88d45fbe5ff",
   "metadata": {},
   "outputs": [
    {
     "name": "stdout",
     "output_type": "stream",
     "text": [
      "<class 'pandas.core.frame.DataFrame'>\n",
      "RangeIndex: 828 entries, 0 to 827\n",
      "Data columns (total 25 columns):\n",
      " #   Column            Non-Null Count  Dtype  \n",
      "---  ------            --------------  -----  \n",
      " 0   path_to_video     828 non-null    object \n",
      " 1   filename_video    828 non-null    object \n",
      " 2   format            828 non-null    object \n",
      " 3   metafile_missing  828 non-null    bool   \n",
      " 4   date              828 non-null    object \n",
      " 5   time              828 non-null    object \n",
      " 6   crowdsize         828 non-null    object \n",
      " 7   duration_m_s      828 non-null    object \n",
      " 8   drug              828 non-null    object \n",
      " 9   genetics          828 non-null    object \n",
      " 10  light             828 non-null    object \n",
      " 11  inverted          828 non-null    object \n",
      " 12  drugs             823 non-null    object \n",
      " 13  duration          823 non-null    float64\n",
      " 14  age               823 non-null    float64\n",
      " 15  framerate         823 non-null    float64\n",
      " 16  dechorionated     823 non-null    object \n",
      " 17  brightness        823 non-null    float64\n",
      " 18  infrared          823 non-null    float64\n",
      " 19  min_temp          823 non-null    float64\n",
      " 20  max_temp          823 non-null    float64\n",
      " 21  median_temp       823 non-null    float64\n",
      " 22  stim_on           73 non-null     float64\n",
      " 23  stim_off          73 non-null     float64\n",
      " 24  stim_RGB          73 non-null     object \n",
      "dtypes: bool(1), float64(10), object(14)\n",
      "memory usage: 156.2+ KB\n"
     ]
    }
   ],
   "source": [
    "df_meta = pd.concat([df_meta_video, df_meta_extracted], axis='columns')\n",
    "df_meta.info()"
   ]
  },
  {
   "cell_type": "code",
   "execution_count": 57,
   "id": "d0b7d4d5-ac57-48de-af10-123e234b7444",
   "metadata": {},
   "outputs": [
    {
     "name": "stdout",
     "output_type": "stream",
     "text": [
      "<class 'pandas.core.frame.DataFrame'>\n",
      "Int64Index: 823 entries, 0 to 827\n",
      "Data columns (total 25 columns):\n",
      " #   Column            Non-Null Count  Dtype  \n",
      "---  ------            --------------  -----  \n",
      " 0   path_to_video     823 non-null    object \n",
      " 1   filename_video    823 non-null    object \n",
      " 2   format            823 non-null    object \n",
      " 3   metafile_missing  823 non-null    bool   \n",
      " 4   date              823 non-null    object \n",
      " 5   time              823 non-null    object \n",
      " 6   crowdsize         823 non-null    object \n",
      " 7   duration_m_s      823 non-null    object \n",
      " 8   drug              823 non-null    object \n",
      " 9   genetics          823 non-null    object \n",
      " 10  light             823 non-null    object \n",
      " 11  inverted          823 non-null    object \n",
      " 12  drugs             823 non-null    object \n",
      " 13  duration          823 non-null    float64\n",
      " 14  age               823 non-null    float64\n",
      " 15  framerate         823 non-null    float64\n",
      " 16  dechorionated     823 non-null    object \n",
      " 17  brightness        823 non-null    float64\n",
      " 18  infrared          823 non-null    float64\n",
      " 19  min_temp          823 non-null    float64\n",
      " 20  max_temp          823 non-null    float64\n",
      " 21  median_temp       823 non-null    float64\n",
      " 22  stim_on           73 non-null     float64\n",
      " 23  stim_off          73 non-null     float64\n",
      " 24  stim_RGB          73 non-null     object \n",
      "dtypes: bool(1), float64(10), object(14)\n",
      "memory usage: 161.5+ KB\n"
     ]
    }
   ],
   "source": [
    "# Remove the rows if metadata file is missing\n",
    "# If metadata file is missing, I would rather not take that file into consideration !!!\n",
    "\n",
    "df_meta.drop(df_meta[df_meta['metafile_missing']==True].index, inplace=True)\n",
    "df_meta.info()"
   ]
  },
  {
   "cell_type": "code",
   "execution_count": 58,
   "id": "2ce38783-6e86-4dcd-b4fb-1075b7a55ea2",
   "metadata": {},
   "outputs": [],
   "source": [
    "df_meta.sort_values(by=['date', 'time', 'duration_m_s'], inplace=True)"
   ]
  },
  {
   "cell_type": "markdown",
   "id": "d95ac218-9433-4438-9cbf-51d39a3f8fbb",
   "metadata": {},
   "source": [
    "## Check for any inconsistencies in naming or spelling"
   ]
  },
  {
   "cell_type": "code",
   "execution_count": 59,
   "id": "3d3e9ab8-f152-4349-a184-8b69a09d5437",
   "metadata": {},
   "outputs": [
    {
     "data": {
      "text/plain": [
       "array(['None', 'SNAP-5114', '2-AminoEthylHydrogenSulfate',\n",
       "       '2aminoethylHydrogenSulfate', 'Dihydrokainic acid'], dtype=object)"
      ]
     },
     "execution_count": 59,
     "metadata": {},
     "output_type": "execute_result"
    }
   ],
   "source": [
    "## Any inconsistencies in naming (spelling, cases) of the drugs?\n",
    "df_meta.drug.unique()"
   ]
  },
  {
   "cell_type": "code",
   "execution_count": 60,
   "id": "5679e462-0660-41b1-946b-3d79743dbdc2",
   "metadata": {},
   "outputs": [],
   "source": [
    "# Seems like 2aminoethylHS is entered in 2 different ways. Will need to fix that inconsistency\n",
    "df_meta.replace(to_replace='2aminoethylHydrogenSulfate', value='2-AminoEthylHydrogenSulfate', inplace=True)"
   ]
  },
  {
   "cell_type": "code",
   "execution_count": 61,
   "id": "89cd135d-f099-4285-a445-45565134d38b",
   "metadata": {},
   "outputs": [
    {
     "data": {
      "text/plain": [
       "array(['None', 'SNAP-5114', '2-AminoEthylHydrogenSulfate',\n",
       "       'Dihydrokainic acid'], dtype=object)"
      ]
     },
     "execution_count": 61,
     "metadata": {},
     "output_type": "execute_result"
    }
   ],
   "source": [
    "df_meta.drug.unique()"
   ]
  },
  {
   "cell_type": "code",
   "execution_count": 62,
   "id": "c03ad8bf-3585-4b91-8a3c-a0011d6cb80d",
   "metadata": {},
   "outputs": [
    {
     "data": {
      "text/plain": [
       "array(['None', 'Light'], dtype=object)"
      ]
     },
     "execution_count": 62,
     "metadata": {},
     "output_type": "execute_result"
    }
   ],
   "source": [
    "df_meta.light.unique()"
   ]
  },
  {
   "cell_type": "code",
   "execution_count": 63,
   "id": "c173f6d5-1f29-4771-beca-83a60dc4bd6f",
   "metadata": {},
   "outputs": [
    {
     "data": {
      "text/plain": [
       "array(['None'], dtype=object)"
      ]
     },
     "execution_count": 63,
     "metadata": {},
     "output_type": "execute_result"
    }
   ],
   "source": [
    "df_meta.genetics.unique()"
   ]
  },
  {
   "cell_type": "code",
   "execution_count": 64,
   "id": "a6008ee8-a7ea-46d4-a827-9b49682eba42",
   "metadata": {},
   "outputs": [
    {
     "data": {
      "text/plain": [
       "array(['1', '2'], dtype=object)"
      ]
     },
     "execution_count": 64,
     "metadata": {},
     "output_type": "execute_result"
    }
   ],
   "source": [
    "df_meta.crowdsize.unique()"
   ]
  },
  {
   "cell_type": "code",
   "execution_count": 65,
   "id": "94a6f1be-6812-44fe-ad72-68df737e772e",
   "metadata": {},
   "outputs": [
    {
     "data": {
      "text/plain": [
       "12"
      ]
     },
     "execution_count": 65,
     "metadata": {},
     "output_type": "execute_result"
    }
   ],
   "source": [
    "len(df_meta[df_meta['crowdsize']=='2'].index)"
   ]
  },
  {
   "cell_type": "code",
   "execution_count": 66,
   "id": "572ea445-7cf6-4706-82e8-cbfb063be53e",
   "metadata": {},
   "outputs": [
    {
     "data": {
      "text/plain": [
       "array(['15m0s', '5m0s', '5m3s', '15m3s'], dtype=object)"
      ]
     },
     "execution_count": 66,
     "metadata": {},
     "output_type": "execute_result"
    }
   ],
   "source": [
    "df_meta.duration_m_s.unique()"
   ]
  },
  {
   "cell_type": "code",
   "execution_count": 67,
   "id": "77fd8bbb-da36-407e-9538-cde357d52033",
   "metadata": {},
   "outputs": [
    {
     "data": {
      "text/plain": [
       "array([900., 300., 303., 903.])"
      ]
     },
     "execution_count": 67,
     "metadata": {},
     "output_type": "execute_result"
    }
   ],
   "source": [
    "df_meta.duration.unique()"
   ]
  },
  {
   "cell_type": "code",
   "execution_count": 68,
   "id": "f1d4df6b-7b2c-4dbe-bc39-a7625938c569",
   "metadata": {},
   "outputs": [
    {
     "name": "stdout",
     "output_type": "stream",
     "text": [
      "<class 'pandas.core.frame.DataFrame'>\n",
      "Int64Index: 823 entries, 39 to 827\n",
      "Data columns (total 25 columns):\n",
      " #   Column            Non-Null Count  Dtype  \n",
      "---  ------            --------------  -----  \n",
      " 0   path_to_video     823 non-null    object \n",
      " 1   filename_video    823 non-null    object \n",
      " 2   format            823 non-null    object \n",
      " 3   metafile_missing  823 non-null    bool   \n",
      " 4   date              823 non-null    object \n",
      " 5   time              823 non-null    object \n",
      " 6   crowdsize         823 non-null    object \n",
      " 7   duration_m_s      823 non-null    object \n",
      " 8   drug              823 non-null    object \n",
      " 9   genetics          823 non-null    object \n",
      " 10  light             823 non-null    object \n",
      " 11  inverted          823 non-null    object \n",
      " 12  drugs             823 non-null    object \n",
      " 13  duration          823 non-null    float64\n",
      " 14  age               823 non-null    float64\n",
      " 15  framerate         823 non-null    float64\n",
      " 16  dechorionated     823 non-null    bool   \n",
      " 17  brightness        823 non-null    float64\n",
      " 18  infrared          823 non-null    float64\n",
      " 19  min_temp          823 non-null    float64\n",
      " 20  max_temp          823 non-null    float64\n",
      " 21  median_temp       823 non-null    float64\n",
      " 22  stim_on           73 non-null     float64\n",
      " 23  stim_off          73 non-null     float64\n",
      " 24  stim_RGB          73 non-null     object \n",
      "dtypes: bool(2), float64(10), object(13)\n",
      "memory usage: 155.9+ KB\n"
     ]
    }
   ],
   "source": [
    "df_meta.info()"
   ]
  },
  {
   "cell_type": "markdown",
   "id": "65330366-97fa-4385-8a5a-ec3cda100490",
   "metadata": {},
   "source": [
    "# Checking for bad recording conditions "
   ]
  },
  {
   "cell_type": "code",
   "execution_count": 69,
   "id": "5849a089-8dc4-4a5b-b124-efd31db8299c",
   "metadata": {},
   "outputs": [],
   "source": [
    "import openpyxl"
   ]
  },
  {
   "cell_type": "code",
   "execution_count": 72,
   "id": "f9808abf-c472-468d-9ded-e859b470fe36",
   "metadata": {},
   "outputs": [],
   "source": [
    "df_handpick_guide = pd.read_excel('../../../amphioxus_metadata.xlsx', engine='openpyxl')"
   ]
  },
  {
   "cell_type": "code",
   "execution_count": 73,
   "id": "2828fe4d-41a2-4eaf-a198-363a33d31e45",
   "metadata": {},
   "outputs": [
    {
     "name": "stdout",
     "output_type": "stream",
     "text": [
      "<class 'pandas.core.frame.DataFrame'>\n",
      "RangeIndex: 829 entries, 0 to 828\n",
      "Data columns (total 4 columns):\n",
      " #   Column      Non-Null Count  Dtype  \n",
      "---  ------      --------------  -----  \n",
      " 0   Unnamed: 0  829 non-null    int64  \n",
      " 1   video_path  829 non-null    object \n",
      " 2   score       705 non-null    float64\n",
      " 3   comments    292 non-null    object \n",
      "dtypes: float64(1), int64(1), object(2)\n",
      "memory usage: 26.0+ KB\n"
     ]
    }
   ],
   "source": [
    "df_handpick_guide.info()"
   ]
  },
  {
   "cell_type": "code",
   "execution_count": 74,
   "id": "c729362c-f6c6-4140-836f-94f3f01750cd",
   "metadata": {},
   "outputs": [],
   "source": [
    "df_handpicked = df_handpick_guide[(df_handpick_guide['score']==1) & (df_handpick_guide['comments'].isna())]['video_path']"
   ]
  },
  {
   "cell_type": "code",
   "execution_count": 75,
   "id": "76d5c6bc-eebb-42d4-be32-c6147c230719",
   "metadata": {},
   "outputs": [],
   "source": [
    "# Let us now try to use this guide to select good videos\n",
    "\n",
    "df_meta_handpicked = df_meta.merge(df_handpicked, left_on='path_to_video', right_on='video_path')"
   ]
  },
  {
   "cell_type": "markdown",
   "id": "d2d7e72b-7936-4fca-a96c-10a3b883298c",
   "metadata": {},
   "source": [
    "There is a missing video !!! "
   ]
  },
  {
   "cell_type": "code",
   "execution_count": 76,
   "id": "5a74aecc-f926-4604-8c5b-04194196a8b9",
   "metadata": {},
   "outputs": [
    {
     "name": "stdout",
     "output_type": "stream",
     "text": [
      "Number of videos after handpicking is 531\n"
     ]
    }
   ],
   "source": [
    "print(f'Number of videos after handpicking is {len(df_meta_handpicked)}')"
   ]
  },
  {
   "cell_type": "code",
   "execution_count": 77,
   "id": "378ceb28-4c6a-4cb1-9f37-3152f9156bb7",
   "metadata": {},
   "outputs": [
    {
     "name": "stdout",
     "output_type": "stream",
     "text": [
      "<class 'pandas.core.frame.DataFrame'>\n",
      "Int64Index: 531 entries, 0 to 530\n",
      "Data columns (total 26 columns):\n",
      " #   Column            Non-Null Count  Dtype  \n",
      "---  ------            --------------  -----  \n",
      " 0   path_to_video     531 non-null    object \n",
      " 1   filename_video    531 non-null    object \n",
      " 2   format            531 non-null    object \n",
      " 3   metafile_missing  531 non-null    bool   \n",
      " 4   date              531 non-null    object \n",
      " 5   time              531 non-null    object \n",
      " 6   crowdsize         531 non-null    object \n",
      " 7   duration_m_s      531 non-null    object \n",
      " 8   drug              531 non-null    object \n",
      " 9   genetics          531 non-null    object \n",
      " 10  light             531 non-null    object \n",
      " 11  inverted          531 non-null    object \n",
      " 12  drugs             531 non-null    object \n",
      " 13  duration          531 non-null    float64\n",
      " 14  age               531 non-null    float64\n",
      " 15  framerate         531 non-null    float64\n",
      " 16  dechorionated     531 non-null    bool   \n",
      " 17  brightness        531 non-null    float64\n",
      " 18  infrared          531 non-null    float64\n",
      " 19  min_temp          531 non-null    float64\n",
      " 20  max_temp          531 non-null    float64\n",
      " 21  median_temp       531 non-null    float64\n",
      " 22  stim_on           58 non-null     float64\n",
      " 23  stim_off          58 non-null     float64\n",
      " 24  stim_RGB          58 non-null     object \n",
      " 25  video_path        531 non-null    object \n",
      "dtypes: bool(2), float64(10), object(14)\n",
      "memory usage: 104.7+ KB\n"
     ]
    }
   ],
   "source": [
    "df_meta_handpicked.info()"
   ]
  },
  {
   "cell_type": "markdown",
   "id": "03d63e66-957d-4773-9819-e3021d06d603",
   "metadata": {},
   "source": [
    "# Examine variables "
   ]
  },
  {
   "cell_type": "code",
   "execution_count": 78,
   "id": "eaeffdf9-1188-4eac-a202-7d7b3e6b89e7",
   "metadata": {},
   "outputs": [
    {
     "name": "stdout",
     "output_type": "stream",
     "text": [
      "<class 'pandas.core.frame.DataFrame'>\n",
      "Int64Index: 500 entries, 0 to 530\n",
      "Data columns (total 26 columns):\n",
      " #   Column            Non-Null Count  Dtype  \n",
      "---  ------            --------------  -----  \n",
      " 0   path_to_video     500 non-null    object \n",
      " 1   filename_video    500 non-null    object \n",
      " 2   format            500 non-null    object \n",
      " 3   metafile_missing  500 non-null    bool   \n",
      " 4   date              500 non-null    object \n",
      " 5   time              500 non-null    object \n",
      " 6   crowdsize         500 non-null    object \n",
      " 7   duration_m_s      500 non-null    object \n",
      " 8   drug              500 non-null    object \n",
      " 9   genetics          500 non-null    object \n",
      " 10  light             500 non-null    object \n",
      " 11  inverted          500 non-null    object \n",
      " 12  drugs             500 non-null    object \n",
      " 13  duration          500 non-null    float64\n",
      " 14  age               500 non-null    float64\n",
      " 15  framerate         500 non-null    float64\n",
      " 16  dechorionated     500 non-null    bool   \n",
      " 17  brightness        500 non-null    float64\n",
      " 18  infrared          500 non-null    float64\n",
      " 19  min_temp          500 non-null    float64\n",
      " 20  max_temp          500 non-null    float64\n",
      " 21  median_temp       500 non-null    float64\n",
      " 22  stim_on           37 non-null     float64\n",
      " 23  stim_off          37 non-null     float64\n",
      " 24  stim_RGB          37 non-null     object \n",
      " 25  video_path        500 non-null    object \n",
      "dtypes: bool(2), float64(10), object(14)\n",
      "memory usage: 98.6+ KB\n"
     ]
    }
   ],
   "source": [
    "df_meta_handpicked.drop(df_meta_handpicked[df_meta_handpicked['framerate']!=30].index, inplace=True)\n",
    "df_meta_handpicked.info()"
   ]
  },
  {
   "cell_type": "code",
   "execution_count": 79,
   "id": "29ed0d2a-9d49-465a-bd8a-b2570704c81d",
   "metadata": {},
   "outputs": [
    {
     "data": {
      "text/html": [
       "<div>\n",
       "<style scoped>\n",
       "    .dataframe tbody tr th:only-of-type {\n",
       "        vertical-align: middle;\n",
       "    }\n",
       "\n",
       "    .dataframe tbody tr th {\n",
       "        vertical-align: top;\n",
       "    }\n",
       "\n",
       "    .dataframe thead th {\n",
       "        text-align: right;\n",
       "    }\n",
       "</style>\n",
       "<table border=\"1\" class=\"dataframe\">\n",
       "  <thead>\n",
       "    <tr style=\"text-align: right;\">\n",
       "      <th></th>\n",
       "      <th>duration</th>\n",
       "      <th>age</th>\n",
       "      <th>framerate</th>\n",
       "      <th>brightness</th>\n",
       "      <th>infrared</th>\n",
       "      <th>min_temp</th>\n",
       "      <th>max_temp</th>\n",
       "      <th>median_temp</th>\n",
       "      <th>stim_on</th>\n",
       "      <th>stim_off</th>\n",
       "    </tr>\n",
       "  </thead>\n",
       "  <tbody>\n",
       "    <tr>\n",
       "      <th>count</th>\n",
       "      <td>500.000000</td>\n",
       "      <td>500.000000</td>\n",
       "      <td>500.0</td>\n",
       "      <td>500.0</td>\n",
       "      <td>500.000000</td>\n",
       "      <td>500.000000</td>\n",
       "      <td>500.000000</td>\n",
       "      <td>500.000000</td>\n",
       "      <td>37.000000</td>\n",
       "      <td>37.000000</td>\n",
       "    </tr>\n",
       "    <tr>\n",
       "      <th>mean</th>\n",
       "      <td>468.030000</td>\n",
       "      <td>78.756000</td>\n",
       "      <td>30.0</td>\n",
       "      <td>0.0</td>\n",
       "      <td>80.298000</td>\n",
       "      <td>18.619500</td>\n",
       "      <td>18.897000</td>\n",
       "      <td>18.763211</td>\n",
       "      <td>29.189189</td>\n",
       "      <td>87.567568</td>\n",
       "    </tr>\n",
       "    <tr>\n",
       "      <th>std</th>\n",
       "      <td>269.663951</td>\n",
       "      <td>22.335582</td>\n",
       "      <td>0.0</td>\n",
       "      <td>0.0</td>\n",
       "      <td>0.799045</td>\n",
       "      <td>0.517814</td>\n",
       "      <td>0.581435</td>\n",
       "      <td>0.534609</td>\n",
       "      <td>4.931970</td>\n",
       "      <td>14.795909</td>\n",
       "    </tr>\n",
       "    <tr>\n",
       "      <th>min</th>\n",
       "      <td>300.000000</td>\n",
       "      <td>0.000000</td>\n",
       "      <td>30.0</td>\n",
       "      <td>0.0</td>\n",
       "      <td>79.000000</td>\n",
       "      <td>17.000000</td>\n",
       "      <td>17.250000</td>\n",
       "      <td>17.162815</td>\n",
       "      <td>0.000000</td>\n",
       "      <td>0.000000</td>\n",
       "    </tr>\n",
       "    <tr>\n",
       "      <th>25%</th>\n",
       "      <td>300.000000</td>\n",
       "      <td>83.000000</td>\n",
       "      <td>30.0</td>\n",
       "      <td>0.0</td>\n",
       "      <td>80.000000</td>\n",
       "      <td>18.250000</td>\n",
       "      <td>18.500000</td>\n",
       "      <td>18.498866</td>\n",
       "      <td>30.000000</td>\n",
       "      <td>90.000000</td>\n",
       "    </tr>\n",
       "    <tr>\n",
       "      <th>50%</th>\n",
       "      <td>300.000000</td>\n",
       "      <td>85.000000</td>\n",
       "      <td>30.0</td>\n",
       "      <td>0.0</td>\n",
       "      <td>80.000000</td>\n",
       "      <td>18.750000</td>\n",
       "      <td>19.000000</td>\n",
       "      <td>18.750000</td>\n",
       "      <td>30.000000</td>\n",
       "      <td>90.000000</td>\n",
       "    </tr>\n",
       "    <tr>\n",
       "      <th>75%</th>\n",
       "      <td>900.000000</td>\n",
       "      <td>88.000000</td>\n",
       "      <td>30.0</td>\n",
       "      <td>0.0</td>\n",
       "      <td>80.000000</td>\n",
       "      <td>19.000000</td>\n",
       "      <td>19.250000</td>\n",
       "      <td>19.042310</td>\n",
       "      <td>30.000000</td>\n",
       "      <td>90.000000</td>\n",
       "    </tr>\n",
       "    <tr>\n",
       "      <th>max</th>\n",
       "      <td>903.000000</td>\n",
       "      <td>91.000000</td>\n",
       "      <td>30.0</td>\n",
       "      <td>0.0</td>\n",
       "      <td>83.000000</td>\n",
       "      <td>20.000000</td>\n",
       "      <td>20.500000</td>\n",
       "      <td>20.316946</td>\n",
       "      <td>30.000000</td>\n",
       "      <td>90.000000</td>\n",
       "    </tr>\n",
       "  </tbody>\n",
       "</table>\n",
       "</div>"
      ],
      "text/plain": [
       "         duration         age  framerate  brightness    infrared    min_temp  \\\n",
       "count  500.000000  500.000000      500.0       500.0  500.000000  500.000000   \n",
       "mean   468.030000   78.756000       30.0         0.0   80.298000   18.619500   \n",
       "std    269.663951   22.335582        0.0         0.0    0.799045    0.517814   \n",
       "min    300.000000    0.000000       30.0         0.0   79.000000   17.000000   \n",
       "25%    300.000000   83.000000       30.0         0.0   80.000000   18.250000   \n",
       "50%    300.000000   85.000000       30.0         0.0   80.000000   18.750000   \n",
       "75%    900.000000   88.000000       30.0         0.0   80.000000   19.000000   \n",
       "max    903.000000   91.000000       30.0         0.0   83.000000   20.000000   \n",
       "\n",
       "         max_temp  median_temp    stim_on   stim_off  \n",
       "count  500.000000   500.000000  37.000000  37.000000  \n",
       "mean    18.897000    18.763211  29.189189  87.567568  \n",
       "std      0.581435     0.534609   4.931970  14.795909  \n",
       "min     17.250000    17.162815   0.000000   0.000000  \n",
       "25%     18.500000    18.498866  30.000000  90.000000  \n",
       "50%     19.000000    18.750000  30.000000  90.000000  \n",
       "75%     19.250000    19.042310  30.000000  90.000000  \n",
       "max     20.500000    20.316946  30.000000  90.000000  "
      ]
     },
     "execution_count": 79,
     "metadata": {},
     "output_type": "execute_result"
    }
   ],
   "source": [
    "df_meta_handpicked.describe()"
   ]
  },
  {
   "cell_type": "code",
   "execution_count": 80,
   "id": "a2854727-1db4-4b3b-a0ef-4f8ed19f66af",
   "metadata": {},
   "outputs": [
    {
     "data": {
      "text/html": [
       "<div>\n",
       "<style scoped>\n",
       "    .dataframe tbody tr th:only-of-type {\n",
       "        vertical-align: middle;\n",
       "    }\n",
       "\n",
       "    .dataframe tbody tr th {\n",
       "        vertical-align: top;\n",
       "    }\n",
       "\n",
       "    .dataframe thead th {\n",
       "        text-align: right;\n",
       "    }\n",
       "</style>\n",
       "<table border=\"1\" class=\"dataframe\">\n",
       "  <thead>\n",
       "    <tr style=\"text-align: right;\">\n",
       "      <th></th>\n",
       "      <th>drugs</th>\n",
       "      <th>drug</th>\n",
       "      <th>genetics</th>\n",
       "      <th>light</th>\n",
       "      <th>stim_RGB</th>\n",
       "      <th>inverted</th>\n",
       "      <th>filename_video</th>\n",
       "    </tr>\n",
       "  </thead>\n",
       "  <tbody>\n",
       "    <tr>\n",
       "      <th>count</th>\n",
       "      <td>500</td>\n",
       "      <td>500</td>\n",
       "      <td>500</td>\n",
       "      <td>500</td>\n",
       "      <td>37</td>\n",
       "      <td>500</td>\n",
       "      <td>500</td>\n",
       "    </tr>\n",
       "    <tr>\n",
       "      <th>unique</th>\n",
       "      <td>4</td>\n",
       "      <td>4</td>\n",
       "      <td>1</td>\n",
       "      <td>2</td>\n",
       "      <td>4</td>\n",
       "      <td>1</td>\n",
       "      <td>500</td>\n",
       "    </tr>\n",
       "    <tr>\n",
       "      <th>top</th>\n",
       "      <td>none</td>\n",
       "      <td>None</td>\n",
       "      <td>None</td>\n",
       "      <td>None</td>\n",
       "      <td>n000255000</td>\n",
       "      <td>INVERTED</td>\n",
       "      <td>20180719_114021_1_15m0s_None_None_None_INVERTE...</td>\n",
       "    </tr>\n",
       "    <tr>\n",
       "      <th>freq</th>\n",
       "      <td>269</td>\n",
       "      <td>279</td>\n",
       "      <td>500</td>\n",
       "      <td>463</td>\n",
       "      <td>24</td>\n",
       "      <td>500</td>\n",
       "      <td>1</td>\n",
       "    </tr>\n",
       "  </tbody>\n",
       "</table>\n",
       "</div>"
      ],
      "text/plain": [
       "       drugs  drug genetics light    stim_RGB  inverted  \\\n",
       "count    500   500      500   500          37       500   \n",
       "unique     4     4        1     2           4         1   \n",
       "top     none  None     None  None  n000255000  INVERTED   \n",
       "freq     269   279      500   463          24       500   \n",
       "\n",
       "                                           filename_video  \n",
       "count                                                 500  \n",
       "unique                                                500  \n",
       "top     20180719_114021_1_15m0s_None_None_None_INVERTE...  \n",
       "freq                                                    1  "
      ]
     },
     "execution_count": 80,
     "metadata": {},
     "output_type": "execute_result"
    }
   ],
   "source": [
    "df_meta_handpicked.describe(include=['object'])[['drugs','drug', 'genetics', 'light', 'stim_RGB', 'inverted','filename_video']]"
   ]
  },
  {
   "cell_type": "code",
   "execution_count": 81,
   "id": "dba2d108-e4a9-466e-bad7-a92d5daf6a3f",
   "metadata": {},
   "outputs": [
    {
     "data": {
      "image/png": "[encoded data removed]",
      "text/plain": [
       "<Figure size 1080x360 with 3 Axes>"
      ]
     },
     "metadata": {
      "needs_background": "light"
     },
     "output_type": "display_data"
    }
   ],
   "source": [
    "cols_to_plot = ['age', 'duration', 'framerate']\n",
    "fig, axes = plt.subplots(1,3, figsize = (15,5))\n",
    "axes = axes.ravel()\n",
    "for i, col in enumerate(cols_to_plot):\n",
    "    df_meta_handpicked[col].hist(ax=axes[i])"
   ]
  },
  {
   "cell_type": "code",
   "execution_count": 82,
   "id": "3fe66aee-db88-4d7e-ac97-f4328058d146",
   "metadata": {},
   "outputs": [
    {
     "data": {
      "image/png": "[encoded data removed]",
      "text/plain": [
       "<Figure size 360x576 with 4 Axes>"
      ]
     },
     "metadata": {
      "needs_background": "light"
     },
     "output_type": "display_data"
    }
   ],
   "source": [
    "cols_to_plot = ['drug', 'drugs', 'light', 'stim_RGB']\n",
    "fig, axes = plt.subplots(4,1, figsize = (5,8))\n",
    "for i, col in enumerate(cols_to_plot):\n",
    "    df_meta_handpicked[col].value_counts().plot(kind='barh', ax=axes[i])"
   ]
  },
  {
   "cell_type": "code",
   "execution_count": 83,
   "id": "d46a40ab-a895-4283-8c18-ee8935acd9f7",
   "metadata": {},
   "outputs": [
    {
     "data": {
      "text/plain": [
       "<AxesSubplot:xlabel='age', ylabel='Count'>"
      ]
     },
     "execution_count": 83,
     "metadata": {},
     "output_type": "execute_result"
    },
    {
     "data": {
      "image/png": "[encoded data removed]",
      "text/plain": [
       "<Figure size 432x288 with 1 Axes>"
      ]
     },
     "metadata": {
      "needs_background": "light"
     },
     "output_type": "display_data"
    }
   ],
   "source": [
    "sns.histplot(data=df_meta_handpicked, x='age', hue='date')"
   ]
  },
  {
   "cell_type": "code",
   "execution_count": 84,
   "id": "07b32e5f-6aee-41c5-bc7e-87675faf6e40",
   "metadata": {},
   "outputs": [],
   "source": [
    "# sns.histplot(data=df_meta_handpicked, x='framerate', hue='date')"
   ]
  },
  {
   "cell_type": "code",
   "execution_count": 85,
   "id": "8c619c51-ed98-4a74-a2af-3eaad4b5758a",
   "metadata": {},
   "outputs": [
    {
     "data": {
      "text/plain": [
       "<AxesSubplot:xlabel='drug', ylabel='Count'>"
      ]
     },
     "execution_count": 85,
     "metadata": {},
     "output_type": "execute_result"
    },
    {
     "data": {
      "image/png": "[encoded data removed]",
      "text/plain": [
       "<Figure size 432x288 with 1 Axes>"
      ]
     },
     "metadata": {
      "needs_background": "light"
     },
     "output_type": "display_data"
    }
   ],
   "source": [
    "sns.histplot(data=df_meta_handpicked, x='drug', hue='drugs')"
   ]
  },
  {
   "cell_type": "code",
   "execution_count": 86,
   "id": "96e94d40-e5c1-4645-923c-235ba5ece8ee",
   "metadata": {},
   "outputs": [
    {
     "data": {
      "text/plain": [
       "<AxesSubplot:xlabel='drugs', ylabel='Count'>"
      ]
     },
     "execution_count": 86,
     "metadata": {},
     "output_type": "execute_result"
    },
    {
     "data": {
      "image/png": "[encoded data removed]",
      "text/plain": [
       "<Figure size 432x288 with 1 Axes>"
      ]
     },
     "metadata": {
      "needs_background": "light"
     },
     "output_type": "display_data"
    }
   ],
   "source": [
    "sns.histplot(data=df_meta_handpicked, x='drugs', hue='date')"
   ]
  },
  {
   "cell_type": "code",
   "execution_count": 87,
   "id": "c3f196f0-39ff-4866-84d7-25d4029cc4da",
   "metadata": {},
   "outputs": [
    {
     "data": {
      "text/plain": [
       "<AxesSubplot:xlabel='age', ylabel='Count'>"
      ]
     },
     "execution_count": 87,
     "metadata": {},
     "output_type": "execute_result"
    },
    {
     "data": {
      "image/png": "[encoded data removed]",
      "text/plain": [
       "<Figure size 432x288 with 1 Axes>"
      ]
     },
     "metadata": {
      "needs_background": "light"
     },
     "output_type": "display_data"
    }
   ],
   "source": [
    "sns.histplot(data=df_meta_handpicked, x='age', hue='drugs')"
   ]
  },
  {
   "cell_type": "code",
   "execution_count": 88,
   "id": "7a7aeec5-a888-4527-8c92-c95bc0e11164",
   "metadata": {},
   "outputs": [
    {
     "data": {
      "text/plain": [
       "<AxesSubplot:xlabel='age', ylabel='Count'>"
      ]
     },
     "execution_count": 88,
     "metadata": {},
     "output_type": "execute_result"
    },
    {
     "data": {
      "image/png": "[encoded data removed]",
      "text/plain": [
       "<Figure size 432x288 with 1 Axes>"
      ]
     },
     "metadata": {
      "needs_background": "light"
     },
     "output_type": "display_data"
    }
   ],
   "source": [
    "sns.histplot(data=df_meta_handpicked, x='age', hue='drug')"
   ]
  },
  {
   "cell_type": "code",
   "execution_count": 89,
   "id": "c4984acd-7d45-46e3-ac7d-cc46148fdeac",
   "metadata": {},
   "outputs": [
    {
     "data": {
      "text/plain": [
       "<AxesSubplot:xlabel='age', ylabel='Count'>"
      ]
     },
     "execution_count": 89,
     "metadata": {},
     "output_type": "execute_result"
    },
    {
     "data": {
      "image/png": "[encoded data removed]",
      "text/plain": [
       "<Figure size 432x288 with 1 Axes>"
      ]
     },
     "metadata": {
      "needs_background": "light"
     },
     "output_type": "display_data"
    }
   ],
   "source": [
    "sns.histplot(data=df_meta_handpicked, x='age', hue='framerate')"
   ]
  },
  {
   "cell_type": "code",
   "execution_count": 90,
   "id": "edf7dd85-b884-4ca2-89eb-66bc0216a214",
   "metadata": {},
   "outputs": [
    {
     "data": {
      "text/plain": [
       "500"
      ]
     },
     "execution_count": 90,
     "metadata": {},
     "output_type": "execute_result"
    }
   ],
   "source": [
    "len(df_meta_handpicked.index)"
   ]
  },
  {
   "cell_type": "code",
   "execution_count": 91,
   "id": "2563cb0e-615b-4cf6-a959-8b002a0e8e18",
   "metadata": {},
   "outputs": [],
   "source": [
    "# df_meta_handpicked[(df_meta_handpicked['age'] < 24)]['filename_video'].iloc[0]"
   ]
  },
  {
   "cell_type": "markdown",
   "id": "6dd66df5-1edf-41ca-bd39-828ac409ba9a",
   "metadata": {},
   "source": [
    "# Curated Dataset"
   ]
  },
  {
   "cell_type": "code",
   "execution_count": 92,
   "id": "aa84fdda-38a8-4ab6-b32a-b130f3e69b92",
   "metadata": {},
   "outputs": [
    {
     "data": {
      "text/plain": [
       "Index(['path_to_video', 'filename_video', 'format', 'metafile_missing', 'date',\n",
       "       'time', 'crowdsize', 'duration_m_s', 'drug', 'genetics', 'light',\n",
       "       'inverted', 'drugs', 'duration', 'age', 'framerate', 'dechorionated',\n",
       "       'brightness', 'infrared', 'min_temp', 'max_temp', 'median_temp',\n",
       "       'stim_on', 'stim_off', 'stim_RGB', 'video_path'],\n",
       "      dtype='object')"
      ]
     },
     "execution_count": 92,
     "metadata": {},
     "output_type": "execute_result"
    }
   ],
   "source": [
    "df_meta_handpicked.columns"
   ]
  },
  {
   "cell_type": "code",
   "execution_count": 93,
   "id": "e99c9766-65c8-4abf-b977-9dc1d96fe874",
   "metadata": {},
   "outputs": [],
   "source": [
    "df_curated = df_meta_handpicked[['path_to_video', 'filename_video', 'date','time', 'light', 'drugs', 'duration', 'age', 'stim_on', 'stim_off', 'stim_RGB']]"
   ]
  },
  {
   "cell_type": "markdown",
   "id": "df4bfbac-4c3a-4d69-b754-c13aa78fd898",
   "metadata": {},
   "source": [
    "# DLC results"
   ]
  },
  {
   "cell_type": "code",
   "execution_count": 94,
   "id": "7594a9af-c861-4924-8aea-5dffff386c56",
   "metadata": {},
   "outputs": [
    {
     "name": "stdout",
     "output_type": "stream",
     "text": [
      "Number of DLC analysed files 507\n"
     ]
    }
   ],
   "source": [
    "dlc_results_folder = '../../data/dlc_results/'\n",
    "\n",
    "csv_file_list = []\n",
    "\n",
    "for file in glob.glob(f'{dlc_results_folder}*.h5'):\n",
    "    csv_file_list.append(file)\n",
    "print(f'Number of DLC analysed files {len(csv_file_list)}')"
   ]
  },
  {
   "cell_type": "code",
   "execution_count": 95,
   "id": "bd808ea2-7b6f-4008-b745-1dd375e1e9e6",
   "metadata": {},
   "outputs": [
    {
     "data": {
      "text/plain": [
       "'../../data/dlc_results/20180724_174921_1_5m0s_None_None_None_INVERTEDDLC_resnet50_AmphioxusJun19shuffle1_110000_el.h5'"
      ]
     },
     "execution_count": 95,
     "metadata": {},
     "output_type": "execute_result"
    }
   ],
   "source": [
    "csv_file_list[0]"
   ]
  },
  {
   "cell_type": "code",
   "execution_count": 96,
   "id": "bdcfb8d0-a56a-4e8b-b40b-593b5933858c",
   "metadata": {},
   "outputs": [],
   "source": [
    "def bool_exist_dlc_result(x, dlc_results_folder = '../../data/dlc_results/'):\n",
    "    filename  = x.replace('.avi', 'DLC_resnet50_AmphioxusJun19shuffle1_110000_el.h5')\n",
    "    filepath = os.path.join(dlc_results_folder, filename)\n",
    "    if os.path.isfile(filepath):\n",
    "        return filepath"
   ]
  },
  {
   "cell_type": "code",
   "execution_count": 97,
   "id": "a57bcdea-6c03-4523-b4df-335df9705c03",
   "metadata": {},
   "outputs": [],
   "source": [
    "list_dlc_results = df_curated['filename_video'].apply(lambda x: bool_exist_dlc_result(x))"
   ]
  },
  {
   "cell_type": "code",
   "execution_count": 98,
   "id": "0ae311e2-fd30-4c89-bcbe-96ab150c684a",
   "metadata": {},
   "outputs": [
    {
     "name": "stderr",
     "output_type": "stream",
     "text": [
      "/tmp/ipykernel_1197925/3444434780.py:1: SettingWithCopyWarning: \n",
      "A value is trying to be set on a copy of a slice from a DataFrame.\n",
      "Try using .loc[row_indexer,col_indexer] = value instead\n",
      "\n",
      "See the caveats in the documentation: https://pandas.pydata.org/pandas-docs/stable/user_guide/indexing.html#returning-a-view-versus-a-copy\n",
      "  df_curated.loc[:,'dlc_result_file'] = list_dlc_results\n"
     ]
    }
   ],
   "source": [
    "df_curated.loc[:,'dlc_result_file'] = list_dlc_results"
   ]
  },
  {
   "cell_type": "code",
   "execution_count": 99,
   "id": "62256f87-724d-4346-93ab-074ee3b9b524",
   "metadata": {},
   "outputs": [
    {
     "name": "stdout",
     "output_type": "stream",
     "text": [
      "<class 'pandas.core.frame.DataFrame'>\n",
      "Int64Index: 500 entries, 0 to 530\n",
      "Data columns (total 12 columns):\n",
      " #   Column           Non-Null Count  Dtype  \n",
      "---  ------           --------------  -----  \n",
      " 0   path_to_video    500 non-null    object \n",
      " 1   filename_video   500 non-null    object \n",
      " 2   date             500 non-null    object \n",
      " 3   time             500 non-null    object \n",
      " 4   light            500 non-null    object \n",
      " 5   drugs            500 non-null    object \n",
      " 6   duration         500 non-null    float64\n",
      " 7   age              500 non-null    float64\n",
      " 8   stim_on          37 non-null     float64\n",
      " 9   stim_off         37 non-null     float64\n",
      " 10  stim_RGB         37 non-null     object \n",
      " 11  dlc_result_file  500 non-null    object \n",
      "dtypes: float64(4), object(8)\n",
      "memory usage: 50.8+ KB\n"
     ]
    }
   ],
   "source": [
    "df_curated.info()"
   ]
  },
  {
   "cell_type": "markdown",
   "id": "6d3c13da-0160-4494-bf4f-bbefc5cbd8ae",
   "metadata": {},
   "source": [
    "## DLC files are Missing !!! Where did these go ????"
   ]
  },
  {
   "cell_type": "code",
   "execution_count": 100,
   "id": "c6bc86b5-33ef-45d9-abee-d540aad8b66f",
   "metadata": {},
   "outputs": [],
   "source": [
    "df_missing_dlc = df_curated[df_curated['dlc_result_file'].isna()]"
   ]
  },
  {
   "cell_type": "code",
   "execution_count": 101,
   "id": "2630dd74-8779-4f09-828a-bcb5b08a19de",
   "metadata": {},
   "outputs": [
    {
     "data": {
      "text/plain": [
       "array([], dtype=object)"
      ]
     },
     "execution_count": 101,
     "metadata": {},
     "output_type": "execute_result"
    }
   ],
   "source": [
    "df_missing_dlc.date.unique()"
   ]
  },
  {
   "cell_type": "code",
   "execution_count": 102,
   "id": "d6eeea44-bddb-4737-9b44-85f428345d73",
   "metadata": {},
   "outputs": [
    {
     "data": {
      "text/html": [
       "<div>\n",
       "<style scoped>\n",
       "    .dataframe tbody tr th:only-of-type {\n",
       "        vertical-align: middle;\n",
       "    }\n",
       "\n",
       "    .dataframe tbody tr th {\n",
       "        vertical-align: top;\n",
       "    }\n",
       "\n",
       "    .dataframe thead th {\n",
       "        text-align: right;\n",
       "    }\n",
       "</style>\n",
       "<table border=\"1\" class=\"dataframe\">\n",
       "  <thead>\n",
       "    <tr style=\"text-align: right;\">\n",
       "      <th></th>\n",
       "      <th>path_to_video</th>\n",
       "      <th>filename_video</th>\n",
       "      <th>date</th>\n",
       "      <th>time</th>\n",
       "      <th>light</th>\n",
       "      <th>drugs</th>\n",
       "      <th>duration</th>\n",
       "      <th>age</th>\n",
       "      <th>stim_on</th>\n",
       "      <th>stim_off</th>\n",
       "      <th>stim_RGB</th>\n",
       "      <th>dlc_result_file</th>\n",
       "    </tr>\n",
       "  </thead>\n",
       "  <tbody>\n",
       "  </tbody>\n",
       "</table>\n",
       "</div>"
      ],
      "text/plain": [
       "Empty DataFrame\n",
       "Columns: [path_to_video, filename_video, date, time, light, drugs, duration, age, stim_on, stim_off, stim_RGB, dlc_result_file]\n",
       "Index: []"
      ]
     },
     "execution_count": 102,
     "metadata": {},
     "output_type": "execute_result"
    }
   ],
   "source": [
    "df_missing_dlc"
   ]
  },
  {
   "cell_type": "code",
   "execution_count": 103,
   "id": "ce9de750-8f27-4af7-b76c-25c6e1cbc89e",
   "metadata": {},
   "outputs": [],
   "source": [
    "missing_paths = list(df_missing_dlc['path_to_video'])"
   ]
  },
  {
   "cell_type": "code",
   "execution_count": 104,
   "id": "bb4ec4bd-d01c-4fc6-b03b-6b0df3d8859f",
   "metadata": {},
   "outputs": [
    {
     "data": {
      "text/plain": [
       "0"
      ]
     },
     "execution_count": 104,
     "metadata": {},
     "output_type": "execute_result"
    }
   ],
   "source": [
    "len(missing_paths)"
   ]
  },
  {
   "cell_type": "code",
   "execution_count": 105,
   "id": "3a660f2c-342d-4e50-8842-876b845b9edb",
   "metadata": {},
   "outputs": [],
   "source": [
    "with open(r'path_to_videos_with_dlc_results_missing3.txt', 'w') as miss_fp:\n",
    "    for item in missing_paths:\n",
    "        miss_fp.write(f\"{item}\\n\")"
   ]
  },
  {
   "cell_type": "code",
   "execution_count": 106,
   "id": "c12a50ac-d1e9-492c-b9dc-ad01c54d7d24",
   "metadata": {},
   "outputs": [
    {
     "data": {
      "text/plain": [
       "[]"
      ]
     },
     "execution_count": 106,
     "metadata": {},
     "output_type": "execute_result"
    }
   ],
   "source": [
    "list(df_missing_dlc.path_to_video[:2])"
   ]
  },
  {
   "cell_type": "code",
   "execution_count": 107,
   "id": "6a680d00-451b-4b59-b3bc-c6cc812eaa4f",
   "metadata": {},
   "outputs": [
    {
     "data": {
      "text/html": [
       "<div>\n",
       "<style scoped>\n",
       "    .dataframe tbody tr th:only-of-type {\n",
       "        vertical-align: middle;\n",
       "    }\n",
       "\n",
       "    .dataframe tbody tr th {\n",
       "        vertical-align: top;\n",
       "    }\n",
       "\n",
       "    .dataframe thead th {\n",
       "        text-align: right;\n",
       "    }\n",
       "</style>\n",
       "<table border=\"1\" class=\"dataframe\">\n",
       "  <thead>\n",
       "    <tr style=\"text-align: right;\">\n",
       "      <th></th>\n",
       "      <th>path_to_video</th>\n",
       "      <th>filename_video</th>\n",
       "      <th>date</th>\n",
       "      <th>time</th>\n",
       "      <th>light</th>\n",
       "      <th>drugs</th>\n",
       "      <th>duration</th>\n",
       "      <th>age</th>\n",
       "      <th>stim_on</th>\n",
       "      <th>stim_off</th>\n",
       "      <th>stim_RGB</th>\n",
       "      <th>dlc_result_file</th>\n",
       "    </tr>\n",
       "  </thead>\n",
       "  <tbody>\n",
       "  </tbody>\n",
       "</table>\n",
       "</div>"
      ],
      "text/plain": [
       "Empty DataFrame\n",
       "Columns: [path_to_video, filename_video, date, time, light, drugs, duration, age, stim_on, stim_off, stim_RGB, dlc_result_file]\n",
       "Index: []"
      ]
     },
     "execution_count": 107,
     "metadata": {},
     "output_type": "execute_result"
    }
   ],
   "source": [
    "df_missing_dlc[df_missing_dlc['date'] == '20180727']"
   ]
  },
  {
   "cell_type": "code",
   "execution_count": 108,
   "id": "cae99306-bbc4-4a2e-a821-c5d02cf6e0cf",
   "metadata": {},
   "outputs": [
    {
     "data": {
      "text/plain": [
       "<AxesSubplot:>"
      ]
     },
     "execution_count": 108,
     "metadata": {},
     "output_type": "execute_result"
    },
    {
     "data": {
      "image/png": "[encoded data removed]",
      "text/plain": [
       "<Figure size 432x288 with 1 Axes>"
      ]
     },
     "metadata": {
      "needs_background": "light"
     },
     "output_type": "display_data"
    }
   ],
   "source": [
    "sns.histplot(data=df_missing_dlc, x='age', hue='date')"
   ]
  },
  {
   "cell_type": "code",
   "execution_count": 109,
   "id": "dd88a5c4-557b-45e6-8bd6-010b1681870f",
   "metadata": {},
   "outputs": [
    {
     "data": {
      "text/plain": [
       "<AxesSubplot:>"
      ]
     },
     "execution_count": 109,
     "metadata": {},
     "output_type": "execute_result"
    },
    {
     "data": {
      "image/png": "[encoded data removed]",
      "text/plain": [
       "<Figure size 432x288 with 1 Axes>"
      ]
     },
     "metadata": {
      "needs_background": "light"
     },
     "output_type": "display_data"
    }
   ],
   "source": [
    "sns.histplot(data=df_missing_dlc, x='age', hue='drugs')"
   ]
  },
  {
   "cell_type": "markdown",
   "id": "167928c0-c8f0-4b9c-9456-24cf5d144968",
   "metadata": {},
   "source": [
    "## DLC -ed : What we already have !"
   ]
  },
  {
   "cell_type": "code",
   "execution_count": 110,
   "id": "66b45b1e-48c2-4003-b2b7-eb09e0a99b19",
   "metadata": {},
   "outputs": [],
   "source": [
    "df_DLCed = df_curated[df_curated['dlc_result_file'].notna()]"
   ]
  },
  {
   "cell_type": "code",
   "execution_count": 111,
   "id": "7e9c0acd-ed7f-4217-a4a4-6e38a690f5c3",
   "metadata": {},
   "outputs": [
    {
     "data": {
      "text/plain": [
       "500"
      ]
     },
     "execution_count": 111,
     "metadata": {},
     "output_type": "execute_result"
    }
   ],
   "source": [
    "len(df_DLCed.index)"
   ]
  },
  {
   "cell_type": "code",
   "execution_count": 112,
   "id": "e7862d71-d7b7-47db-8f37-49810afcc77f",
   "metadata": {},
   "outputs": [
    {
     "data": {
      "text/plain": [
       "<AxesSubplot:xlabel='age', ylabel='Count'>"
      ]
     },
     "execution_count": 112,
     "metadata": {},
     "output_type": "execute_result"
    },
    {
     "data": {
      "image/png": "[encoded data removed]",
      "text/plain": [
       "<Figure size 432x288 with 1 Axes>"
      ]
     },
     "metadata": {
      "needs_background": "light"
     },
     "output_type": "display_data"
    }
   ],
   "source": [
    "sns.histplot(data=df_DLCed, x='age', hue='drugs')"
   ]
  },
  {
   "cell_type": "code",
   "execution_count": 113,
   "id": "913720f4-5203-48ce-b0c5-06f09f2e51bb",
   "metadata": {},
   "outputs": [
    {
     "data": {
      "text/plain": [
       "<AxesSubplot:xlabel='age', ylabel='Count'>"
      ]
     },
     "execution_count": 113,
     "metadata": {},
     "output_type": "execute_result"
    },
    {
     "data": {
      "image/png": "[encoded data removed]",
      "text/plain": [
       "<Figure size 432x288 with 1 Axes>"
      ]
     },
     "metadata": {
      "needs_background": "light"
     },
     "output_type": "display_data"
    }
   ],
   "source": [
    "sns.histplot(data=df_DLCed, x='age', hue='date')"
   ]
  },
  {
   "cell_type": "code",
   "execution_count": 114,
   "id": "649be92a-fbfc-4fbf-b059-a308beb4f772",
   "metadata": {},
   "outputs": [
    {
     "data": {
      "text/plain": [
       "<AxesSubplot:xlabel='date', ylabel='Count'>"
      ]
     },
     "execution_count": 114,
     "metadata": {},
     "output_type": "execute_result"
    },
    {
     "data": {
      "image/png": "[encoded data removed]",
      "text/plain": [
       "<Figure size 432x288 with 1 Axes>"
      ]
     },
     "metadata": {
      "needs_background": "light"
     },
     "output_type": "display_data"
    }
   ],
   "source": [
    "sns.histplot(data=df_DLCed, x='date', hue='drugs')"
   ]
  },
  {
   "cell_type": "code",
   "execution_count": 115,
   "id": "da09c05f-98a1-4914-b8f8-8e4f698c9c00",
   "metadata": {},
   "outputs": [
    {
     "data": {
      "text/plain": [
       "<AxesSubplot:xlabel='light', ylabel='Count'>"
      ]
     },
     "execution_count": 115,
     "metadata": {},
     "output_type": "execute_result"
    },
    {
     "data": {
      "image/png": "[encoded data removed]",
      "text/plain": [
       "<Figure size 432x288 with 1 Axes>"
      ]
     },
     "metadata": {
      "needs_background": "light"
     },
     "output_type": "display_data"
    }
   ],
   "source": [
    "sns.histplot(data=df_DLCed, x='light', hue='drugs')"
   ]
  },
  {
   "cell_type": "markdown",
   "id": "eff9a12c",
   "metadata": {},
   "source": [
    "# Metadata"
   ]
  },
  {
   "cell_type": "code",
   "execution_count": 117,
   "id": "e845fd75",
   "metadata": {},
   "outputs": [],
   "source": [
    "df_DLCed.to_pickle('../../data/amphioxus_metadata_fina500.pickle')"
   ]
  },
  {
   "cell_type": "markdown",
   "id": "1817d11c-48e9-41d6-84bb-bd4cd46d09c7",
   "metadata": {},
   "source": [
    "# Datasets"
   ]
  },
  {
   "cell_type": "markdown",
   "id": "f31a21eb-57d5-44f9-8d57-6182b27d17f3",
   "metadata": {},
   "source": [
    "I can now create a behavioral space and look at how the distribution/occupation varies according to:\n",
    "- age \n",
    "- drug\n",
    "- light stimulus"
   ]
  },
  {
   "cell_type": "code",
   "execution_count": 398,
   "id": "c2d2fb51-c49b-4e68-a874-09c30adb30b9",
   "metadata": {},
   "outputs": [
    {
     "data": {
      "text/plain": [
       "'../../data/dlc_results/20180719_114021_1_15m0s_None_None_None_INVERTEDDLC_resnet50_AmphioxusJun19shuffle1_110000_el.h5'"
      ]
     },
     "execution_count": 398,
     "metadata": {},
     "output_type": "execute_result"
    }
   ],
   "source": [
    "df_DLCed['dlc_result_file'].iloc[0]"
   ]
  },
  {
   "cell_type": "code",
   "execution_count": 399,
   "id": "30545a2d-7f9d-442d-8930-3e57206098b9",
   "metadata": {},
   "outputs": [],
   "source": [
    "with open(r'path_to_videos_with_dlc_results_to_calc_speed.txt', 'w') as fp:\n",
    "    for item in list(df_DLCed['dlc_result_file']):\n",
    "        fp.write(f\"{item}\\n\")"
   ]
  },
  {
   "cell_type": "code",
   "execution_count": 400,
   "id": "695ed1fd-8248-4389-b85e-7063bfea0db8",
   "metadata": {},
   "outputs": [
    {
     "data": {
      "text/plain": [
       "Index(['path_to_video', 'filename_video', 'date', 'time', 'light', 'drugs',\n",
       "       'duration', 'age', 'stim_on', 'stim_off', 'stim_RGB',\n",
       "       'dlc_result_file'],\n",
       "      dtype='object')"
      ]
     },
     "execution_count": 400,
     "metadata": {},
     "output_type": "execute_result"
    }
   ],
   "source": [
    "df_DLCed.columns"
   ]
  },
  {
   "cell_type": "code",
   "execution_count": 353,
   "id": "113f7b69-bcb5-4710-9ef4-73d704c42c36",
   "metadata": {},
   "outputs": [
    {
     "data": {
      "text/plain": [
       "array(['/media/athira/Amphioxus1/20180720/Exp_20180720_093811_1_15m0s_None_None_None/20180720_093811_1_15m0s_None_None_None_INVERTED.avi'],\n",
       "      dtype=object)"
      ]
     },
     "execution_count": 353,
     "metadata": {},
     "output_type": "execute_result"
    }
   ],
   "source": [
    "df_DLCed[df_DLCed['dlc_result_file'] == '../../data/dlc_results/20180720_093811_1_15m0s_None_None_None_INVERTEDDLC_resnet50_AmphioxusJun19shuffle1_110000_el.h5']['path_to_video'].values"
   ]
  },
  {
   "cell_type": "code",
   "execution_count": 354,
   "id": "a27f66bd-930d-456a-ae6d-d0974f218711",
   "metadata": {},
   "outputs": [
    {
     "data": {
      "text/plain": [
       "'/media/athira/Amphioxus1/20180720/Exp_20180720_093811_1_15m0s_None_None_None/20180720_093811_1_15m0s_None_None_None_INVERTED.avi'"
      ]
     },
     "execution_count": 354,
     "metadata": {},
     "output_type": "execute_result"
    }
   ],
   "source": [
    "'/media/athira/Amphioxus1/20180720/Exp_20180720_093811_1_15m0s_None_None_None/20180720_093811_1_15m0s_None_None_None_INVERTED.avi'"
   ]
  },
  {
   "cell_type": "code",
   "execution_count": 118,
   "id": "03ffd999-cc13-4068-afb4-2874b3c49d32",
   "metadata": {},
   "outputs": [],
   "source": [
    "import hmmlearn"
   ]
  },
  {
   "cell_type": "code",
   "execution_count": null,
   "id": "9518059a-8420-45fa-b5e5-de7758888494",
   "metadata": {},
   "outputs": [],
   "source": []
  },
  {
   "cell_type": "code",
   "execution_count": null,
   "id": "29d0dd02-d286-458b-8756-3db52a43dc96",
   "metadata": {},
   "outputs": [],
   "source": []
  }
 ],
 "metadata": {
  "kernelspec": {
   "display_name": "Python 3 (ipykernel)",
   "language": "python",
   "name": "python3"
  },
  "language_info": {
   "codemirror_mode": {
    "name": "ipython",
    "version": 3
   },
   "file_extension": ".py",
   "mimetype": "text/x-python",
   "name": "python",
   "nbconvert_exporter": "python",
   "pygments_lexer": "ipython3",
   "version": "3.8.5"
  },
  "toc": {
   "base_numbering": 1,
   "nav_menu": {},
   "number_sections": true,
   "sideBar": true,
   "skip_h1_title": false,
   "title_cell": "Table of Contents",
   "title_sidebar": "Contents",
   "toc_cell": false,
   "toc_position": {},
   "toc_section_display": true,
   "toc_window_display": false
  }
 },
 "nbformat": 4,
 "nbformat_minor": 5
}
